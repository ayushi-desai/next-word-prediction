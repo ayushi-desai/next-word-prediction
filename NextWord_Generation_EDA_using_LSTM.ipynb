{
  "cells": [
    {
      "cell_type": "markdown",
      "metadata": {
        "id": "w2p_bqZM3WYu"
      },
      "source": [
        "# Table of Contents\n",
        "\n",
        "1. Import Libraries\n",
        "2. Load Dataset\n",
        "3. Preprocessing and Exploring Text Data\n",
        "  \n",
        "  3.1 Text Cleaning\n",
        "  \n",
        "  3.2 Finding Word Count\n",
        "\n",
        "  3.3 Find and Replace Rare Words with \"Unknown\" Token\n",
        "\n",
        "4. Data Preparation\n",
        "\n",
        "  4.1 Prepare Sequences\n",
        "\n",
        "  4.2 Create Token-Integer Mappings\n",
        "\n",
        "  4.3 Split Data into Train and Validation Sets\n",
        "\n",
        "  4.4 Pad Sequences\n",
        "\n",
        "  4.5 Convert Text Sequences to Integer Sequences</br>\n",
        "  4.6 Implement GloVe Embeddings\n",
        "5. Model Building\n",
        "\n",
        "  5.1 Define Model Architecture\n",
        "  \n",
        "  5.2 Start Model Training\n",
        "6. Text Generation\n",
        "7. Test Model"
      ]
    },
    {
      "cell_type": "markdown",
      "metadata": {
        "id": "sZoPOnsX8uPS"
      },
      "source": [
        "# 1. Import Libraries"
      ]
    },
    {
      "cell_type": "code",
      "execution_count": 1,
      "metadata": {
        "id": "Z_CCxOEI4iZK"
      },
      "outputs": [],
      "source": [
        "import pandas as pd\n",
        "import numpy as np\n",
        "import pickle\n",
        "import re\n",
        "import random\n",
        "from tqdm import tqdm_notebook\n",
        "\n",
        "import torch\n",
        "from torch import nn\n",
        "import torch.nn.functional as F\n",
        "\n",
        "import numpy as np \n",
        "import tensorflow as tf\n",
        "import matplotlib.pyplot as plt\n",
        "from tensorflow.keras.models import Sequential\n",
        "from tensorflow.keras.utils import to_categorical \n",
        "from tensorflow.keras.preprocessing.text import Tokenizer\n",
        "from tensorflow.keras.preprocessing.sequence import pad_sequences\n",
        "from tensorflow.keras.layers import Embedding, LSTM, Dense, Bidirectional\n",
        "from keras import backend as K \n",
        "K.clear_session()"
      ]
    },
    {
      "cell_type": "code",
      "execution_count": 2,
      "metadata": {
        "colab": {
          "base_uri": "https://localhost:8080/"
        },
        "id": "ypl18CrLFmt6",
        "outputId": "b653895c-e354-4819-9087-e5818abcf5ba"
      },
      "outputs": [
        {
          "output_type": "execute_result",
          "data": {
            "text/plain": [
              "array([0.67956432, 0.70609602, 0.89349849, ..., 0.79606331, 0.75821261,\n",
              "       0.83340368])"
            ]
          },
          "metadata": {},
          "execution_count": 2
        }
      ],
      "source": [
        "# reproducing same results\n",
        "SEED = 2019\n",
        "\n",
        "np.random.rand(SEED)"
      ]
    },
    {
      "cell_type": "markdown",
      "metadata": {
        "id": "5_5gPvXxWjru"
      },
      "source": [
        "# 2. Load Dataset"
      ]
    },
    {
      "cell_type": "code",
      "source": [
        "# open text file and read in data\n",
        "with open(\"Dailog-dataset.dialogs_dataset\", \"rb\") as f:\n",
        "  dialogs = pickle.load(f)"
      ],
      "metadata": {
        "id": "bNK5HMYflp8b"
      },
      "execution_count": 3,
      "outputs": []
    },
    {
      "cell_type": "code",
      "execution_count": 4,
      "metadata": {
        "colab": {
          "base_uri": "https://localhost:8080/"
        },
        "id": "81_SXWZlE6Zb",
        "outputId": "d7b0c9b0-672c-4f9e-ddbe-38d575c5d05b"
      },
      "outputs": [
        {
          "output_type": "execute_result",
          "data": {
            "text/plain": [
              "64776"
            ]
          },
          "metadata": {},
          "execution_count": 4
        }
      ],
      "source": [
        "# number of text sequences\n",
        "len(dialogs)"
      ]
    },
    {
      "cell_type": "code",
      "source": [
        "dialogs = list(set(dialogs))"
      ],
      "metadata": {
        "id": "cEsQQjHqaotd"
      },
      "execution_count": 5,
      "outputs": []
    },
    {
      "cell_type": "code",
      "execution_count": 6,
      "metadata": {
        "colab": {
          "base_uri": "https://localhost:8080/"
        },
        "id": "zSyAzbttAqP2",
        "outputId": "f9e8a807-31a9-4440-bc93-c27848385be8"
      },
      "outputs": [
        {
          "output_type": "execute_result",
          "data": {
            "text/plain": [
              "[' You can charge that to my card',\n",
              " 'Im in Boise, ID at the Red Lion Hotel',\n",
              " 'dinner for seven tonight at a restaurant',\n",
              " 'My check engine light keeps coming on and the temperature seems to be overheating',\n",
              " \"Ok, I'll see if they have a large dining table with outside seating available then\",\n",
              " 'That works, Linda lives in West Covina so that’s close',\n",
              " 'Thank you too!',\n",
              " 'Nope, that is all',\n",
              " 'Yes, with an extra shot of espresso, almond milk, and sugar free syrup',\n",
              " 'I cannot shut my roof']"
            ]
          },
          "metadata": {},
          "execution_count": 6
        }
      ],
      "source": [
        "# print 10 random dialogs\n",
        "random.sample(dialogs, 10)"
      ]
    },
    {
      "cell_type": "markdown",
      "metadata": {
        "id": "kGGTGRUDW9I3"
      },
      "source": [
        "# 3. Preprocessing and Exploring Text Data"
      ]
    },
    {
      "cell_type": "markdown",
      "metadata": {
        "id": "crvUl_ngM8sb"
      },
      "source": [
        "## 3.1 Text Cleaning"
      ]
    },
    {
      "cell_type": "code",
      "execution_count": 7,
      "metadata": {
        "id": "kUuUKZgUFhkl"
      },
      "outputs": [],
      "source": [
        "# text cleaning\n",
        "dialogs_clean = []\n",
        "\n",
        "for i in dialogs:\n",
        "  # remove everything except alphabets\n",
        "  i = re.sub(\"[^a-zA-Z' ]\", \"\", i)\n",
        "  # convert text to lowercase\n",
        "  i = i.lower()\n",
        "  # add cleaned text to the list\n",
        "  dialogs_clean.append(i)"
      ]
    },
    {
      "cell_type": "markdown",
      "metadata": {
        "id": "mYDzFQVvNA7_"
      },
      "source": [
        "\n",
        "## 3.2 Finding Word Count"
      ]
    },
    {
      "cell_type": "code",
      "execution_count": 8,
      "metadata": {
        "id": "V1hrCYRp11UI"
      },
      "outputs": [],
      "source": [
        "# get list of all the words\n",
        "all_words = \" \".join(dialogs_clean).split()\n",
        "\n",
        "words_dict = {}\n",
        "\n",
        "# add word-count pair to the dictionary\n",
        "for word in all_words:   \n",
        "  # check if the word is already in dictionary \n",
        "  if word in words_dict:\n",
        "    # increment count of word by 1 \n",
        "    words_dict[word] = words_dict[word] + 1\n",
        "  else:\n",
        "    # add the word to dictionary with count 1 \n",
        "    words_dict[word] = 1"
      ]
    },
    {
      "cell_type": "code",
      "execution_count": 9,
      "metadata": {
        "id": "gNxSGPubWaqA"
      },
      "outputs": [],
      "source": [
        "# prepare a dataframe\n",
        "words_df = pd.DataFrame({'word':list(words_dict.keys()), 'count':list(words_dict.values())})\n",
        "\n",
        "# sort words by their count in increasing order\n",
        "words_df = words_df.sort_values(by = ['count'])\n",
        "\n",
        "# reset dataframe index\n",
        "words_df.reset_index(inplace = True, drop=True)"
      ]
    },
    {
      "cell_type": "code",
      "execution_count": 10,
      "metadata": {
        "colab": {
          "base_uri": "https://localhost:8080/"
        },
        "id": "KVPbPsSWo-Ak",
        "outputId": "a808d57e-7df9-450d-ef7d-ebcd635e6bd5"
      },
      "outputs": [
        {
          "output_type": "execute_result",
          "data": {
            "text/plain": [
              "11147"
            ]
          },
          "metadata": {},
          "execution_count": 10
        }
      ],
      "source": [
        "# vocabulary size\n",
        "len(words_df)"
      ]
    },
    {
      "cell_type": "code",
      "execution_count": 11,
      "metadata": {
        "colab": {
          "base_uri": "https://localhost:8080/",
          "height": 206
        },
        "id": "JTwmmOiEXBHt",
        "outputId": "6d7ad18b-549c-4f06-bfd1-a97bee1a9ae9"
      },
      "outputs": [
        {
          "output_type": "execute_result",
          "data": {
            "text/plain": [
              "           word  count\n",
              "0  unbelievable      1\n",
              "1         oleys      1\n",
              "2     largethen      1\n",
              "3        sorted      1\n",
              "4     rangeline      1"
            ],
            "text/html": [
              "\n",
              "  <div id=\"df-b74fddb4-f260-44ca-b8e6-e8f51f94248f\">\n",
              "    <div class=\"colab-df-container\">\n",
              "      <div>\n",
              "<style scoped>\n",
              "    .dataframe tbody tr th:only-of-type {\n",
              "        vertical-align: middle;\n",
              "    }\n",
              "\n",
              "    .dataframe tbody tr th {\n",
              "        vertical-align: top;\n",
              "    }\n",
              "\n",
              "    .dataframe thead th {\n",
              "        text-align: right;\n",
              "    }\n",
              "</style>\n",
              "<table border=\"1\" class=\"dataframe\">\n",
              "  <thead>\n",
              "    <tr style=\"text-align: right;\">\n",
              "      <th></th>\n",
              "      <th>word</th>\n",
              "      <th>count</th>\n",
              "    </tr>\n",
              "  </thead>\n",
              "  <tbody>\n",
              "    <tr>\n",
              "      <th>0</th>\n",
              "      <td>unbelievable</td>\n",
              "      <td>1</td>\n",
              "    </tr>\n",
              "    <tr>\n",
              "      <th>1</th>\n",
              "      <td>oleys</td>\n",
              "      <td>1</td>\n",
              "    </tr>\n",
              "    <tr>\n",
              "      <th>2</th>\n",
              "      <td>largethen</td>\n",
              "      <td>1</td>\n",
              "    </tr>\n",
              "    <tr>\n",
              "      <th>3</th>\n",
              "      <td>sorted</td>\n",
              "      <td>1</td>\n",
              "    </tr>\n",
              "    <tr>\n",
              "      <th>4</th>\n",
              "      <td>rangeline</td>\n",
              "      <td>1</td>\n",
              "    </tr>\n",
              "  </tbody>\n",
              "</table>\n",
              "</div>\n",
              "      <button class=\"colab-df-convert\" onclick=\"convertToInteractive('df-b74fddb4-f260-44ca-b8e6-e8f51f94248f')\"\n",
              "              title=\"Convert this dataframe to an interactive table.\"\n",
              "              style=\"display:none;\">\n",
              "        \n",
              "  <svg xmlns=\"http://www.w3.org/2000/svg\" height=\"24px\"viewBox=\"0 0 24 24\"\n",
              "       width=\"24px\">\n",
              "    <path d=\"M0 0h24v24H0V0z\" fill=\"none\"/>\n",
              "    <path d=\"M18.56 5.44l.94 2.06.94-2.06 2.06-.94-2.06-.94-.94-2.06-.94 2.06-2.06.94zm-11 1L8.5 8.5l.94-2.06 2.06-.94-2.06-.94L8.5 2.5l-.94 2.06-2.06.94zm10 10l.94 2.06.94-2.06 2.06-.94-2.06-.94-.94-2.06-.94 2.06-2.06.94z\"/><path d=\"M17.41 7.96l-1.37-1.37c-.4-.4-.92-.59-1.43-.59-.52 0-1.04.2-1.43.59L10.3 9.45l-7.72 7.72c-.78.78-.78 2.05 0 2.83L4 21.41c.39.39.9.59 1.41.59.51 0 1.02-.2 1.41-.59l7.78-7.78 2.81-2.81c.8-.78.8-2.07 0-2.86zM5.41 20L4 18.59l7.72-7.72 1.47 1.35L5.41 20z\"/>\n",
              "  </svg>\n",
              "      </button>\n",
              "      \n",
              "  <style>\n",
              "    .colab-df-container {\n",
              "      display:flex;\n",
              "      flex-wrap:wrap;\n",
              "      gap: 12px;\n",
              "    }\n",
              "\n",
              "    .colab-df-convert {\n",
              "      background-color: #E8F0FE;\n",
              "      border: none;\n",
              "      border-radius: 50%;\n",
              "      cursor: pointer;\n",
              "      display: none;\n",
              "      fill: #1967D2;\n",
              "      height: 32px;\n",
              "      padding: 0 0 0 0;\n",
              "      width: 32px;\n",
              "    }\n",
              "\n",
              "    .colab-df-convert:hover {\n",
              "      background-color: #E2EBFA;\n",
              "      box-shadow: 0px 1px 2px rgba(60, 64, 67, 0.3), 0px 1px 3px 1px rgba(60, 64, 67, 0.15);\n",
              "      fill: #174EA6;\n",
              "    }\n",
              "\n",
              "    [theme=dark] .colab-df-convert {\n",
              "      background-color: #3B4455;\n",
              "      fill: #D2E3FC;\n",
              "    }\n",
              "\n",
              "    [theme=dark] .colab-df-convert:hover {\n",
              "      background-color: #434B5C;\n",
              "      box-shadow: 0px 1px 3px 1px rgba(0, 0, 0, 0.15);\n",
              "      filter: drop-shadow(0px 1px 2px rgba(0, 0, 0, 0.3));\n",
              "      fill: #FFFFFF;\n",
              "    }\n",
              "  </style>\n",
              "\n",
              "      <script>\n",
              "        const buttonEl =\n",
              "          document.querySelector('#df-b74fddb4-f260-44ca-b8e6-e8f51f94248f button.colab-df-convert');\n",
              "        buttonEl.style.display =\n",
              "          google.colab.kernel.accessAllowed ? 'block' : 'none';\n",
              "\n",
              "        async function convertToInteractive(key) {\n",
              "          const element = document.querySelector('#df-b74fddb4-f260-44ca-b8e6-e8f51f94248f');\n",
              "          const dataTable =\n",
              "            await google.colab.kernel.invokeFunction('convertToInteractive',\n",
              "                                                     [key], {});\n",
              "          if (!dataTable) return;\n",
              "\n",
              "          const docLinkHtml = 'Like what you see? Visit the ' +\n",
              "            '<a target=\"_blank\" href=https://colab.research.google.com/notebooks/data_table.ipynb>data table notebook</a>'\n",
              "            + ' to learn more about interactive tables.';\n",
              "          element.innerHTML = '';\n",
              "          dataTable['output_type'] = 'display_data';\n",
              "          await google.colab.output.renderOutput(dataTable, element);\n",
              "          const docLink = document.createElement('div');\n",
              "          docLink.innerHTML = docLinkHtml;\n",
              "          element.appendChild(docLink);\n",
              "        }\n",
              "      </script>\n",
              "    </div>\n",
              "  </div>\n",
              "  "
            ]
          },
          "metadata": {},
          "execution_count": 11
        }
      ],
      "source": [
        "words_df.head()"
      ]
    },
    {
      "cell_type": "code",
      "execution_count": 12,
      "metadata": {
        "colab": {
          "base_uri": "https://localhost:8080/",
          "height": 206
        },
        "id": "EWJEto8TMPiq",
        "outputId": "434b4b15-9aad-40d1-93cf-c41e4300093a"
      },
      "outputs": [
        {
          "output_type": "execute_result",
          "data": {
            "text/plain": [
              "      word  count\n",
              "11142  you   9544\n",
              "11143    a  12512\n",
              "11144   to  13307\n",
              "11145  the  14704\n",
              "11146    i  18419"
            ],
            "text/html": [
              "\n",
              "  <div id=\"df-8cf71621-4121-4af3-85c2-150c137757ed\">\n",
              "    <div class=\"colab-df-container\">\n",
              "      <div>\n",
              "<style scoped>\n",
              "    .dataframe tbody tr th:only-of-type {\n",
              "        vertical-align: middle;\n",
              "    }\n",
              "\n",
              "    .dataframe tbody tr th {\n",
              "        vertical-align: top;\n",
              "    }\n",
              "\n",
              "    .dataframe thead th {\n",
              "        text-align: right;\n",
              "    }\n",
              "</style>\n",
              "<table border=\"1\" class=\"dataframe\">\n",
              "  <thead>\n",
              "    <tr style=\"text-align: right;\">\n",
              "      <th></th>\n",
              "      <th>word</th>\n",
              "      <th>count</th>\n",
              "    </tr>\n",
              "  </thead>\n",
              "  <tbody>\n",
              "    <tr>\n",
              "      <th>11142</th>\n",
              "      <td>you</td>\n",
              "      <td>9544</td>\n",
              "    </tr>\n",
              "    <tr>\n",
              "      <th>11143</th>\n",
              "      <td>a</td>\n",
              "      <td>12512</td>\n",
              "    </tr>\n",
              "    <tr>\n",
              "      <th>11144</th>\n",
              "      <td>to</td>\n",
              "      <td>13307</td>\n",
              "    </tr>\n",
              "    <tr>\n",
              "      <th>11145</th>\n",
              "      <td>the</td>\n",
              "      <td>14704</td>\n",
              "    </tr>\n",
              "    <tr>\n",
              "      <th>11146</th>\n",
              "      <td>i</td>\n",
              "      <td>18419</td>\n",
              "    </tr>\n",
              "  </tbody>\n",
              "</table>\n",
              "</div>\n",
              "      <button class=\"colab-df-convert\" onclick=\"convertToInteractive('df-8cf71621-4121-4af3-85c2-150c137757ed')\"\n",
              "              title=\"Convert this dataframe to an interactive table.\"\n",
              "              style=\"display:none;\">\n",
              "        \n",
              "  <svg xmlns=\"http://www.w3.org/2000/svg\" height=\"24px\"viewBox=\"0 0 24 24\"\n",
              "       width=\"24px\">\n",
              "    <path d=\"M0 0h24v24H0V0z\" fill=\"none\"/>\n",
              "    <path d=\"M18.56 5.44l.94 2.06.94-2.06 2.06-.94-2.06-.94-.94-2.06-.94 2.06-2.06.94zm-11 1L8.5 8.5l.94-2.06 2.06-.94-2.06-.94L8.5 2.5l-.94 2.06-2.06.94zm10 10l.94 2.06.94-2.06 2.06-.94-2.06-.94-.94-2.06-.94 2.06-2.06.94z\"/><path d=\"M17.41 7.96l-1.37-1.37c-.4-.4-.92-.59-1.43-.59-.52 0-1.04.2-1.43.59L10.3 9.45l-7.72 7.72c-.78.78-.78 2.05 0 2.83L4 21.41c.39.39.9.59 1.41.59.51 0 1.02-.2 1.41-.59l7.78-7.78 2.81-2.81c.8-.78.8-2.07 0-2.86zM5.41 20L4 18.59l7.72-7.72 1.47 1.35L5.41 20z\"/>\n",
              "  </svg>\n",
              "      </button>\n",
              "      \n",
              "  <style>\n",
              "    .colab-df-container {\n",
              "      display:flex;\n",
              "      flex-wrap:wrap;\n",
              "      gap: 12px;\n",
              "    }\n",
              "\n",
              "    .colab-df-convert {\n",
              "      background-color: #E8F0FE;\n",
              "      border: none;\n",
              "      border-radius: 50%;\n",
              "      cursor: pointer;\n",
              "      display: none;\n",
              "      fill: #1967D2;\n",
              "      height: 32px;\n",
              "      padding: 0 0 0 0;\n",
              "      width: 32px;\n",
              "    }\n",
              "\n",
              "    .colab-df-convert:hover {\n",
              "      background-color: #E2EBFA;\n",
              "      box-shadow: 0px 1px 2px rgba(60, 64, 67, 0.3), 0px 1px 3px 1px rgba(60, 64, 67, 0.15);\n",
              "      fill: #174EA6;\n",
              "    }\n",
              "\n",
              "    [theme=dark] .colab-df-convert {\n",
              "      background-color: #3B4455;\n",
              "      fill: #D2E3FC;\n",
              "    }\n",
              "\n",
              "    [theme=dark] .colab-df-convert:hover {\n",
              "      background-color: #434B5C;\n",
              "      box-shadow: 0px 1px 3px 1px rgba(0, 0, 0, 0.15);\n",
              "      filter: drop-shadow(0px 1px 2px rgba(0, 0, 0, 0.3));\n",
              "      fill: #FFFFFF;\n",
              "    }\n",
              "  </style>\n",
              "\n",
              "      <script>\n",
              "        const buttonEl =\n",
              "          document.querySelector('#df-8cf71621-4121-4af3-85c2-150c137757ed button.colab-df-convert');\n",
              "        buttonEl.style.display =\n",
              "          google.colab.kernel.accessAllowed ? 'block' : 'none';\n",
              "\n",
              "        async function convertToInteractive(key) {\n",
              "          const element = document.querySelector('#df-8cf71621-4121-4af3-85c2-150c137757ed');\n",
              "          const dataTable =\n",
              "            await google.colab.kernel.invokeFunction('convertToInteractive',\n",
              "                                                     [key], {});\n",
              "          if (!dataTable) return;\n",
              "\n",
              "          const docLinkHtml = 'Like what you see? Visit the ' +\n",
              "            '<a target=\"_blank\" href=https://colab.research.google.com/notebooks/data_table.ipynb>data table notebook</a>'\n",
              "            + ' to learn more about interactive tables.';\n",
              "          element.innerHTML = '';\n",
              "          dataTable['output_type'] = 'display_data';\n",
              "          await google.colab.output.renderOutput(dataTable, element);\n",
              "          const docLink = document.createElement('div');\n",
              "          docLink.innerHTML = docLinkHtml;\n",
              "          element.appendChild(docLink);\n",
              "        }\n",
              "      </script>\n",
              "    </div>\n",
              "  </div>\n",
              "  "
            ]
          },
          "metadata": {},
          "execution_count": 12
        }
      ],
      "source": [
        "words_df.tail()"
      ]
    },
    {
      "cell_type": "markdown",
      "metadata": {
        "id": "nTcWd-pYFRob"
      },
      "source": [
        "## 3.3 Find and Replace Rare Words with \"Unknown\" Token"
      ]
    },
    {
      "cell_type": "code",
      "execution_count": 13,
      "metadata": {
        "id": "1iC4ztG3XIP3"
      },
      "outputs": [],
      "source": [
        "# user specified threshold value\n",
        "rare_thresh = 2\n",
        "\n",
        "# get percentage of rare words in the vocabulary\n",
        "rare_words_count = len(words_df[words_df['count'] < rare_thresh]['word'])\n",
        "total_words = len(words_df) \n",
        "rare_dist = rare_words_count / total_words\n",
        "\n",
        "# coverage percentage of rare words in the corpus\n",
        "rare_cover = words_df[words_df['count'] < rare_thresh]['count'].sum()/words_df['count'].sum()"
      ]
    },
    {
      "cell_type": "code",
      "execution_count": 14,
      "metadata": {
        "colab": {
          "base_uri": "https://localhost:8080/"
        },
        "id": "helYHQ4BXNK9",
        "outputId": "09c0bb76-5c60-4330-dce3-939eb5308c27"
      },
      "outputs": [
        {
          "output_type": "stream",
          "name": "stdout",
          "text": [
            "Rare words distribution in the vocabulary: 48.41\n",
            "Rare words coverage in the corpus: 1.25\n"
          ]
        }
      ],
      "source": [
        "print(f\"Rare words distribution in the vocabulary: {rare_dist*100:.2f}\")\n",
        "print(f\"Rare words coverage in the corpus: {rare_cover*100:.2f}\")"
      ]
    },
    {
      "cell_type": "code",
      "execution_count": 15,
      "metadata": {
        "id": "yJhbRQllXQJk"
      },
      "outputs": [],
      "source": [
        "# extract rare words in a list\n",
        "rare_words = words_df[words_df['count'] < rare_thresh]['word'].tolist()"
      ]
    },
    {
      "cell_type": "markdown",
      "metadata": {
        "id": "178uBVztqTDa"
      },
      "source": [
        "Replace the rare words/tokens in the dataset with a special token known as the unknown token (\"\\<unk\\>\")"
      ]
    },
    {
      "cell_type": "code",
      "execution_count": 16,
      "metadata": {
        "colab": {
          "base_uri": "https://localhost:8080/"
        },
        "id": "H5tSChzyoOJT",
        "outputId": "9772e12f-cc37-45b4-b928-7f11e2cb645c"
      },
      "outputs": [
        {
          "output_type": "stream",
          "name": "stdout",
          "text": [
            "day|book|\n"
          ]
        }
      ],
      "source": [
        "## example\n",
        "# specify rare words\n",
        "r_words = [\"day\", \"book\"]\n",
        "\n",
        "# build pattern\n",
        "pattern = \"\"\n",
        "for i in r_words:\n",
        "  pattern+= \"{}|\".format(i)\n",
        "\n",
        "print(pattern)"
      ]
    },
    {
      "cell_type": "code",
      "execution_count": 17,
      "metadata": {
        "colab": {
          "base_uri": "https://localhost:8080/"
        },
        "id": "xZAMqmwPowZj",
        "outputId": "cb3ed4ab-293a-43ce-eddd-217f8350f123"
      },
      "outputs": [
        {
          "output_type": "stream",
          "name": "stdout",
          "text": [
            "day|book\n"
          ]
        }
      ],
      "source": [
        "# removing the last element which is \"|\"\n",
        "pattern = pattern[:-1]\n",
        "print(pattern)"
      ]
    },
    {
      "cell_type": "code",
      "execution_count": 18,
      "metadata": {
        "colab": {
          "base_uri": "https://localhost:8080/"
        },
        "id": "UV1K1ibbo3XI",
        "outputId": "9d4e76eb-d90e-4fdc-b8ec-b72a0b652b1a"
      },
      "outputs": [
        {
          "output_type": "stream",
          "name": "stdout",
          "text": [
            "it has been a long  <unk> \n",
            "this  <unk>  is a must read\n"
          ]
        }
      ],
      "source": [
        "# replace the rare words with the <unk> token\n",
        "sents = [\"it has been a long day\", \"this book is a must read\"]\n",
        "\n",
        "for d in sents:\n",
        "  text = re.sub(pattern, \" <unk> \", d)\n",
        "  print(text)"
      ]
    },
    {
      "cell_type": "code",
      "execution_count": 19,
      "metadata": {
        "id": "hEn-L1_8YBjl"
      },
      "outputs": [],
      "source": [
        "# create a text pattern from the rare words, like \"word1 | word2 | word3...\"\n",
        "pattern = \"\"\n",
        "for i in rare_words:\n",
        "  pattern+= \" {} |\".format(i)\n",
        "\n",
        "# removing the last element which is \"|\"\n",
        "pattern = pattern[:-1]\n",
        "\n",
        "# empty list \n",
        "dialogs_clean_v2 = []\n",
        "\n",
        "# replace the rare words with the <unk> token\n",
        "#for d in tqdm_notebook(dialogs_clean):\n",
        "for d in dialogs_clean:\n",
        "  text = re.sub(pattern, \" <unk> \", d)\n",
        "  dialogs_clean_v2.append(text)"
      ]
    },
    {
      "cell_type": "code",
      "execution_count": 20,
      "metadata": {
        "id": "FMh9IVnQdyGE"
      },
      "outputs": [],
      "source": [
        "dialogs_clean_v2 = dialogs_clean#_v2[:50000]"
      ]
    },
    {
      "cell_type": "code",
      "source": [
        "dialogs_clean_v2[:10]"
      ],
      "metadata": {
        "colab": {
          "base_uri": "https://localhost:8080/"
        },
        "id": "Skg_W9Aaj4EK",
        "outputId": "a29cb402-0c3c-4a83-c99c-dbfeda37be34"
      },
      "execution_count": 21,
      "outputs": [
        {
          "output_type": "execute_result",
          "data": {
            "text/plain": [
              "['okay let me tell you the problem',\n",
              " 'lets go with the original uber',\n",
              " ' can i get an appointment into intelligent solutions',\n",
              " ' and add some green bell peppers on there too',\n",
              " 'can you have them sent to my cell',\n",
              " \"i think we just want a booth it's going to be too cold on sunday\",\n",
              " \" you're a lifesaver\",\n",
              " \"hello i'm looking for a table for two tonight at a mexican restaurant\",\n",
              " 'book me a reservation at zelos with the same info',\n",
              " 'i would like almond milk please']"
            ]
          },
          "metadata": {},
          "execution_count": 21
        }
      ]
    },
    {
      "cell_type": "markdown",
      "metadata": {
        "id": "waTukoy1AbVT"
      },
      "source": [
        "# 4. Data Preparation"
      ]
    },
    {
      "cell_type": "markdown",
      "metadata": {
        "id": "8SvIJQ0brBWW"
      },
      "source": [
        "## 4.1 Prepare Sequences"
      ]
    },
    {
      "cell_type": "code",
      "execution_count": 22,
      "metadata": {
        "colab": {
          "base_uri": "https://localhost:8080/",
          "height": 282
        },
        "id": "H5BYGcwBF7hX",
        "outputId": "90a9f50d-59cd-4b7e-e18e-93659c1235ba"
      },
      "outputs": [
        {
          "output_type": "stream",
          "name": "stdout",
          "text": [
            "54832\n"
          ]
        },
        {
          "output_type": "display_data",
          "data": {
            "text/plain": [
              "<Figure size 432x288 with 1 Axes>"
            ],
            "image/png": "[encoded data removed]"
          },
          "metadata": {
            "needs_background": "light"
          }
        }
      ],
      "source": [
        "# capture length of all the sequences\n",
        "text_word_count = []\n",
        "for i in dialogs_clean_v2:\n",
        "  text_word_count.append(len(i.split()))\n",
        "        \n",
        "# plot the sequence lengths\n",
        "pd.Series(text_word_count).hist(bins = 30,range=(0,30))\n",
        "print(len(text_word_count))"
      ]
    },
    {
      "cell_type": "code",
      "execution_count": 23,
      "metadata": {
        "id": "uw8F6bfwjBeo"
      },
      "outputs": [],
      "source": [
        "# function to create sequences of equal length\n",
        "def create_seq1(text, seq_len = 5):\n",
        "      \n",
        "  sequences = []    \n",
        "  temp = 0\n",
        "  seq_len1 = 5\n",
        "  if len(text.split()) > seq_len:\n",
        "    for i in range(0, round(len(text.split())/seq_len)):\n",
        "      # select sequence of tokens\n",
        "      seq = text.split()[temp:seq_len1]\n",
        "      temp = seq_len1\n",
        "      seq_len1 = seq_len + temp\n",
        "      \n",
        "      if len(seq) > 0:\n",
        "        # append sequence to the list\n",
        "        sequences.append(\" \".join(seq))\n",
        "\n",
        "    return sequences\n",
        "\n",
        "  else:\n",
        "    \n",
        "    return [text]"
      ]
    },
    {
      "cell_type": "code",
      "source": [
        "# function to create sequences of equal length\n",
        "def create_seq(text, seq_len = 5):\n",
        "      \n",
        "  sequences = []    \n",
        "  \n",
        "  if len(text.split()) > seq_len:\n",
        "    for i in range(seq_len, len(text.split())):\n",
        "      # select sequence of tokens\n",
        "      seq = text.split()[i-seq_len:i+1]\n",
        "      # append sequence to the list\n",
        "      sequences.append(\" \".join(seq))\n",
        "\n",
        "    return sequences\n",
        "\n",
        "  else:\n",
        "    \n",
        "    return [text]"
      ],
      "metadata": {
        "id": "QuiaxDXww5H_"
      },
      "execution_count": 24,
      "outputs": []
    },
    {
      "cell_type": "code",
      "execution_count": 25,
      "metadata": {
        "colab": {
          "base_uri": "https://localhost:8080/"
        },
        "id": "p0psJCgo9QtH",
        "outputId": "31ea4d23-40b6-47ed-c881-91af4a651b83"
      },
      "outputs": [
        {
          "output_type": "execute_result",
          "data": {
            "text/plain": [
              "[['okay let me tell you the', 'let me tell you the problem'],\n",
              " ['lets go with the original uber'],\n",
              " ['can i get an appointment into',\n",
              "  'i get an appointment into intelligent',\n",
              "  'get an appointment into intelligent solutions'],\n",
              " ['and add some green bell peppers',\n",
              "  'add some green bell peppers on',\n",
              "  'some green bell peppers on there',\n",
              "  'green bell peppers on there too'],\n",
              " ['can you have them sent to',\n",
              "  'you have them sent to my',\n",
              "  'have them sent to my cell'],\n",
              " ['i think we just want a',\n",
              "  'think we just want a booth',\n",
              "  \"we just want a booth it's\",\n",
              "  \"just want a booth it's going\",\n",
              "  \"want a booth it's going to\",\n",
              "  \"a booth it's going to be\",\n",
              "  \"booth it's going to be too\",\n",
              "  \"it's going to be too cold\",\n",
              "  'going to be too cold on',\n",
              "  'to be too cold on sunday'],\n",
              " [\" you're a lifesaver\"],\n",
              " [\"hello i'm looking for a table\",\n",
              "  \"i'm looking for a table for\",\n",
              "  'looking for a table for two',\n",
              "  'for a table for two tonight',\n",
              "  'a table for two tonight at',\n",
              "  'table for two tonight at a',\n",
              "  'for two tonight at a mexican',\n",
              "  'two tonight at a mexican restaurant'],\n",
              " ['book me a reservation at zelos',\n",
              "  'me a reservation at zelos with',\n",
              "  'a reservation at zelos with the',\n",
              "  'reservation at zelos with the same',\n",
              "  'at zelos with the same info'],\n",
              " ['i would like almond milk please']]"
            ]
          },
          "metadata": {},
          "execution_count": 25
        }
      ],
      "source": [
        "# create sequences of equal length\n",
        "seqs = [create_seq(i) for i in dialogs_clean_v2 if len(i) < 100 and len(i) > 1]\n",
        "#seqs = [i for i in dialogs_clean_v2 if len(i) < 80]\n",
        "seqs[:10]"
      ]
    },
    {
      "cell_type": "code",
      "execution_count": 26,
      "metadata": {
        "id": "0_sqNUB1p86p"
      },
      "outputs": [],
      "source": [
        "# merge list-of-lists into a single list\n",
        "corpus = sum(seqs, [])\n"
      ]
    },
    {
      "cell_type": "code",
      "execution_count": 27,
      "metadata": {
        "colab": {
          "base_uri": "https://localhost:8080/"
        },
        "id": "dwmBsxuqxPRq",
        "outputId": "2ff66572-57fa-470d-f85d-099cbf4be593"
      },
      "outputs": [
        {
          "output_type": "execute_result",
          "data": {
            "text/plain": [
              "['okay let me tell you the',\n",
              " 'let me tell you the problem',\n",
              " 'lets go with the original uber',\n",
              " 'can i get an appointment into',\n",
              " 'i get an appointment into intelligent',\n",
              " 'get an appointment into intelligent solutions',\n",
              " 'and add some green bell peppers',\n",
              " 'add some green bell peppers on',\n",
              " 'some green bell peppers on there',\n",
              " 'green bell peppers on there too',\n",
              " 'can you have them sent to',\n",
              " 'you have them sent to my',\n",
              " 'have them sent to my cell',\n",
              " 'i think we just want a',\n",
              " 'think we just want a booth',\n",
              " \"we just want a booth it's\",\n",
              " \"just want a booth it's going\",\n",
              " \"want a booth it's going to\",\n",
              " \"a booth it's going to be\",\n",
              " \"booth it's going to be too\"]"
            ]
          },
          "metadata": {},
          "execution_count": 27
        }
      ],
      "source": [
        "corpus[:20]"
      ]
    },
    {
      "cell_type": "markdown",
      "metadata": {
        "id": "c_1Lazko0ncT"
      },
      "source": [
        " **4.2 Create Token-Integer Mappings**"
      ]
    },
    {
      "cell_type": "code",
      "execution_count": 28,
      "metadata": {
        "id": "ycKTOMtn3IHb"
      },
      "outputs": [],
      "source": [
        "tokenizer = Tokenizer()\n",
        "tokenizer.fit_on_texts(corpus)\n",
        "total_words = len(tokenizer.word_index) + 1"
      ]
    },
    {
      "cell_type": "code",
      "execution_count": 29,
      "metadata": {
        "colab": {
          "base_uri": "https://localhost:8080/"
        },
        "id": "uGudI_YR3NVa",
        "outputId": "7328ee31-303a-44a2-c849-752b0fc0e206"
      },
      "outputs": [
        {
          "output_type": "execute_result",
          "data": {
            "text/plain": [
              "10797"
            ]
          },
          "metadata": {},
          "execution_count": 29
        }
      ],
      "source": [
        "total_words"
      ]
    },
    {
      "cell_type": "markdown",
      "metadata": {
        "id": "i87lF6O70zSC"
      },
      "source": [
        "**4.3 Generates a list of n-gram sequences and list of n-gram sequences**"
      ]
    },
    {
      "cell_type": "code",
      "execution_count": 30,
      "metadata": {
        "id": "hdQyfvD24Yzg"
      },
      "outputs": [],
      "source": [
        "#Create n_gram_seqs\n",
        "def n_gram_seqs(corpus, tokenizer):\n",
        "    \"\"\"\n",
        "    Generates a list of n-gram sequences\n",
        "    \n",
        "    Args:\n",
        "        corpus (list of string): lines of texts to generate n-grams for\n",
        "        tokenizer (object): an instance of the Tokenizer class containing the word-index dictionary\n",
        "    \n",
        "    Returns:\n",
        "        input_sequences (list of int): the n-gram sequences for each line in the corpus\n",
        "    \"\"\"\n",
        "    input_sequences = []\n",
        "    output_sequences = []\n",
        "    ### START CODE HERE\n",
        "    for line in corpus:\n",
        "      token_list = tokenizer.texts_to_sequences([line])[0]\n",
        "      \n",
        "      for i in range(2, len(token_list)):\n",
        "        n_gram_seqs= token_list[:i]\n",
        "        #print(n_gram_seqs)\n",
        "        input_sequences.append(n_gram_seqs)\n",
        "        output_sequences.append(token_list[i:i+1][0])\n",
        "        \n",
        "    ### END CODE HERE\n",
        "    \n",
        "    return input_sequences, output_sequences"
      ]
    },
    {
      "cell_type": "code",
      "execution_count": 31,
      "metadata": {
        "colab": {
          "base_uri": "https://localhost:8080/"
        },
        "id": "4WGyZvGA4iJK",
        "outputId": "53ca587f-bb9f-4d58-aab7-8cb98cba0052"
      },
      "outputs": [
        {
          "output_type": "stream",
          "name": "stdout",
          "text": [
            "n_grams of input_sequences length: 676483\n",
            "maximum length of sequences : 5\n"
          ]
        },
        {
          "output_type": "execute_result",
          "data": {
            "text/plain": [
              "[[105, 134],\n",
              " [105, 134, 8],\n",
              " [105, 134, 8, 129],\n",
              " [105, 134, 8, 129, 5],\n",
              " [134, 8],\n",
              " [134, 8, 129],\n",
              " [134, 8, 129, 5],\n",
              " [134, 8, 129, 5, 2],\n",
              " [256, 36],\n",
              " [256, 36, 18]]"
            ]
          },
          "metadata": {},
          "execution_count": 31
        }
      ],
      "source": [
        "# Apply the n_gram_seqs transformation to the whole corpus\n",
        "input_sequences, output_sequences = n_gram_seqs(corpus, tokenizer)\n",
        "\n",
        "# Save max length \n",
        "max_sequence_len = max([len(x) for x in input_sequences])\n",
        "\n",
        "print(f\"n_grams of input_sequences length: {len(input_sequences)}\")\n",
        "print(f\"maximum length of sequences : {max_sequence_len}\")\n",
        "input_sequences[:10]"
      ]
    },
    {
      "cell_type": "code",
      "execution_count": 32,
      "metadata": {
        "colab": {
          "base_uri": "https://localhost:8080/"
        },
        "id": "p1bvMXPF-atc",
        "outputId": "2891a983-a9d2-43f4-a0a7-dccd1291d945"
      },
      "outputs": [
        {
          "output_type": "execute_result",
          "data": {
            "text/plain": [
              "[8, 129, 5, 2, 129, 5, 2, 346, 18, 2]"
            ]
          },
          "metadata": {},
          "execution_count": 32
        }
      ],
      "source": [
        "output_sequences[:10]"
      ]
    },
    {
      "cell_type": "markdown",
      "metadata": {
        "id": "pWdt2Yzd0uFG"
      },
      "source": [
        "**4.4 Create Token-Integer Mappings**"
      ]
    },
    {
      "cell_type": "code",
      "execution_count": 33,
      "metadata": {
        "id": "u7oNbNAR4k_i"
      },
      "outputs": [],
      "source": [
        "def pad_seqs(input_sequences, maxlen):\n",
        "    \"\"\"\n",
        "    Pads tokenized sequences to same length\n",
        "    \n",
        "    Args:\n",
        "        input_sequences: tokenized sequences to pad\n",
        "        maxlen: maximum length of sequences\n",
        "    \n",
        "    Returns:\n",
        "        padded_sequences: tokenized sequences padded to  same length\n",
        "    \"\"\"\n",
        "\n",
        "    post_pad_sequence = pad_sequences(input_sequences, maxlen=maxlen, padding='pre')\n",
        "    return post_pad_sequence"
      ]
    },
    {
      "cell_type": "code",
      "execution_count": 34,
      "metadata": {
        "colab": {
          "base_uri": "https://localhost:8080/"
        },
        "id": "br1dRGoP4upC",
        "outputId": "55814955-aee3-4962-8c31-b4b54a93c978"
      },
      "outputs": [
        {
          "output_type": "stream",
          "name": "stdout",
          "text": [
            "padded corpus has shape: (676483, 5)\n"
          ]
        }
      ],
      "source": [
        "# Pad the whole corpus\n",
        "pad_sequence = pad_seqs(input_sequences, max_sequence_len)\n",
        "\n",
        "print(f\"padded corpus has shape: {pad_sequence.shape}\")"
      ]
    },
    {
      "cell_type": "code",
      "execution_count": 35,
      "metadata": {
        "colab": {
          "base_uri": "https://localhost:8080/"
        },
        "id": "wNFLZSx9l2f-",
        "outputId": "75d3437c-587c-430f-fab1-b137fbe1e030"
      },
      "outputs": [
        {
          "output_type": "execute_result",
          "data": {
            "text/plain": [
              "array([[   0,    0,    0,  105,  134],\n",
              "       [   0,    0,  105,  134,    8],\n",
              "       [   0,  105,  134,    8,  129],\n",
              "       ...,\n",
              "       [   0,    0,   13,   15, 2862],\n",
              "       [   0,   13,   15, 2862,    1],\n",
              "       [  13,   15, 2862,    1,   17]], dtype=int32)"
            ]
          },
          "metadata": {},
          "execution_count": 35
        }
      ],
      "source": [
        "pad_sequence"
      ]
    },
    {
      "cell_type": "code",
      "execution_count": 36,
      "metadata": {
        "id": "Fuk3GeAa4xIa"
      },
      "outputs": [],
      "source": [
        "def features_and_labels(pad_sequence, labels, total_words):\n",
        "\n",
        "    #features = pre_pad_sequence[:,:-1]\n",
        "    #one_hot_labels = to_categorical(labels, num_classes=total_words)\n",
        "\n",
        "    return pad_sequence, np.array(labels)"
      ]
    },
    {
      "cell_type": "code",
      "execution_count": 37,
      "metadata": {
        "colab": {
          "base_uri": "https://localhost:8080/"
        },
        "id": "t4gxDZzd42P8",
        "outputId": "0293d630-b475-4aed-d1f0-b56b1b2c096d"
      },
      "outputs": [
        {
          "output_type": "stream",
          "name": "stdout",
          "text": [
            "features have shape: (676483, 5)\n",
            "labels have shape: (676483,)\n"
          ]
        }
      ],
      "source": [
        "# Split the whole corpus\n",
        "features, labels = features_and_labels(pad_sequence, output_sequences, total_words)\n",
        "\n",
        "print(f\"features have shape: {features.shape}\")\n",
        "print(f\"labels have shape: {labels.shape}\")\n"
      ]
    },
    {
      "cell_type": "code",
      "execution_count": 38,
      "metadata": {
        "colab": {
          "base_uri": "https://localhost:8080/"
        },
        "id": "Mz1wUvgzlwl8",
        "outputId": "9c2ac8e6-3af0-42be-8e7c-9d3794a810ca"
      },
      "outputs": [
        {
          "output_type": "execute_result",
          "data": {
            "text/plain": [
              "array([[   0,    0,    0,  105,  134],\n",
              "       [   0,    0,  105,  134,    8],\n",
              "       [   0,  105,  134,    8,  129],\n",
              "       ...,\n",
              "       [   0,    0,   13,   15, 2862],\n",
              "       [   0,   13,   15, 2862,    1],\n",
              "       [  13,   15, 2862,    1,   17]], dtype=int32)"
            ]
          },
          "metadata": {},
          "execution_count": 38
        }
      ],
      "source": [
        "post_pad_sequence = []\n",
        "pre_pad_sequence = []\n",
        "seqs = []\n",
        "#corpus = []\n",
        "features"
      ]
    },
    {
      "cell_type": "markdown",
      "source": [
        "# **Implement Glove to get better accuracy**"
      ],
      "metadata": {
        "id": "bmYz0WBQZb35"
      }
    },
    {
      "cell_type": "code",
      "source": [
        "# Define path to file containing the embeddings\n",
        "GLOVE_FILE = './glove.6B.100d.txt'\n",
        "\n",
        "# Initialize an empty embeddings index dictionary\n",
        "GLOVE_EMBEDDINGS = {}\n",
        "\n",
        "# Read file and fill GLOVE_EMBEDDINGS with its contents\n",
        "with open(GLOVE_FILE, 'r', errors = 'ignore', encoding='utf8') as f:\n",
        "    for line in f:\n",
        "        values = line.split()\n",
        "        values = ['0' if x=='.' else x for x in values]\n",
        "        word = values[0]\n",
        "        coefs = np.asarray(values[1:], dtype='float32')\n",
        "        GLOVE_EMBEDDINGS[word] = coefs\n",
        "\n",
        "f.close()"
      ],
      "metadata": {
        "id": "AmSN2V_HDEWK"
      },
      "execution_count": 39,
      "outputs": []
    },
    {
      "cell_type": "code",
      "source": [
        "EMBEDDING_DIM = 100\n",
        "word_index = tokenizer.word_index\n",
        "# Initialize empty numpy array with the appropriate size\n",
        "EMBEDDINGS_MATRIX = np.zeros((total_words+1, EMBEDDING_DIM))\n",
        "\n",
        "# Iterate all of the words in the vocabulary\n",
        "for word, i in word_index.items():\n",
        "    embedding_vector = GLOVE_EMBEDDINGS.get(word)\n",
        "    if embedding_vector is not None:\n",
        "        EMBEDDINGS_MATRIX[i] = embedding_vector"
      ],
      "metadata": {
        "id": "qLglCzKUD0Hr"
      },
      "execution_count": 40,
      "outputs": []
    },
    {
      "cell_type": "markdown",
      "metadata": {
        "id": "Q7YLFIwX1M0a"
      },
      "source": [
        "# **5.1 Define Model Architecture**"
      ]
    },
    {
      "cell_type": "code",
      "execution_count": 41,
      "metadata": {
        "id": "uHbLbl3n44xB"
      },
      "outputs": [],
      "source": [
        "from keras import regularizers\n",
        "from keras.regularizers import l2\n",
        "def create_model(total_words, embedding_dim, embeddings_matrix,  max_sequence_len):\n",
        "  model = Sequential()\n",
        "  #model.add(Embedding(total_words, 100, input_length=max_sequence_len))\n",
        "\n",
        "  model.add(Embedding(total_words+1, embedding_dim, input_length=max_sequence_len, weights=[embeddings_matrix]))\n",
        "  #model.add(LSTM(units=128 , return_sequences = True , recurrent_dropout = 0.15 , dropout = 0.15))\n",
        "  #model.add(tf.keras.layers.Dropout(.2))\n",
        "  model.add(Bidirectional(LSTM(units=128)))\n",
        "\n",
        "  model.add(Dense(total_words, activation='softmax'))\n",
        "  learning_rate = 0.001\n",
        "  opt = tf.keras.optimizers.Adam(learning_rate=learning_rate)\n",
        "  # Compile the model\n",
        "  model.compile(loss='sparse_categorical_crossentropy',\n",
        "                optimizer= opt,\n",
        "                metrics=['accuracy'])\n",
        "\n",
        "  model.summary()\n",
        "  return model"
      ]
    },
    {
      "cell_type": "markdown",
      "metadata": {
        "id": "hOaul-Sp1Uqp"
      },
      "source": [
        " **5.2 Train Model**"
      ]
    },
    {
      "cell_type": "code",
      "execution_count": 44,
      "metadata": {
        "id": "-tvZHqmY4965",
        "colab": {
          "base_uri": "https://localhost:8080/"
        },
        "outputId": "0e0de2db-cb5d-4087-9215-eab5ecebc0c3"
      },
      "outputs": [
        {
          "output_type": "stream",
          "name": "stdout",
          "text": [
            "Model: \"sequential\"\n",
            "_________________________________________________________________\n",
            " Layer (type)                Output Shape              Param #   \n",
            "=================================================================\n",
            " embedding (Embedding)       (None, 5, 100)            1079800   \n",
            "                                                                 \n",
            " bidirectional (Bidirectiona  (None, 256)              234496    \n",
            " l)                                                              \n",
            "                                                                 \n",
            " dense (Dense)               (None, 10797)             2774829   \n",
            "                                                                 \n",
            "=================================================================\n",
            "Total params: 4,089,125\n",
            "Trainable params: 4,089,125\n",
            "Non-trainable params: 0\n",
            "_________________________________________________________________\n",
            "Epoch 1/100\n",
            "1322/1322 - 23s - loss: 4.8951 - accuracy: 0.1781 - 23s/epoch - 17ms/step\n",
            "Epoch 2/100\n",
            "1322/1322 - 18s - loss: 3.7308 - accuracy: 0.2900 - 18s/epoch - 14ms/step\n",
            "Epoch 3/100\n",
            "1322/1322 - 18s - loss: 3.3065 - accuracy: 0.3280 - 18s/epoch - 14ms/step\n",
            "Epoch 4/100\n",
            "1322/1322 - 18s - loss: 3.0439 - accuracy: 0.3550 - 18s/epoch - 14ms/step\n",
            "Epoch 5/100\n",
            "1322/1322 - 18s - loss: 2.8578 - accuracy: 0.3770 - 18s/epoch - 14ms/step\n",
            "Epoch 6/100\n",
            "1322/1322 - 18s - loss: 2.7144 - accuracy: 0.3956 - 18s/epoch - 14ms/step\n",
            "Epoch 7/100\n",
            "1322/1322 - 18s - loss: 2.5994 - accuracy: 0.4121 - 18s/epoch - 14ms/step\n",
            "Epoch 8/100\n",
            "1322/1322 - 18s - loss: 2.5026 - accuracy: 0.4263 - 18s/epoch - 14ms/step\n",
            "Epoch 9/100\n",
            "1322/1322 - 18s - loss: 2.4206 - accuracy: 0.4392 - 18s/epoch - 14ms/step\n",
            "Epoch 10/100\n",
            "1322/1322 - 18s - loss: 2.3489 - accuracy: 0.4507 - 18s/epoch - 14ms/step\n",
            "Epoch 11/100\n",
            "1322/1322 - 18s - loss: 2.2865 - accuracy: 0.4612 - 18s/epoch - 14ms/step\n",
            "Epoch 12/100\n",
            "1322/1322 - 18s - loss: 2.2296 - accuracy: 0.4708 - 18s/epoch - 14ms/step\n",
            "Epoch 13/100\n",
            "1322/1322 - 18s - loss: 2.1798 - accuracy: 0.4787 - 18s/epoch - 14ms/step\n",
            "Epoch 14/100\n",
            "1322/1322 - 18s - loss: 2.1333 - accuracy: 0.4867 - 18s/epoch - 14ms/step\n",
            "Epoch 15/100\n",
            "1322/1322 - 18s - loss: 2.0926 - accuracy: 0.4939 - 18s/epoch - 14ms/step\n",
            "Epoch 16/100\n",
            "1322/1322 - 18s - loss: 2.0547 - accuracy: 0.5006 - 18s/epoch - 14ms/step\n",
            "Epoch 17/100\n",
            "1322/1322 - 18s - loss: 2.0202 - accuracy: 0.5066 - 18s/epoch - 14ms/step\n",
            "Epoch 18/100\n",
            "1322/1322 - 18s - loss: 1.9876 - accuracy: 0.5125 - 18s/epoch - 14ms/step\n",
            "Epoch 19/100\n",
            "1322/1322 - 18s - loss: 1.9583 - accuracy: 0.5179 - 18s/epoch - 14ms/step\n",
            "Epoch 20/100\n",
            "1322/1322 - 18s - loss: 1.9300 - accuracy: 0.5236 - 18s/epoch - 14ms/step\n",
            "Epoch 21/100\n",
            "1322/1322 - 18s - loss: 1.9042 - accuracy: 0.5282 - 18s/epoch - 14ms/step\n",
            "Epoch 22/100\n",
            "1322/1322 - 18s - loss: 1.8811 - accuracy: 0.5321 - 18s/epoch - 14ms/step\n",
            "Epoch 23/100\n",
            "1322/1322 - 18s - loss: 1.8578 - accuracy: 0.5364 - 18s/epoch - 14ms/step\n",
            "Epoch 24/100\n",
            "1322/1322 - 18s - loss: 1.8367 - accuracy: 0.5405 - 18s/epoch - 14ms/step\n",
            "Epoch 25/100\n",
            "1322/1322 - 18s - loss: 1.8171 - accuracy: 0.5444 - 18s/epoch - 14ms/step\n",
            "Epoch 26/100\n",
            "1322/1322 - 18s - loss: 1.7980 - accuracy: 0.5480 - 18s/epoch - 14ms/step\n",
            "Epoch 27/100\n",
            "1322/1322 - 18s - loss: 1.7796 - accuracy: 0.5513 - 18s/epoch - 14ms/step\n",
            "Epoch 28/100\n",
            "1322/1322 - 18s - loss: 1.7643 - accuracy: 0.5541 - 18s/epoch - 14ms/step\n",
            "Epoch 29/100\n",
            "1322/1322 - 18s - loss: 1.7475 - accuracy: 0.5578 - 18s/epoch - 14ms/step\n",
            "Epoch 30/100\n",
            "1322/1322 - 18s - loss: 1.7324 - accuracy: 0.5606 - 18s/epoch - 14ms/step\n",
            "Epoch 31/100\n",
            "1322/1322 - 18s - loss: 1.7181 - accuracy: 0.5628 - 18s/epoch - 14ms/step\n",
            "Epoch 32/100\n",
            "1322/1322 - 18s - loss: 1.7041 - accuracy: 0.5659 - 18s/epoch - 14ms/step\n",
            "Epoch 33/100\n",
            "1322/1322 - 18s - loss: 1.6908 - accuracy: 0.5686 - 18s/epoch - 14ms/step\n",
            "Epoch 34/100\n",
            "1322/1322 - 18s - loss: 1.6780 - accuracy: 0.5711 - 18s/epoch - 14ms/step\n",
            "Epoch 35/100\n",
            "1322/1322 - 18s - loss: 1.6664 - accuracy: 0.5732 - 18s/epoch - 14ms/step\n",
            "Epoch 36/100\n",
            "1322/1322 - 18s - loss: 1.6559 - accuracy: 0.5749 - 18s/epoch - 14ms/step\n",
            "Epoch 37/100\n",
            "1322/1322 - 18s - loss: 1.6440 - accuracy: 0.5770 - 18s/epoch - 14ms/step\n",
            "Epoch 38/100\n",
            "1322/1322 - 18s - loss: 1.6341 - accuracy: 0.5798 - 18s/epoch - 14ms/step\n",
            "Epoch 39/100\n",
            "1322/1322 - 18s - loss: 1.6242 - accuracy: 0.5811 - 18s/epoch - 14ms/step\n",
            "Epoch 40/100\n",
            "1322/1322 - 18s - loss: 1.6136 - accuracy: 0.5832 - 18s/epoch - 14ms/step\n",
            "Epoch 41/100\n",
            "1322/1322 - 18s - loss: 1.6052 - accuracy: 0.5852 - 18s/epoch - 14ms/step\n",
            "Epoch 42/100\n",
            "1322/1322 - 18s - loss: 1.5965 - accuracy: 0.5865 - 18s/epoch - 14ms/step\n",
            "Epoch 43/100\n",
            "1322/1322 - 18s - loss: 1.5869 - accuracy: 0.5884 - 18s/epoch - 14ms/step\n",
            "Epoch 44/100\n",
            "1322/1322 - 18s - loss: 1.5793 - accuracy: 0.5899 - 18s/epoch - 14ms/step\n",
            "Epoch 45/100\n",
            "1322/1322 - 18s - loss: 1.5708 - accuracy: 0.5917 - 18s/epoch - 14ms/step\n",
            "Epoch 46/100\n",
            "1322/1322 - 18s - loss: 1.5633 - accuracy: 0.5932 - 18s/epoch - 14ms/step\n",
            "Epoch 47/100\n",
            "1322/1322 - 18s - loss: 1.5562 - accuracy: 0.5942 - 18s/epoch - 14ms/step\n",
            "Epoch 48/100\n",
            "1322/1322 - 18s - loss: 1.5485 - accuracy: 0.5958 - 18s/epoch - 14ms/step\n",
            "Epoch 49/100\n",
            "1322/1322 - 18s - loss: 1.5427 - accuracy: 0.5966 - 18s/epoch - 14ms/step\n",
            "Epoch 50/100\n",
            "1322/1322 - 18s - loss: 1.5351 - accuracy: 0.5984 - 18s/epoch - 14ms/step\n",
            "Epoch 51/100\n",
            "1322/1322 - 18s - loss: 1.5292 - accuracy: 0.6000 - 18s/epoch - 14ms/step\n",
            "Epoch 52/100\n",
            "1322/1322 - 18s - loss: 1.5226 - accuracy: 0.6009 - 18s/epoch - 14ms/step\n",
            "Epoch 53/100\n",
            "1322/1322 - 18s - loss: 1.5166 - accuracy: 0.6020 - 18s/epoch - 14ms/step\n",
            "Epoch 54/100\n",
            "1322/1322 - 18s - loss: 1.5102 - accuracy: 0.6037 - 18s/epoch - 14ms/step\n",
            "Epoch 55/100\n",
            "1322/1322 - 18s - loss: 1.5049 - accuracy: 0.6040 - 18s/epoch - 14ms/step\n",
            "Epoch 56/100\n",
            "1322/1322 - 18s - loss: 1.4996 - accuracy: 0.6053 - 18s/epoch - 14ms/step\n",
            "Epoch 57/100\n",
            "1322/1322 - 18s - loss: 1.4939 - accuracy: 0.6064 - 18s/epoch - 14ms/step\n",
            "Epoch 58/100\n",
            "1322/1322 - 18s - loss: 1.4885 - accuracy: 0.6075 - 18s/epoch - 14ms/step\n",
            "Epoch 59/100\n",
            "1322/1322 - 18s - loss: 1.4843 - accuracy: 0.6084 - 18s/epoch - 14ms/step\n",
            "Epoch 60/100\n",
            "1322/1322 - 18s - loss: 1.4785 - accuracy: 0.6097 - 18s/epoch - 14ms/step\n",
            "Epoch 61/100\n",
            "1322/1322 - 18s - loss: 1.4746 - accuracy: 0.6102 - 18s/epoch - 14ms/step\n",
            "Epoch 62/100\n",
            "1322/1322 - 18s - loss: 1.4697 - accuracy: 0.6108 - 18s/epoch - 14ms/step\n",
            "Epoch 63/100\n",
            "1322/1322 - 18s - loss: 1.4645 - accuracy: 0.6124 - 18s/epoch - 14ms/step\n",
            "Epoch 64/100\n",
            "1322/1322 - 18s - loss: 1.4599 - accuracy: 0.6129 - 18s/epoch - 14ms/step\n",
            "Epoch 65/100\n",
            "1322/1322 - 18s - loss: 1.4554 - accuracy: 0.6140 - 18s/epoch - 14ms/step\n",
            "Epoch 66/100\n",
            "1322/1322 - 18s - loss: 1.4517 - accuracy: 0.6145 - 18s/epoch - 14ms/step\n",
            "Epoch 67/100\n",
            "1322/1322 - 18s - loss: 1.4484 - accuracy: 0.6152 - 18s/epoch - 14ms/step\n",
            "Epoch 68/100\n",
            "1322/1322 - 18s - loss: 1.4440 - accuracy: 0.6160 - 18s/epoch - 14ms/step\n",
            "Epoch 69/100\n",
            "1322/1322 - 18s - loss: 1.4398 - accuracy: 0.6167 - 18s/epoch - 14ms/step\n",
            "Epoch 70/100\n",
            "1322/1322 - 18s - loss: 1.4362 - accuracy: 0.6180 - 18s/epoch - 14ms/step\n",
            "Epoch 71/100\n",
            "1322/1322 - 18s - loss: 1.4325 - accuracy: 0.6183 - 18s/epoch - 14ms/step\n",
            "Epoch 72/100\n",
            "1322/1322 - 18s - loss: 1.4289 - accuracy: 0.6188 - 18s/epoch - 14ms/step\n",
            "Epoch 73/100\n",
            "1322/1322 - 18s - loss: 1.4247 - accuracy: 0.6203 - 18s/epoch - 14ms/step\n",
            "Epoch 74/100\n",
            "1322/1322 - 18s - loss: 1.4217 - accuracy: 0.6205 - 18s/epoch - 14ms/step\n",
            "Epoch 75/100\n",
            "1322/1322 - 18s - loss: 1.4183 - accuracy: 0.6211 - 18s/epoch - 14ms/step\n",
            "Epoch 76/100\n",
            "1322/1322 - 18s - loss: 1.4149 - accuracy: 0.6218 - 18s/epoch - 14ms/step\n",
            "Epoch 77/100\n",
            "1322/1322 - 18s - loss: 1.4120 - accuracy: 0.6222 - 18s/epoch - 14ms/step\n",
            "Epoch 78/100\n",
            "1322/1322 - 18s - loss: 1.4087 - accuracy: 0.6226 - 18s/epoch - 14ms/step\n",
            "Epoch 79/100\n",
            "1322/1322 - 18s - loss: 1.4055 - accuracy: 0.6233 - 18s/epoch - 14ms/step\n",
            "Epoch 80/100\n",
            "1322/1322 - 18s - loss: 1.4029 - accuracy: 0.6237 - 18s/epoch - 14ms/step\n",
            "Epoch 81/100\n",
            "1322/1322 - 18s - loss: 1.3992 - accuracy: 0.6248 - 18s/epoch - 14ms/step\n",
            "Epoch 82/100\n",
            "1322/1322 - 18s - loss: 1.3968 - accuracy: 0.6252 - 18s/epoch - 14ms/step\n",
            "Epoch 83/100\n",
            "1322/1322 - 18s - loss: 1.3947 - accuracy: 0.6251 - 18s/epoch - 14ms/step\n",
            "Epoch 84/100\n",
            "1322/1322 - 18s - loss: 1.3918 - accuracy: 0.6264 - 18s/epoch - 14ms/step\n",
            "Epoch 85/100\n",
            "1322/1322 - 18s - loss: 1.3891 - accuracy: 0.6262 - 18s/epoch - 14ms/step\n",
            "Epoch 86/100\n",
            "1322/1322 - 18s - loss: 1.3860 - accuracy: 0.6274 - 18s/epoch - 14ms/step\n",
            "Epoch 87/100\n",
            "1322/1322 - 18s - loss: 1.3829 - accuracy: 0.6272 - 18s/epoch - 14ms/step\n",
            "Epoch 88/100\n",
            "1322/1322 - 18s - loss: 1.3802 - accuracy: 0.6279 - 18s/epoch - 14ms/step\n",
            "Epoch 89/100\n",
            "1322/1322 - 18s - loss: 1.3784 - accuracy: 0.6289 - 18s/epoch - 14ms/step\n",
            "Epoch 90/100\n",
            "1322/1322 - 18s - loss: 1.3767 - accuracy: 0.6287 - 18s/epoch - 14ms/step\n",
            "Epoch 91/100\n",
            "1322/1322 - 18s - loss: 1.3739 - accuracy: 0.6295 - 18s/epoch - 14ms/step\n",
            "Epoch 92/100\n",
            "1322/1322 - 18s - loss: 1.3710 - accuracy: 0.6302 - 18s/epoch - 14ms/step\n",
            "Epoch 93/100\n",
            "1322/1322 - 18s - loss: 1.3689 - accuracy: 0.6308 - 18s/epoch - 14ms/step\n",
            "Epoch 94/100\n",
            "1322/1322 - 18s - loss: 1.3655 - accuracy: 0.6310 - 18s/epoch - 14ms/step\n",
            "Epoch 95/100\n",
            "1322/1322 - 18s - loss: 1.3641 - accuracy: 0.6310 - 18s/epoch - 14ms/step\n",
            "Epoch 96/100\n",
            "1322/1322 - 18s - loss: 1.3621 - accuracy: 0.6322 - 18s/epoch - 14ms/step\n",
            "Epoch 97/100\n",
            "1322/1322 - 18s - loss: 1.3603 - accuracy: 0.6319 - 18s/epoch - 14ms/step\n",
            "Epoch 98/100\n",
            "1322/1322 - 18s - loss: 1.3579 - accuracy: 0.6323 - 18s/epoch - 14ms/step\n",
            "Epoch 99/100\n",
            "1322/1322 - 18s - loss: 1.3560 - accuracy: 0.6328 - 18s/epoch - 14ms/step\n",
            "Epoch 100/100\n",
            "1322/1322 - 18s - loss: 1.3542 - accuracy: 0.6330 - 18s/epoch - 14ms/step\n"
          ]
        }
      ],
      "source": [
        "# Get the untrained model\n",
        "epochs=50\n",
        "model = create_model(total_words, EMBEDDING_DIM, EMBEDDINGS_MATRIX, max_sequence_len)\n",
        "\n",
        "# Train the model\n",
        "history = model.fit(features, labels, epochs=100, verbose=2, batch_size = 512)"
      ]
    },
    {
      "cell_type": "markdown",
      "metadata": {
        "id": "HjrjvcI51nf1"
      },
      "source": [
        "# **6 Accuracy and Loss curves of trainned model**"
      ]
    },
    {
      "cell_type": "code",
      "execution_count": 45,
      "metadata": {
        "id": "CRd1pcFxhJgF",
        "colab": {
          "base_uri": "https://localhost:8080/",
          "height": 545
        },
        "outputId": "7660e4b5-5514-4f79-d3fc-8626e2ead5b6"
      },
      "outputs": [
        {
          "output_type": "display_data",
          "data": {
            "text/plain": [
              "<Figure size 432x288 with 1 Axes>"
            ],
            "image/png": "[encoded data removed]"
          },
          "metadata": {
            "needs_background": "light"
          }
        },
        {
          "output_type": "display_data",
          "data": {
            "text/plain": [
              "<Figure size 432x288 with 1 Axes>"
            ],
            "image/png": "[encoded data removed]"
          },
          "metadata": {
            "needs_background": "light"
          }
        }
      ],
      "source": [
        "# Take a look at the training curves of your model\n",
        "\n",
        "acc = history.history['accuracy']\n",
        "loss = history.history['loss']\n",
        "\n",
        "epochs = range(len(acc))\n",
        "\n",
        "plt.plot(epochs, acc, 'b', label='Training accuracy')\n",
        "plt.title('Training accuracy')\n",
        "\n",
        "plt.figure()\n",
        "\n",
        "plt.plot(epochs, loss, 'b', label='Training Loss')\n",
        "plt.title('Training loss')\n",
        "plt.legend()\n",
        "\n",
        "plt.show()"
      ]
    },
    {
      "cell_type": "markdown",
      "source": [
        "**Final Results**: Getting 0.6585 accuracy with GLOVE EMBEDDINGS and predicting perfectly on random datasets."
      ],
      "metadata": {
        "id": "UEl9hMeHZl6A"
      }
    },
    {
      "cell_type": "markdown",
      "metadata": {
        "id": "Tm8bOyTG1xFB"
      },
      "source": [
        "# **Download model**"
      ]
    },
    {
      "cell_type": "code",
      "source": [
        "#with open('tokenizer.pickle', 'rb') as handle:\n",
        "    #tokenizer = pickle.load(handle)"
      ],
      "metadata": {
        "id": "XTk1sX6jhkJl",
        "colab": {
          "base_uri": "https://localhost:8080/",
          "height": 183
        },
        "outputId": "4222d836-118c-4d47-e88e-dc1c3f579937"
      },
      "execution_count": 46,
      "outputs": [
        {
          "output_type": "error",
          "ename": "FileNotFoundError",
          "evalue": "ignored",
          "traceback": [
            "\u001b[0;31m---------------------------------------------------------------------------\u001b[0m",
            "\u001b[0;31mFileNotFoundError\u001b[0m                         Traceback (most recent call last)",
            "\u001b[0;32m<ipython-input-46-085fbaeb64ef>\u001b[0m in \u001b[0;36m<module>\u001b[0;34m()\u001b[0m\n\u001b[0;32m----> 1\u001b[0;31m \u001b[0;32mwith\u001b[0m \u001b[0mopen\u001b[0m\u001b[0;34m(\u001b[0m\u001b[0;34m'tokenizer.pickle'\u001b[0m\u001b[0;34m,\u001b[0m \u001b[0;34m'rb'\u001b[0m\u001b[0;34m)\u001b[0m \u001b[0;32mas\u001b[0m \u001b[0mhandle\u001b[0m\u001b[0;34m:\u001b[0m\u001b[0;34m\u001b[0m\u001b[0;34m\u001b[0m\u001b[0m\n\u001b[0m\u001b[1;32m      2\u001b[0m     \u001b[0mtokenizer\u001b[0m \u001b[0;34m=\u001b[0m \u001b[0mpickle\u001b[0m\u001b[0;34m.\u001b[0m\u001b[0mload\u001b[0m\u001b[0;34m(\u001b[0m\u001b[0mhandle\u001b[0m\u001b[0;34m)\u001b[0m\u001b[0;34m\u001b[0m\u001b[0;34m\u001b[0m\u001b[0m\n",
            "\u001b[0;31mFileNotFoundError\u001b[0m: [Errno 2] No such file or directory: 'tokenizer.pickle'"
          ]
        }
      ]
    },
    {
      "cell_type": "code",
      "execution_count": 47,
      "metadata": {
        "id": "3ZWGucWihLiK"
      },
      "outputs": [],
      "source": [
        "model.save('NextWord_Generation_EDA.h5')"
      ]
    },
    {
      "cell_type": "code",
      "source": [
        "#model = tf.keras.models.load_model(\"NextWord_Generation_EDA.h5\")"
      ],
      "metadata": {
        "id": "w39uB26hhBn_"
      },
      "execution_count": 48,
      "outputs": []
    },
    {
      "cell_type": "markdown",
      "metadata": {
        "id": "2hlVoy3_113a"
      },
      "source": [
        "# **Test model with new sentence**"
      ]
    },
    {
      "cell_type": "code",
      "execution_count": 49,
      "metadata": {
        "id": "5xOOjjoGhNoe"
      },
      "outputs": [],
      "source": [
        "\n",
        "def pred(seed_text, output_list_number): \n",
        "\tnext_words = 2\n",
        "\tseed_list = [seed_text] * output_list_number\n",
        "\n",
        "\tfor i,s in enumerate(seed_list):\n",
        "\t\tfor _ in range(next_words):\n",
        "\t\t\t#print(-i-1)\n",
        "\t\t\t# Convert the text into sequences\n",
        "\t\t\ttoken_list = tokenizer.texts_to_sequences([seed_list[i]])[0]\n",
        "\t\t\t\n",
        "\t\t\t# Pad the sequences\n",
        "\t\t\ttoken_list = pad_sequences([token_list], maxlen=max_sequence_len, padding='pre')\n",
        "\t\t\t\n",
        "\t\t\t# Get the probabilities of predicting a word\n",
        "\t\t\tpredicted = model.predict(token_list, verbose=0)\n",
        "\t\t\tpredicted1 = np.argmax(predicted, axis=-1).item()\n",
        "\t\t\tprint(predicted1)\n",
        "\t\t\t# Choose the next word based on the maximum probability\n",
        "\t\t\tindices = np.argsort(predicted[0], axis=0)[-i-1]\n",
        "\t\t\tprint(indices)\n",
        "\t\t\t# Get the actual word from the word index\n",
        "\t\t\toutput_word = tokenizer.index_word[indices]\n",
        "\t\t\tseed_list[i] = seed_list[i] + \" \" + output_word\n",
        "\t\t\tprint(seed_list)\n",
        "\treturn seed_list\n"
      ]
    },
    {
      "cell_type": "code",
      "source": [
        "seeds = [\"I would like to order\"]\n",
        "seeds_out = {} \n",
        "# number of tokens to generate\n",
        "num_toks = 3\n",
        "\n",
        "# text generation\n",
        "for i,s in enumerate(seeds):\n",
        "    seeds_out[i] = pred(seeds[i], 2)\n",
        "    \n",
        "\n",
        "print(seeds_out)"
      ],
      "metadata": {
        "id": "Q0K6vTs0h7Vx",
        "colab": {
          "base_uri": "https://localhost:8080/"
        },
        "outputId": "0f2be772-260c-4f7f-de3e-0ecee1b94949"
      },
      "execution_count": 50,
      "outputs": [
        {
          "output_type": "stream",
          "name": "stdout",
          "text": [
            "3\n",
            "3\n",
            "['I would like to order a', 'I would like to order']\n",
            "25\n",
            "25\n",
            "['I would like to order a pizza', 'I would like to order']\n",
            "3\n",
            "49\n",
            "['I would like to order a pizza', 'I would like to order some']\n",
            "25\n",
            "72\n",
            "['I would like to order a pizza', 'I would like to order some coffee']\n",
            "{0: ['I would like to order a pizza', 'I would like to order some coffee']}\n"
          ]
        }
      ]
    },
    {
      "cell_type": "code",
      "source": [
        "\n",
        "model.save('NextWord_Generation_EDA_tokenizer.h5')"
      ],
      "metadata": {
        "id": "v8JGp7btvpa7"
      },
      "execution_count": 51,
      "outputs": []
    },
    {
      "cell_type": "markdown",
      "source": [
        "# **Sample Test Data**"
      ],
      "metadata": {
        "id": "0j1sV3VzZGji"
      }
    },
    {
      "cell_type": "code",
      "source": [
        "dialogs[50:65]"
      ],
      "metadata": {
        "id": "hkx_4QE2m6pw",
        "colab": {
          "base_uri": "https://localhost:8080/"
        },
        "outputId": "673490f0-f6cf-4f79-9b70-f257eda1e260"
      },
      "execution_count": 52,
      "outputs": [
        {
          "output_type": "execute_result",
          "data": {
            "text/plain": [
              "['Wow! thats a good price',\n",
              " 'I will thanks',\n",
              " \"No problem, I'm just going to postpone and reschedule but I have to discuss it with them first\",\n",
              " 'We are at the North Charleston Performing Arts Center and want to go to the Vendue rooftop bar',\n",
              " 'A caffe americano',\n",
              " 'Great, thanks for that',\n",
              " 'Send me the receipt',\n",
              " ' Not the usual',\n",
              " 'Just two tickets, I am going with a friend',\n",
              " 'Somewhere that has Thai food',\n",
              " 'Some ovalini please',\n",
              " 'In a booth?',\n",
              " \"Let's do the Pool\",\n",
              " 'I can be ready now, so as soon as possible',\n",
              " 'nope that will be it']"
            ]
          },
          "metadata": {},
          "execution_count": 52
        }
      ]
    },
    {
      "cell_type": "code",
      "source": [
        ""
      ],
      "metadata": {
        "id": "EcsOnxJnkzH9"
      },
      "execution_count": null,
      "outputs": []
    }
  ],
  "metadata": {
    "accelerator": "GPU",
    "colab": {
      "collapsed_sections": [],
      "machine_shape": "hm",
      "name": "NextWord_Generation_EDA_using_LSTM.ipynb",
      "provenance": []
    },
    "gpuClass": "standard",
    "kernelspec": {
      "display_name": "Python 3 (ipykernel)",
      "language": "python",
      "name": "python3"
    },
    "language_info": {
      "codemirror_mode": {
        "name": "ipython",
        "version": 3
      },
      "file_extension": ".py",
      "mimetype": "text/x-python",
      "name": "python",
      "nbconvert_exporter": "python",
      "pygments_lexer": "ipython3",
      "version": "3.8.8"
    }
  },
  "nbformat": 4,
  "nbformat_minor": 0
}