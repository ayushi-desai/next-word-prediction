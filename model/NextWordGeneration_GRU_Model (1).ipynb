{
  "cells": [
    {
      "cell_type": "markdown",
      "metadata": {
        "id": "w2p_bqZM3WYu"
      },
      "source": [
        "# Table of Contents\n",
        "\n",
        "1. Import Libraries\n",
        "2. Load Dataset\n",
        "3. Preprocessing and Exploring Text Data\n",
        "  \n",
        "  3.1 Text Cleaning\n",
        "  \n",
        "  3.2 Finding Word Count\n",
        "\n",
        "  3.3 Find and Replace Rare Words with \"Unknown\" Token\n",
        "\n",
        "4. Data Preparation\n",
        "\n",
        "  4.1 Prepare Sequences\n",
        "\n",
        "  4.2 Create Token-Integer Mappings\n",
        "\n",
        "  4.3 Split Data into Train and Validation Sets\n",
        "\n",
        "  4.4 Pad Sequences\n",
        "\n",
        "  4.5 Convert Text Sequences to Integer Sequences</br>\n",
        "  4.6 Implement GloVe Embeddings\n",
        "5. GRU Model Building\n",
        "6. Text Generation\n",
        "7. Test Model"
      ]
    },
    {
      "cell_type": "markdown",
      "metadata": {
        "id": "sZoPOnsX8uPS"
      },
      "source": [
        "# 1. Import Libraries"
      ]
    },
    {
      "cell_type": "code",
      "execution_count": null,
      "metadata": {
        "id": "Z_CCxOEI4iZK"
      },
      "outputs": [],
      "source": [
        "import pandas as pd\n",
        "import numpy as np\n",
        "import pickle\n",
        "import re\n",
        "import random\n",
        "from tqdm import tqdm_notebook\n",
        "\n",
        "import torch\n",
        "from torch import nn\n",
        "import torch.nn.functional as F\n",
        "\n",
        "import numpy as np \n",
        "import tensorflow as tf\n",
        "import matplotlib.pyplot as plt\n",
        "from tensorflow.keras.models import Sequential\n",
        "from tensorflow.keras.utils import to_categorical \n",
        "from tensorflow.keras.preprocessing.text import Tokenizer\n",
        "from tensorflow.keras.preprocessing.sequence import pad_sequences\n",
        "from tensorflow.keras.layers import Embedding, GRU, Dense, Bidirectional\n",
        "from keras import backend as K \n",
        "K.clear_session()"
      ]
    },
    {
      "cell_type": "code",
      "source": [
        "from google.colab import files\n",
        "upload = files.upload()"
      ],
      "metadata": {
        "colab": {
          "resources": {
            "http://localhost:8080/nbextensions/google.colab/files.js": {
              "data": "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",
              "ok": true,
              "headers": [
                [
                  "content-type",
                  "application/javascript"
                ]
              ],
              "status": 200,
              "status_text": ""
            }
          },
          "base_uri": "https://localhost:8080/",
          "height": 74
        },
        "id": "NfbvbqBRPbAu",
        "outputId": "85346805-4f0e-4ee0-bc04-634f2b68ce28"
      },
      "execution_count": null,
      "outputs": [
        {
          "output_type": "display_data",
          "data": {
            "text/plain": [
              "<IPython.core.display.HTML object>"
            ],
            "text/html": [
              "\n",
              "     <input type=\"file\" id=\"files-a9b56a05-0b3b-4023-9884-99ea9ac3ab3c\" name=\"files[]\" multiple disabled\n",
              "        style=\"border:none\" />\n",
              "     <output id=\"result-a9b56a05-0b3b-4023-9884-99ea9ac3ab3c\">\n",
              "      Upload widget is only available when the cell has been executed in the\n",
              "      current browser session. Please rerun this cell to enable.\n",
              "      </output>\n",
              "      <script src=\"/nbextensions/google.colab/files.js\"></script> "
            ]
          },
          "metadata": {}
        },
        {
          "output_type": "stream",
          "name": "stdout",
          "text": [
            "Saving Dailog-dataset.dialogs_dataset to Dailog-dataset (1).dialogs_dataset\n"
          ]
        }
      ]
    },
    {
      "cell_type": "code",
      "execution_count": null,
      "metadata": {
        "colab": {
          "base_uri": "https://localhost:8080/"
        },
        "id": "ypl18CrLFmt6",
        "outputId": "1f24b673-5bff-4d7c-c049-df15d8b7f2bc"
      },
      "outputs": [
        {
          "output_type": "execute_result",
          "data": {
            "text/plain": [
              "array([0.84316375, 0.38939082, 0.41202353, ..., 0.1012444 , 0.40395635,\n",
              "       0.660471  ])"
            ]
          },
          "metadata": {},
          "execution_count": 3
        }
      ],
      "source": [
        "# reproducing same results\n",
        "SEED = 2019\n",
        "\n",
        "np.random.rand(SEED)"
      ]
    },
    {
      "cell_type": "markdown",
      "metadata": {
        "id": "5_5gPvXxWjru"
      },
      "source": [
        "# 2. Load Dataset"
      ]
    },
    {
      "cell_type": "code",
      "source": [
        "# open text file and read in data\n",
        "with open(\"Dailog-dataset.dialogs_dataset\", \"rb\") as f:\n",
        "  dialogs = pickle.load(f)"
      ],
      "metadata": {
        "id": "bNK5HMYflp8b"
      },
      "execution_count": null,
      "outputs": []
    },
    {
      "cell_type": "code",
      "execution_count": null,
      "metadata": {
        "colab": {
          "base_uri": "https://localhost:8080/"
        },
        "id": "81_SXWZlE6Zb",
        "outputId": "f32a1db4-5337-45e4-fea3-0cd2e02a5730"
      },
      "outputs": [
        {
          "output_type": "execute_result",
          "data": {
            "text/plain": [
              "64776"
            ]
          },
          "metadata": {},
          "execution_count": 5
        }
      ],
      "source": [
        "# number of text sequences\n",
        "len(dialogs)"
      ]
    },
    {
      "cell_type": "code",
      "execution_count": null,
      "metadata": {
        "colab": {
          "base_uri": "https://localhost:8080/"
        },
        "id": "zSyAzbttAqP2",
        "outputId": "bf1c334d-1bd1-4e00-c342-7126d8103eac"
      },
      "outputs": [
        {
          "output_type": "execute_result",
          "data": {
            "text/plain": [
              "[\"I'd like hot\",\n",
              " 'Thank you so much',\n",
              " \"I would like to order a Pizza from LaRosa's Pizzeria\",\n",
              " \"Okay, I'll make a reservation at Able's please\",\n",
              " \"That's in three days, I would like one tomorrow at the latest\",\n",
              " 'how about some breadsticks',\n",
              " 'Almond milk is fine then',\n",
              " ' Your receipt will be sent to your mobile device via text message',\n",
              " 'Do they deliver to the my office?',\n",
              " 'why are they closed on monday?']"
            ]
          },
          "metadata": {},
          "execution_count": 6
        }
      ],
      "source": [
        "# print 10 random dialogs\n",
        "random.sample(dialogs, 10)"
      ]
    },
    {
      "cell_type": "markdown",
      "metadata": {
        "id": "kGGTGRUDW9I3"
      },
      "source": [
        "# 3. Preprocessing and Exploring Text Data"
      ]
    },
    {
      "cell_type": "markdown",
      "metadata": {
        "id": "crvUl_ngM8sb"
      },
      "source": [
        "## 3.1 Text Cleaning"
      ]
    },
    {
      "cell_type": "code",
      "execution_count": null,
      "metadata": {
        "id": "kUuUKZgUFhkl"
      },
      "outputs": [],
      "source": [
        "# text cleaning\n",
        "dialogs_clean = []\n",
        "\n",
        "for i in dialogs:\n",
        "  # remove everything except alphabets\n",
        "  i = re.sub(\"[^a-zA-Z' ]\", \"\", i)\n",
        "  # convert text to lowercase\n",
        "  i = i.lower()\n",
        "  # add cleaned text to the list\n",
        "  dialogs_clean.append(i)"
      ]
    },
    {
      "cell_type": "markdown",
      "metadata": {
        "id": "mYDzFQVvNA7_"
      },
      "source": [
        "\n",
        "## 3.2 Finding Word Count"
      ]
    },
    {
      "cell_type": "code",
      "execution_count": null,
      "metadata": {
        "id": "V1hrCYRp11UI"
      },
      "outputs": [],
      "source": [
        "# get list of all the words\n",
        "all_words = \" \".join(dialogs_clean).split()\n",
        "\n",
        "words_dict = {}\n",
        "\n",
        "# add word-count pair to the dictionary\n",
        "for word in all_words:   \n",
        "  # check if the word is already in dictionary \n",
        "  if word in words_dict:\n",
        "    # increment count of word by 1 \n",
        "    words_dict[word] = words_dict[word] + 1\n",
        "  else:\n",
        "    # add the word to dictionary with count 1 \n",
        "    words_dict[word] = 1"
      ]
    },
    {
      "cell_type": "code",
      "execution_count": null,
      "metadata": {
        "id": "gNxSGPubWaqA"
      },
      "outputs": [],
      "source": [
        "# prepare a dataframe\n",
        "words_df = pd.DataFrame({'word':list(words_dict.keys()), 'count':list(words_dict.values())})\n",
        "\n",
        "# sort words by their count in increasing order\n",
        "words_df = words_df.sort_values(by = ['count'])\n",
        "\n",
        "# reset dataframe index\n",
        "words_df.reset_index(inplace = True, drop=True)"
      ]
    },
    {
      "cell_type": "code",
      "execution_count": null,
      "metadata": {
        "colab": {
          "base_uri": "https://localhost:8080/"
        },
        "id": "KVPbPsSWo-Ak",
        "outputId": "17fa932b-6a43-4348-da51-868ef8011dd9"
      },
      "outputs": [
        {
          "output_type": "execute_result",
          "data": {
            "text/plain": [
              "11147"
            ]
          },
          "metadata": {},
          "execution_count": 10
        }
      ],
      "source": [
        "# vocabulary size\n",
        "len(words_df)"
      ]
    },
    {
      "cell_type": "code",
      "execution_count": null,
      "metadata": {
        "colab": {
          "base_uri": "https://localhost:8080/",
          "height": 206
        },
        "id": "JTwmmOiEXBHt",
        "outputId": "5b779e60-71a3-4c3f-b9ec-a1b2c80bbd34"
      },
      "outputs": [
        {
          "output_type": "execute_result",
          "data": {
            "text/plain": [
              "          word  count\n",
              "0  uppermiddle      1\n",
              "1       shoots      1\n",
              "2        geesh      1\n",
              "3       andrea      1\n",
              "4      precice      1"
            ],
            "text/html": [
              "\n",
              "  <div id=\"df-33bf465e-13ee-449f-9e58-ff5611428810\">\n",
              "    <div class=\"colab-df-container\">\n",
              "      <div>\n",
              "<style scoped>\n",
              "    .dataframe tbody tr th:only-of-type {\n",
              "        vertical-align: middle;\n",
              "    }\n",
              "\n",
              "    .dataframe tbody tr th {\n",
              "        vertical-align: top;\n",
              "    }\n",
              "\n",
              "    .dataframe thead th {\n",
              "        text-align: right;\n",
              "    }\n",
              "</style>\n",
              "<table border=\"1\" class=\"dataframe\">\n",
              "  <thead>\n",
              "    <tr style=\"text-align: right;\">\n",
              "      <th></th>\n",
              "      <th>word</th>\n",
              "      <th>count</th>\n",
              "    </tr>\n",
              "  </thead>\n",
              "  <tbody>\n",
              "    <tr>\n",
              "      <th>0</th>\n",
              "      <td>uppermiddle</td>\n",
              "      <td>1</td>\n",
              "    </tr>\n",
              "    <tr>\n",
              "      <th>1</th>\n",
              "      <td>shoots</td>\n",
              "      <td>1</td>\n",
              "    </tr>\n",
              "    <tr>\n",
              "      <th>2</th>\n",
              "      <td>geesh</td>\n",
              "      <td>1</td>\n",
              "    </tr>\n",
              "    <tr>\n",
              "      <th>3</th>\n",
              "      <td>andrea</td>\n",
              "      <td>1</td>\n",
              "    </tr>\n",
              "    <tr>\n",
              "      <th>4</th>\n",
              "      <td>precice</td>\n",
              "      <td>1</td>\n",
              "    </tr>\n",
              "  </tbody>\n",
              "</table>\n",
              "</div>\n",
              "      <button class=\"colab-df-convert\" onclick=\"convertToInteractive('df-33bf465e-13ee-449f-9e58-ff5611428810')\"\n",
              "              title=\"Convert this dataframe to an interactive table.\"\n",
              "              style=\"display:none;\">\n",
              "        \n",
              "  <svg xmlns=\"http://www.w3.org/2000/svg\" height=\"24px\"viewBox=\"0 0 24 24\"\n",
              "       width=\"24px\">\n",
              "    <path d=\"M0 0h24v24H0V0z\" fill=\"none\"/>\n",
              "    <path d=\"M18.56 5.44l.94 2.06.94-2.06 2.06-.94-2.06-.94-.94-2.06-.94 2.06-2.06.94zm-11 1L8.5 8.5l.94-2.06 2.06-.94-2.06-.94L8.5 2.5l-.94 2.06-2.06.94zm10 10l.94 2.06.94-2.06 2.06-.94-2.06-.94-.94-2.06-.94 2.06-2.06.94z\"/><path d=\"M17.41 7.96l-1.37-1.37c-.4-.4-.92-.59-1.43-.59-.52 0-1.04.2-1.43.59L10.3 9.45l-7.72 7.72c-.78.78-.78 2.05 0 2.83L4 21.41c.39.39.9.59 1.41.59.51 0 1.02-.2 1.41-.59l7.78-7.78 2.81-2.81c.8-.78.8-2.07 0-2.86zM5.41 20L4 18.59l7.72-7.72 1.47 1.35L5.41 20z\"/>\n",
              "  </svg>\n",
              "      </button>\n",
              "      \n",
              "  <style>\n",
              "    .colab-df-container {\n",
              "      display:flex;\n",
              "      flex-wrap:wrap;\n",
              "      gap: 12px;\n",
              "    }\n",
              "\n",
              "    .colab-df-convert {\n",
              "      background-color: #E8F0FE;\n",
              "      border: none;\n",
              "      border-radius: 50%;\n",
              "      cursor: pointer;\n",
              "      display: none;\n",
              "      fill: #1967D2;\n",
              "      height: 32px;\n",
              "      padding: 0 0 0 0;\n",
              "      width: 32px;\n",
              "    }\n",
              "\n",
              "    .colab-df-convert:hover {\n",
              "      background-color: #E2EBFA;\n",
              "      box-shadow: 0px 1px 2px rgba(60, 64, 67, 0.3), 0px 1px 3px 1px rgba(60, 64, 67, 0.15);\n",
              "      fill: #174EA6;\n",
              "    }\n",
              "\n",
              "    [theme=dark] .colab-df-convert {\n",
              "      background-color: #3B4455;\n",
              "      fill: #D2E3FC;\n",
              "    }\n",
              "\n",
              "    [theme=dark] .colab-df-convert:hover {\n",
              "      background-color: #434B5C;\n",
              "      box-shadow: 0px 1px 3px 1px rgba(0, 0, 0, 0.15);\n",
              "      filter: drop-shadow(0px 1px 2px rgba(0, 0, 0, 0.3));\n",
              "      fill: #FFFFFF;\n",
              "    }\n",
              "  </style>\n",
              "\n",
              "      <script>\n",
              "        const buttonEl =\n",
              "          document.querySelector('#df-33bf465e-13ee-449f-9e58-ff5611428810 button.colab-df-convert');\n",
              "        buttonEl.style.display =\n",
              "          google.colab.kernel.accessAllowed ? 'block' : 'none';\n",
              "\n",
              "        async function convertToInteractive(key) {\n",
              "          const element = document.querySelector('#df-33bf465e-13ee-449f-9e58-ff5611428810');\n",
              "          const dataTable =\n",
              "            await google.colab.kernel.invokeFunction('convertToInteractive',\n",
              "                                                     [key], {});\n",
              "          if (!dataTable) return;\n",
              "\n",
              "          const docLinkHtml = 'Like what you see? Visit the ' +\n",
              "            '<a target=\"_blank\" href=https://colab.research.google.com/notebooks/data_table.ipynb>data table notebook</a>'\n",
              "            + ' to learn more about interactive tables.';\n",
              "          element.innerHTML = '';\n",
              "          dataTable['output_type'] = 'display_data';\n",
              "          await google.colab.output.renderOutput(dataTable, element);\n",
              "          const docLink = document.createElement('div');\n",
              "          docLink.innerHTML = docLinkHtml;\n",
              "          element.appendChild(docLink);\n",
              "        }\n",
              "      </script>\n",
              "    </div>\n",
              "  </div>\n",
              "  "
            ]
          },
          "metadata": {},
          "execution_count": 11
        }
      ],
      "source": [
        "words_df.head()"
      ]
    },
    {
      "cell_type": "code",
      "execution_count": null,
      "metadata": {
        "colab": {
          "base_uri": "https://localhost:8080/",
          "height": 206
        },
        "id": "EWJEto8TMPiq",
        "outputId": "d8023e9d-d02d-4a9e-99ba-de76e83fe27b"
      },
      "outputs": [
        {
          "output_type": "execute_result",
          "data": {
            "text/plain": [
              "      word  count\n",
              "11142  you  11909\n",
              "11143    a  13380\n",
              "11144   to  14000\n",
              "11145  the  15406\n",
              "11146    i  19654"
            ],
            "text/html": [
              "\n",
              "  <div id=\"df-8cdb3a2a-6cd6-4db2-b578-597535939ddf\">\n",
              "    <div class=\"colab-df-container\">\n",
              "      <div>\n",
              "<style scoped>\n",
              "    .dataframe tbody tr th:only-of-type {\n",
              "        vertical-align: middle;\n",
              "    }\n",
              "\n",
              "    .dataframe tbody tr th {\n",
              "        vertical-align: top;\n",
              "    }\n",
              "\n",
              "    .dataframe thead th {\n",
              "        text-align: right;\n",
              "    }\n",
              "</style>\n",
              "<table border=\"1\" class=\"dataframe\">\n",
              "  <thead>\n",
              "    <tr style=\"text-align: right;\">\n",
              "      <th></th>\n",
              "      <th>word</th>\n",
              "      <th>count</th>\n",
              "    </tr>\n",
              "  </thead>\n",
              "  <tbody>\n",
              "    <tr>\n",
              "      <th>11142</th>\n",
              "      <td>you</td>\n",
              "      <td>11909</td>\n",
              "    </tr>\n",
              "    <tr>\n",
              "      <th>11143</th>\n",
              "      <td>a</td>\n",
              "      <td>13380</td>\n",
              "    </tr>\n",
              "    <tr>\n",
              "      <th>11144</th>\n",
              "      <td>to</td>\n",
              "      <td>14000</td>\n",
              "    </tr>\n",
              "    <tr>\n",
              "      <th>11145</th>\n",
              "      <td>the</td>\n",
              "      <td>15406</td>\n",
              "    </tr>\n",
              "    <tr>\n",
              "      <th>11146</th>\n",
              "      <td>i</td>\n",
              "      <td>19654</td>\n",
              "    </tr>\n",
              "  </tbody>\n",
              "</table>\n",
              "</div>\n",
              "      <button class=\"colab-df-convert\" onclick=\"convertToInteractive('df-8cdb3a2a-6cd6-4db2-b578-597535939ddf')\"\n",
              "              title=\"Convert this dataframe to an interactive table.\"\n",
              "              style=\"display:none;\">\n",
              "        \n",
              "  <svg xmlns=\"http://www.w3.org/2000/svg\" height=\"24px\"viewBox=\"0 0 24 24\"\n",
              "       width=\"24px\">\n",
              "    <path d=\"M0 0h24v24H0V0z\" fill=\"none\"/>\n",
              "    <path d=\"M18.56 5.44l.94 2.06.94-2.06 2.06-.94-2.06-.94-.94-2.06-.94 2.06-2.06.94zm-11 1L8.5 8.5l.94-2.06 2.06-.94-2.06-.94L8.5 2.5l-.94 2.06-2.06.94zm10 10l.94 2.06.94-2.06 2.06-.94-2.06-.94-.94-2.06-.94 2.06-2.06.94z\"/><path d=\"M17.41 7.96l-1.37-1.37c-.4-.4-.92-.59-1.43-.59-.52 0-1.04.2-1.43.59L10.3 9.45l-7.72 7.72c-.78.78-.78 2.05 0 2.83L4 21.41c.39.39.9.59 1.41.59.51 0 1.02-.2 1.41-.59l7.78-7.78 2.81-2.81c.8-.78.8-2.07 0-2.86zM5.41 20L4 18.59l7.72-7.72 1.47 1.35L5.41 20z\"/>\n",
              "  </svg>\n",
              "      </button>\n",
              "      \n",
              "  <style>\n",
              "    .colab-df-container {\n",
              "      display:flex;\n",
              "      flex-wrap:wrap;\n",
              "      gap: 12px;\n",
              "    }\n",
              "\n",
              "    .colab-df-convert {\n",
              "      background-color: #E8F0FE;\n",
              "      border: none;\n",
              "      border-radius: 50%;\n",
              "      cursor: pointer;\n",
              "      display: none;\n",
              "      fill: #1967D2;\n",
              "      height: 32px;\n",
              "      padding: 0 0 0 0;\n",
              "      width: 32px;\n",
              "    }\n",
              "\n",
              "    .colab-df-convert:hover {\n",
              "      background-color: #E2EBFA;\n",
              "      box-shadow: 0px 1px 2px rgba(60, 64, 67, 0.3), 0px 1px 3px 1px rgba(60, 64, 67, 0.15);\n",
              "      fill: #174EA6;\n",
              "    }\n",
              "\n",
              "    [theme=dark] .colab-df-convert {\n",
              "      background-color: #3B4455;\n",
              "      fill: #D2E3FC;\n",
              "    }\n",
              "\n",
              "    [theme=dark] .colab-df-convert:hover {\n",
              "      background-color: #434B5C;\n",
              "      box-shadow: 0px 1px 3px 1px rgba(0, 0, 0, 0.15);\n",
              "      filter: drop-shadow(0px 1px 2px rgba(0, 0, 0, 0.3));\n",
              "      fill: #FFFFFF;\n",
              "    }\n",
              "  </style>\n",
              "\n",
              "      <script>\n",
              "        const buttonEl =\n",
              "          document.querySelector('#df-8cdb3a2a-6cd6-4db2-b578-597535939ddf button.colab-df-convert');\n",
              "        buttonEl.style.display =\n",
              "          google.colab.kernel.accessAllowed ? 'block' : 'none';\n",
              "\n",
              "        async function convertToInteractive(key) {\n",
              "          const element = document.querySelector('#df-8cdb3a2a-6cd6-4db2-b578-597535939ddf');\n",
              "          const dataTable =\n",
              "            await google.colab.kernel.invokeFunction('convertToInteractive',\n",
              "                                                     [key], {});\n",
              "          if (!dataTable) return;\n",
              "\n",
              "          const docLinkHtml = 'Like what you see? Visit the ' +\n",
              "            '<a target=\"_blank\" href=https://colab.research.google.com/notebooks/data_table.ipynb>data table notebook</a>'\n",
              "            + ' to learn more about interactive tables.';\n",
              "          element.innerHTML = '';\n",
              "          dataTable['output_type'] = 'display_data';\n",
              "          await google.colab.output.renderOutput(dataTable, element);\n",
              "          const docLink = document.createElement('div');\n",
              "          docLink.innerHTML = docLinkHtml;\n",
              "          element.appendChild(docLink);\n",
              "        }\n",
              "      </script>\n",
              "    </div>\n",
              "  </div>\n",
              "  "
            ]
          },
          "metadata": {},
          "execution_count": 12
        }
      ],
      "source": [
        "words_df.tail()"
      ]
    },
    {
      "cell_type": "markdown",
      "metadata": {
        "id": "nTcWd-pYFRob"
      },
      "source": [
        "## 3.3 Find and Replace Rare Words with \"Unknown\" Token"
      ]
    },
    {
      "cell_type": "code",
      "execution_count": null,
      "metadata": {
        "id": "1iC4ztG3XIP3"
      },
      "outputs": [],
      "source": [
        "# user specified threshold value\n",
        "rare_thresh = 2\n",
        "\n",
        "# get percentage of rare words in the vocabulary\n",
        "rare_words_count = len(words_df[words_df['count'] < rare_thresh]['word'])\n",
        "total_words = len(words_df) \n",
        "rare_dist = rare_words_count / total_words\n",
        "\n",
        "# coverage percentage of rare words in the corpus\n",
        "rare_cover = words_df[words_df['count'] < rare_thresh]['count'].sum()/words_df['count'].sum()"
      ]
    },
    {
      "cell_type": "code",
      "execution_count": null,
      "metadata": {
        "colab": {
          "base_uri": "https://localhost:8080/"
        },
        "id": "helYHQ4BXNK9",
        "outputId": "863a1f09-9b97-4fd8-baaa-57612ce5538b"
      },
      "outputs": [
        {
          "output_type": "stream",
          "name": "stdout",
          "text": [
            "Rare words distribution in the vocabulary: 47.98\n",
            "Rare words coverage in the corpus: 1.12\n"
          ]
        }
      ],
      "source": [
        "print(f\"Rare words distribution in the vocabulary: {rare_dist*100:.2f}\")\n",
        "print(f\"Rare words coverage in the corpus: {rare_cover*100:.2f}\")"
      ]
    },
    {
      "cell_type": "code",
      "execution_count": null,
      "metadata": {
        "id": "yJhbRQllXQJk"
      },
      "outputs": [],
      "source": [
        "# extract rare words in a list\n",
        "rare_words = words_df[words_df['count'] < rare_thresh]['word'].tolist()"
      ]
    },
    {
      "cell_type": "markdown",
      "metadata": {
        "id": "178uBVztqTDa"
      },
      "source": [
        "Replace the rare words/tokens in the dataset with a special token known as the unknown token (\"\\<unk\\>\")"
      ]
    },
    {
      "cell_type": "code",
      "execution_count": null,
      "metadata": {
        "colab": {
          "base_uri": "https://localhost:8080/"
        },
        "id": "H5tSChzyoOJT",
        "outputId": "a683e372-00f6-445c-8b01-a215a6800836"
      },
      "outputs": [
        {
          "output_type": "stream",
          "name": "stdout",
          "text": [
            "day|book|\n"
          ]
        }
      ],
      "source": [
        "## example\n",
        "# specify rare words\n",
        "r_words = [\"day\", \"book\"]\n",
        "\n",
        "# build pattern\n",
        "pattern = \"\"\n",
        "for i in r_words:\n",
        "  pattern+= \"{}|\".format(i)\n",
        "\n",
        "print(pattern)"
      ]
    },
    {
      "cell_type": "code",
      "execution_count": null,
      "metadata": {
        "colab": {
          "base_uri": "https://localhost:8080/"
        },
        "id": "xZAMqmwPowZj",
        "outputId": "2012b327-c981-4e22-f935-5e36dad0888d"
      },
      "outputs": [
        {
          "output_type": "stream",
          "name": "stdout",
          "text": [
            "day|book\n"
          ]
        }
      ],
      "source": [
        "# removing the last element which is \"|\"\n",
        "pattern = pattern[:-1]\n",
        "print(pattern)"
      ]
    },
    {
      "cell_type": "code",
      "execution_count": null,
      "metadata": {
        "colab": {
          "base_uri": "https://localhost:8080/"
        },
        "id": "UV1K1ibbo3XI",
        "outputId": "b267690a-cf0b-4cf9-a258-26f9a923a648"
      },
      "outputs": [
        {
          "output_type": "stream",
          "name": "stdout",
          "text": [
            "it has been a long  <unk> \n",
            "this  <unk>  is a must read\n"
          ]
        }
      ],
      "source": [
        "# replace the rare words with the <unk> token\n",
        "sents = [\"it has been a long day\", \"this book is a must read\"]\n",
        "\n",
        "for d in sents:\n",
        "  text = re.sub(pattern, \" <unk> \", d)\n",
        "  print(text)"
      ]
    },
    {
      "cell_type": "code",
      "execution_count": null,
      "metadata": {
        "id": "hEn-L1_8YBjl"
      },
      "outputs": [],
      "source": [
        "# create a text pattern from the rare words, like \"word1 | word2 | word3...\"\n",
        "pattern = \"\"\n",
        "for i in rare_words:\n",
        "  pattern+= \" {} |\".format(i)\n",
        "\n",
        "# removing the last element which is \"|\"\n",
        "pattern = pattern[:-1]\n",
        "\n",
        "# empty list \n",
        "dialogs_clean_v2 = []\n",
        "\n",
        "# replace the rare words with the <unk> token\n",
        "#for d in tqdm_notebook(dialogs_clean):\n",
        "for d in dialogs_clean:\n",
        "  text = re.sub(pattern, \" <unk> \", d)\n",
        "  dialogs_clean_v2.append(text)"
      ]
    },
    {
      "cell_type": "code",
      "execution_count": null,
      "metadata": {
        "id": "FMh9IVnQdyGE"
      },
      "outputs": [],
      "source": [
        "dialogs_clean_v2 = dialogs_clean[:12000]"
      ]
    },
    {
      "cell_type": "code",
      "source": [
        "dialogs_clean_v2[:10]"
      ],
      "metadata": {
        "colab": {
          "base_uri": "https://localhost:8080/"
        },
        "id": "Skg_W9Aaj4EK",
        "outputId": "4979ed57-9559-431c-dc5b-108f2859fb0e"
      },
      "execution_count": null,
      "outputs": [
        {
          "output_type": "execute_result",
          "data": {
            "text/plain": [
              "[\"hi i'm looking to book a table for korean fod\",\n",
              " 'somewhere in southern nyc maybe the east village',\n",
              " \" we don't want to sit at the bar but anywhere else is fine\",\n",
              " 'what times are available',\n",
              " \"yikes we can't do those times\",\n",
              " 'let me check',\n",
              " \"great let's book that\",\n",
              " \"no that's it just book\",\n",
              " 'hi i would like to see if the movie what men want is playing here',\n",
              " 'yes for me and a friend so two tickets please']"
            ]
          },
          "metadata": {},
          "execution_count": 21
        }
      ]
    },
    {
      "cell_type": "markdown",
      "metadata": {
        "id": "waTukoy1AbVT"
      },
      "source": [
        "# 4. Data Preparation"
      ]
    },
    {
      "cell_type": "markdown",
      "metadata": {
        "id": "8SvIJQ0brBWW"
      },
      "source": [
        "## 4.1 Prepare Sequences"
      ]
    },
    {
      "cell_type": "code",
      "execution_count": null,
      "metadata": {
        "colab": {
          "base_uri": "https://localhost:8080/",
          "height": 282
        },
        "id": "H5BYGcwBF7hX",
        "outputId": "45bf5def-f4be-4d6a-8276-217aeb016908"
      },
      "outputs": [
        {
          "output_type": "stream",
          "name": "stdout",
          "text": [
            "12000\n"
          ]
        },
        {
          "output_type": "display_data",
          "data": {
            "text/plain": [
              "<Figure size 432x288 with 1 Axes>"
            ],
            "image/png": "[encoded data removed]"
          },
          "metadata": {
            "needs_background": "light"
          }
        }
      ],
      "source": [
        "# capture length of all the sequences\n",
        "text_word_count = []\n",
        "for i in dialogs_clean_v2:\n",
        "  text_word_count.append(len(i.split()))\n",
        "        \n",
        "# plot the sequence lengths\n",
        "pd.Series(text_word_count).hist(bins = 30,range=(0,30))\n",
        "print(len(text_word_count))"
      ]
    },
    {
      "cell_type": "code",
      "execution_count": null,
      "metadata": {
        "id": "uw8F6bfwjBeo"
      },
      "outputs": [],
      "source": [
        "# function to create sequences of equal length\n",
        "def create_seq1(text, seq_len = 5):\n",
        "      \n",
        "  sequences = []    \n",
        "  temp = 0\n",
        "  seq_len1 = 5\n",
        "  if len(text.split()) > seq_len:\n",
        "    for i in range(0, round(len(text.split())/seq_len)):\n",
        "      # select sequence of tokens\n",
        "      seq = text.split()[temp:seq_len1]\n",
        "      temp = seq_len1\n",
        "      seq_len1 = seq_len + temp\n",
        "      \n",
        "      if len(seq) > 0:\n",
        "        # append sequence to the list\n",
        "        sequences.append(\" \".join(seq))\n",
        "\n",
        "    return sequences\n",
        "\n",
        "  else:\n",
        "    \n",
        "    return [text]"
      ]
    },
    {
      "cell_type": "code",
      "source": [
        "# function to create sequences of equal length\n",
        "def create_seq(text, seq_len = 5):\n",
        "      \n",
        "  sequences = []    \n",
        "  \n",
        "  if len(text.split()) > seq_len:\n",
        "    for i in range(seq_len, len(text.split())):\n",
        "      # select sequence of tokens\n",
        "      seq = text.split()[i-seq_len:i+1]\n",
        "      # append sequence to the list\n",
        "      sequences.append(\" \".join(seq))\n",
        "\n",
        "    return sequences\n",
        "\n",
        "  else:\n",
        "    \n",
        "    return [text]"
      ],
      "metadata": {
        "id": "QuiaxDXww5H_"
      },
      "execution_count": null,
      "outputs": []
    },
    {
      "cell_type": "code",
      "execution_count": null,
      "metadata": {
        "colab": {
          "base_uri": "https://localhost:8080/"
        },
        "id": "p0psJCgo9QtH",
        "outputId": "223efc3b-46ec-486d-ec64-c335dd422b96"
      },
      "outputs": [
        {
          "output_type": "execute_result",
          "data": {
            "text/plain": [
              "[[\"hi i'm looking to book a\",\n",
              "  \"i'm looking to book a table\",\n",
              "  'looking to book a table for',\n",
              "  'to book a table for korean',\n",
              "  'book a table for korean fod'],\n",
              " ['somewhere in southern nyc maybe the',\n",
              "  'in southern nyc maybe the east',\n",
              "  'southern nyc maybe the east village'],\n",
              " [\"we don't want to sit at\",\n",
              "  \"don't want to sit at the\",\n",
              "  'want to sit at the bar',\n",
              "  'to sit at the bar but',\n",
              "  'sit at the bar but anywhere',\n",
              "  'at the bar but anywhere else',\n",
              "  'the bar but anywhere else is',\n",
              "  'bar but anywhere else is fine'],\n",
              " ['what times are available'],\n",
              " [\"yikes we can't do those times\"],\n",
              " ['let me check'],\n",
              " [\"great let's book that\"],\n",
              " [\"no that's it just book\"],\n",
              " ['hi i would like to see',\n",
              "  'i would like to see if',\n",
              "  'would like to see if the',\n",
              "  'like to see if the movie',\n",
              "  'to see if the movie what',\n",
              "  'see if the movie what men',\n",
              "  'if the movie what men want',\n",
              "  'the movie what men want is',\n",
              "  'movie what men want is playing',\n",
              "  'what men want is playing here'],\n",
              " ['yes for me and a friend',\n",
              "  'for me and a friend so',\n",
              "  'me and a friend so two',\n",
              "  'and a friend so two tickets',\n",
              "  'a friend so two tickets please']]"
            ]
          },
          "metadata": {},
          "execution_count": 25
        }
      ],
      "source": [
        "# create sequences of equal length\n",
        "seqs = [create_seq(i) for i in dialogs_clean_v2 if len(i) < 100 and len(i) > 1]\n",
        "#seqs = [i for i in dialogs_clean_v2 if len(i) < 80]\n",
        "seqs[:10]"
      ]
    },
    {
      "cell_type": "code",
      "execution_count": null,
      "metadata": {
        "id": "0_sqNUB1p86p"
      },
      "outputs": [],
      "source": [
        "# merge list-of-lists into a single list\n",
        "corpus = sum(seqs, [])\n"
      ]
    },
    {
      "cell_type": "code",
      "execution_count": null,
      "metadata": {
        "colab": {
          "base_uri": "https://localhost:8080/"
        },
        "id": "dwmBsxuqxPRq",
        "outputId": "dd8197ac-abfd-40ea-b6d6-30be32a712f7"
      },
      "outputs": [
        {
          "output_type": "execute_result",
          "data": {
            "text/plain": [
              "[\"hi i'm looking to book a\",\n",
              " \"i'm looking to book a table\",\n",
              " 'looking to book a table for',\n",
              " 'to book a table for korean',\n",
              " 'book a table for korean fod',\n",
              " 'somewhere in southern nyc maybe the',\n",
              " 'in southern nyc maybe the east',\n",
              " 'southern nyc maybe the east village',\n",
              " \"we don't want to sit at\",\n",
              " \"don't want to sit at the\",\n",
              " 'want to sit at the bar',\n",
              " 'to sit at the bar but',\n",
              " 'sit at the bar but anywhere',\n",
              " 'at the bar but anywhere else',\n",
              " 'the bar but anywhere else is',\n",
              " 'bar but anywhere else is fine',\n",
              " 'what times are available',\n",
              " \"yikes we can't do those times\",\n",
              " 'let me check',\n",
              " \"great let's book that\"]"
            ]
          },
          "metadata": {},
          "execution_count": 27
        }
      ],
      "source": [
        "corpus[:20]"
      ]
    },
    {
      "cell_type": "markdown",
      "metadata": {
        "id": "c_1Lazko0ncT"
      },
      "source": [
        " **4.2 Create Token-Integer Mappings**"
      ]
    },
    {
      "cell_type": "code",
      "execution_count": null,
      "metadata": {
        "id": "ycKTOMtn3IHb"
      },
      "outputs": [],
      "source": [
        "tokenizer = Tokenizer()\n",
        "tokenizer.fit_on_texts(corpus)\n",
        "total_words = len(tokenizer.word_index) + 1"
      ]
    },
    {
      "cell_type": "code",
      "execution_count": null,
      "metadata": {
        "colab": {
          "base_uri": "https://localhost:8080/"
        },
        "id": "uGudI_YR3NVa",
        "outputId": "4de131df-b278-4c83-8f8b-5734a2bb473d"
      },
      "outputs": [
        {
          "output_type": "execute_result",
          "data": {
            "text/plain": [
              "4551"
            ]
          },
          "metadata": {},
          "execution_count": 29
        }
      ],
      "source": [
        "total_words"
      ]
    },
    {
      "cell_type": "markdown",
      "metadata": {
        "id": "i87lF6O70zSC"
      },
      "source": [
        "**4.3 Generates a list of n-gram sequences and list of n-gram sequences**"
      ]
    },
    {
      "cell_type": "code",
      "execution_count": null,
      "metadata": {
        "id": "hdQyfvD24Yzg"
      },
      "outputs": [],
      "source": [
        "#Create n_gram_seqs\n",
        "def n_gram_seqs(corpus, tokenizer):\n",
        "    \"\"\"\n",
        "    Generates a list of n-gram sequences\n",
        "    \n",
        "    Args:\n",
        "        corpus (list of string): lines of texts to generate n-grams for\n",
        "        tokenizer (object): an instance of the Tokenizer class containing the word-index dictionary\n",
        "    \n",
        "    Returns:\n",
        "        input_sequences (list of int): the n-gram sequences for each line in the corpus\n",
        "    \"\"\"\n",
        "    input_sequences = []\n",
        "    output_sequences = []\n",
        "    ### START CODE HERE\n",
        "    for line in corpus:\n",
        "      token_list = tokenizer.texts_to_sequences([line])[0]\n",
        "      \n",
        "      for i in range(1, len(token_list)):\n",
        "        n_gram_seqs= token_list[:i]\n",
        "        #print(n_gram_seqs)\n",
        "        input_sequences.append(n_gram_seqs)\n",
        "        output_sequences.append(token_list[i:i+1])\n",
        "        \n",
        "    ### END CODE HERE\n",
        "    \n",
        "    return input_sequences, output_sequences"
      ]
    },
    {
      "cell_type": "code",
      "execution_count": null,
      "metadata": {
        "colab": {
          "base_uri": "https://localhost:8080/"
        },
        "id": "4WGyZvGA4iJK",
        "outputId": "4dd6a165-5b20-4893-ad4a-2cddb2e32ba6"
      },
      "outputs": [
        {
          "output_type": "stream",
          "name": "stdout",
          "text": [
            "n_grams of input_sequences length: 166917\n",
            "maximum length of sequences : 5\n"
          ]
        },
        {
          "output_type": "execute_result",
          "data": {
            "text/plain": [
              "[[115],\n",
              " [115, 61],\n",
              " [115, 61, 123],\n",
              " [115, 61, 123, 1],\n",
              " [115, 61, 123, 1, 52],\n",
              " [61],\n",
              " [61, 123],\n",
              " [61, 123, 1],\n",
              " [61, 123, 1, 52],\n",
              " [61, 123, 1, 52, 3]]"
            ]
          },
          "metadata": {},
          "execution_count": 31
        }
      ],
      "source": [
        "# Apply the n_gram_seqs transformation to the whole corpus\n",
        "input_sequences, output_sequences = n_gram_seqs(corpus, tokenizer)\n",
        "\n",
        "# Save max length \n",
        "max_sequence_len = max([len(x) for x in input_sequences])\n",
        "\n",
        "print(f\"n_grams of input_sequences length: {len(input_sequences)}\")\n",
        "print(f\"maximum length of sequences : {max_sequence_len}\")\n",
        "input_sequences[:10]"
      ]
    },
    {
      "cell_type": "code",
      "execution_count": null,
      "metadata": {
        "colab": {
          "base_uri": "https://localhost:8080/"
        },
        "id": "p1bvMXPF-atc",
        "outputId": "0ef1f145-313a-4fd7-80d6-2922098de946"
      },
      "outputs": [
        {
          "output_type": "execute_result",
          "data": {
            "text/plain": [
              "[[61], [123], [1], [52], [3], [123], [1], [52], [3], [102]]"
            ]
          },
          "metadata": {},
          "execution_count": 32
        }
      ],
      "source": [
        "output_sequences[:10]"
      ]
    },
    {
      "cell_type": "markdown",
      "metadata": {
        "id": "pWdt2Yzd0uFG"
      },
      "source": [
        "**4.4 Create Token-Integer Mappings**"
      ]
    },
    {
      "cell_type": "code",
      "execution_count": null,
      "metadata": {
        "id": "u7oNbNAR4k_i"
      },
      "outputs": [],
      "source": [
        "def pad_seqs(input_sequences, maxlen):\n",
        "    \"\"\"\n",
        "    Pads tokenized sequences to same length\n",
        "    \n",
        "    Args:\n",
        "        input_sequences: tokenized sequences to pad\n",
        "        maxlen: maximum length of sequences\n",
        "    \n",
        "    Returns:\n",
        "        padded_sequences: tokenized sequences padded to  same length\n",
        "    \"\"\"\n",
        "\n",
        "    post_pad_sequence = pad_sequences(input_sequences, maxlen=maxlen, padding='pre')\n",
        "    return post_pad_sequence"
      ]
    },
    {
      "cell_type": "code",
      "execution_count": null,
      "metadata": {
        "colab": {
          "base_uri": "https://localhost:8080/"
        },
        "id": "br1dRGoP4upC",
        "outputId": "e89b51b1-57db-4fc0-9b94-e6d7e6cc310d"
      },
      "outputs": [
        {
          "output_type": "stream",
          "name": "stdout",
          "text": [
            "padded corpus has shape: (166917, 5)\n"
          ]
        }
      ],
      "source": [
        "# Pad the whole corpus\n",
        "pad_sequence = pad_seqs(input_sequences, max_sequence_len)\n",
        "\n",
        "print(f\"padded corpus has shape: {pad_sequence.shape}\")"
      ]
    },
    {
      "cell_type": "code",
      "execution_count": null,
      "metadata": {
        "colab": {
          "base_uri": "https://localhost:8080/"
        },
        "id": "wNFLZSx9l2f-",
        "outputId": "d9e69776-ae8d-452d-c67e-547190bce713"
      },
      "outputs": [
        {
          "output_type": "execute_result",
          "data": {
            "text/plain": [
              "array([[  0,   0,   0,   0, 115],\n",
              "       [  0,   0,   0, 115,  61],\n",
              "       [  0,   0, 115,  61, 123],\n",
              "       ...,\n",
              "       [  0,   0,  29,  23,   9],\n",
              "       [  0,  29,  23,   9,   6],\n",
              "       [ 29,  23,   9,   6,  62]], dtype=int32)"
            ]
          },
          "metadata": {},
          "execution_count": 35
        }
      ],
      "source": [
        "pad_sequence"
      ]
    },
    {
      "cell_type": "code",
      "execution_count": null,
      "metadata": {
        "id": "Fuk3GeAa4xIa"
      },
      "outputs": [],
      "source": [
        "def features_and_labels(pad_sequence, labels, total_words):\n",
        "\n",
        "    #features = pre_pad_sequence[:,:-1]\n",
        "    one_hot_labels = to_categorical(labels, num_classes=total_words)\n",
        "\n",
        "    return pad_sequence, one_hot_labels"
      ]
    },
    {
      "cell_type": "code",
      "execution_count": null,
      "metadata": {
        "colab": {
          "base_uri": "https://localhost:8080/"
        },
        "id": "t4gxDZzd42P8",
        "outputId": "a2ee1143-4e90-46be-f152-342d4d14d8e9"
      },
      "outputs": [
        {
          "output_type": "stream",
          "name": "stdout",
          "text": [
            "features have shape: (166917, 5)\n",
            "labels have shape: (166917, 4551)\n"
          ]
        }
      ],
      "source": [
        "# Split the whole corpus\n",
        "features, labels = features_and_labels(pad_sequence, output_sequences, total_words)\n",
        "\n",
        "print(f\"features have shape: {features.shape}\")\n",
        "print(f\"labels have shape: {labels.shape}\")\n"
      ]
    },
    {
      "cell_type": "code",
      "execution_count": null,
      "metadata": {
        "colab": {
          "base_uri": "https://localhost:8080/"
        },
        "id": "Mz1wUvgzlwl8",
        "outputId": "e64cc504-21de-4676-ae1a-4fce74e430d6"
      },
      "outputs": [
        {
          "output_type": "execute_result",
          "data": {
            "text/plain": [
              "array([[  0,   0,   0,   0, 115],\n",
              "       [  0,   0,   0, 115,  61],\n",
              "       [  0,   0, 115,  61, 123],\n",
              "       ...,\n",
              "       [  0,   0,  29,  23,   9],\n",
              "       [  0,  29,  23,   9,   6],\n",
              "       [ 29,  23,   9,   6,  62]], dtype=int32)"
            ]
          },
          "metadata": {},
          "execution_count": 38
        }
      ],
      "source": [
        "post_pad_sequence = []\n",
        "pre_pad_sequence = []\n",
        "#seqs = []\n",
        "corpus = []\n",
        "features"
      ]
    },
    {
      "cell_type": "markdown",
      "source": [
        "Implementing Glove for better accuracy"
      ],
      "metadata": {
        "id": "bmYz0WBQZb35"
      }
    },
    {
      "cell_type": "code",
      "source": [
        "# Define path to file containing the embeddings\n",
        "GLOVE_FILE = './glove.6B.100d.txt'\n",
        "\n",
        "# Initialize an empty embeddings index dictionary\n",
        "GLOVE_EMBEDDINGS = {}\n",
        "\n",
        "# Read file and fill GLOVE_EMBEDDINGS with its contents\n",
        "with open(GLOVE_FILE) as f:\n",
        "    for line in f:\n",
        "        values = line.split()\n",
        "        word = values[0]\n",
        "        coefs = np.asarray(values[1:], dtype='float32')\n",
        "        GLOVE_EMBEDDINGS[word] = coefs"
      ],
      "metadata": {
        "id": "AmSN2V_HDEWK"
      },
      "execution_count": null,
      "outputs": []
    },
    {
      "cell_type": "code",
      "source": [
        "EMBEDDING_DIM = 100\n",
        "word_index = tokenizer.word_index\n",
        "# Initialize empty numpy array with the appropriate size\n",
        "EMBEDDINGS_MATRIX = np.zeros((total_words+1, EMBEDDING_DIM))\n",
        "\n",
        "# Iterate all of the words in the vocabulary\n",
        "for word, i in word_index.items():\n",
        "    embedding_vector = GLOVE_EMBEDDINGS.get(word)\n",
        "    if embedding_vector is not None:\n",
        "        EMBEDDINGS_MATRIX[i] = embedding_vector"
      ],
      "metadata": {
        "id": "qLglCzKUD0Hr"
      },
      "execution_count": null,
      "outputs": []
    },
    {
      "cell_type": "markdown",
      "metadata": {
        "id": "Q7YLFIwX1M0a"
      },
      "source": [
        " Model Architecture"
      ]
    },
    {
      "cell_type": "code",
      "execution_count": null,
      "metadata": {
        "id": "uHbLbl3n44xB"
      },
      "outputs": [],
      "source": [
        "#Importing thte libraries\n",
        "import numpy as np\n",
        "import matplotlib.pyplot as plt\n",
        "plt.style.use('fivethirtyeight')\n",
        "import pandas as pd\n",
        "from sklearn.preprocessing import MinMaxScaler\n",
        "from keras import regularizers\n",
        "from keras.regularizers import l2\n",
        "from keras.models import Sequential\n",
        "from keras.layers import Dense, LSTM, Dropout, GRU, Bidirectional\n",
        "import math\n",
        "from sklearn.metrics import mean_squared_error\n",
        "import tensorflow as tf\n",
        "from tensorflow.keras import layers"
      ]
    },
    {
      "cell_type": "code",
      "source": [
        "#setting up the model \n",
        "def GRU_model(total_words, embedding_dim, embeddings_matrix,  max_sequence_len):\n",
        "  model = Sequential()\n",
        "  model.add(Embedding(total_words+1, embedding_dim, input_length=max_sequence_len, weights=[embeddings_matrix]))\n",
        "  model.add((GRU(units=128)))\n",
        "  model.add(Dense(total_words, activation='softmax'))\n",
        "  learning_rate = 0.001\n",
        "  opt = tf.keras.optimizers.Adam(learning_rate=learning_rate)\n",
        "\n",
        "  # Compiling the model\n",
        "  model.compile(loss='categorical_crossentropy', optimizer= opt, metrics=['accuracy'])\n",
        "  #printing model summary\n",
        "  model.summary()\n",
        "  return model"
      ],
      "metadata": {
        "id": "430HsJrTW2_p"
      },
      "execution_count": null,
      "outputs": []
    },
    {
      "cell_type": "markdown",
      "metadata": {
        "id": "hOaul-Sp1Uqp"
      },
      "source": [
        " **5.2 Train Model**"
      ]
    },
    {
      "cell_type": "code",
      "execution_count": null,
      "metadata": {
        "id": "-tvZHqmY4965",
        "colab": {
          "base_uri": "https://localhost:8080/"
        },
        "outputId": "aa394e40-610f-4ad0-b86e-e6c7032b310c"
      },
      "outputs": [
        {
          "output_type": "stream",
          "name": "stdout",
          "text": [
            "Model: \"sequential_1\"\n",
            "_________________________________________________________________\n",
            " Layer (type)                Output Shape              Param #   \n",
            "=================================================================\n",
            " embedding_1 (Embedding)     (None, 5, 100)            455200    \n",
            "                                                                 \n",
            " gru_1 (GRU)                 (None, 128)               88320     \n",
            "                                                                 \n",
            " dense_1 (Dense)             (None, 4551)              587079    \n",
            "                                                                 \n",
            "=================================================================\n",
            "Total params: 1,130,599\n",
            "Trainable params: 1,130,599\n",
            "Non-trainable params: 0\n",
            "_________________________________________________________________\n",
            "Epoch 1/300\n",
            "327/327 - 5s - loss: 5.8893 - accuracy: 0.0635 - 5s/epoch - 16ms/step\n",
            "Epoch 2/300\n",
            "327/327 - 4s - loss: 4.9920 - accuracy: 0.1592 - 4s/epoch - 12ms/step\n",
            "Epoch 3/300\n",
            "327/327 - 4s - loss: 4.3272 - accuracy: 0.2242 - 4s/epoch - 12ms/step\n",
            "Epoch 4/300\n",
            "327/327 - 4s - loss: 3.9372 - accuracy: 0.2597 - 4s/epoch - 12ms/step\n",
            "Epoch 5/300\n",
            "327/327 - 4s - loss: 3.6588 - accuracy: 0.2861 - 4s/epoch - 12ms/step\n",
            "Epoch 6/300\n",
            "327/327 - 4s - loss: 3.4439 - accuracy: 0.3094 - 4s/epoch - 12ms/step\n",
            "Epoch 7/300\n",
            "327/327 - 4s - loss: 3.2713 - accuracy: 0.3279 - 4s/epoch - 12ms/step\n",
            "Epoch 8/300\n",
            "327/327 - 4s - loss: 3.1243 - accuracy: 0.3449 - 4s/epoch - 12ms/step\n",
            "Epoch 9/300\n",
            "327/327 - 4s - loss: 2.9990 - accuracy: 0.3595 - 4s/epoch - 12ms/step\n",
            "Epoch 10/300\n",
            "327/327 - 4s - loss: 2.8923 - accuracy: 0.3738 - 4s/epoch - 12ms/step\n",
            "Epoch 11/300\n",
            "327/327 - 4s - loss: 2.7996 - accuracy: 0.3865 - 4s/epoch - 12ms/step\n",
            "Epoch 12/300\n",
            "327/327 - 4s - loss: 2.7105 - accuracy: 0.3988 - 4s/epoch - 12ms/step\n",
            "Epoch 13/300\n",
            "327/327 - 4s - loss: 2.6330 - accuracy: 0.4103 - 4s/epoch - 12ms/step\n",
            "Epoch 14/300\n",
            "327/327 - 4s - loss: 2.5664 - accuracy: 0.4210 - 4s/epoch - 12ms/step\n",
            "Epoch 15/300\n",
            "327/327 - 4s - loss: 2.5036 - accuracy: 0.4314 - 4s/epoch - 12ms/step\n",
            "Epoch 16/300\n",
            "327/327 - 4s - loss: 2.4500 - accuracy: 0.4411 - 4s/epoch - 12ms/step\n",
            "Epoch 17/300\n",
            "327/327 - 4s - loss: 2.4006 - accuracy: 0.4498 - 4s/epoch - 12ms/step\n",
            "Epoch 18/300\n",
            "327/327 - 4s - loss: 2.3497 - accuracy: 0.4575 - 4s/epoch - 12ms/step\n",
            "Epoch 19/300\n",
            "327/327 - 4s - loss: 2.3010 - accuracy: 0.4672 - 4s/epoch - 12ms/step\n",
            "Epoch 20/300\n",
            "327/327 - 4s - loss: 2.2616 - accuracy: 0.4737 - 4s/epoch - 12ms/step\n",
            "Epoch 21/300\n",
            "327/327 - 4s - loss: 2.2282 - accuracy: 0.4796 - 4s/epoch - 12ms/step\n",
            "Epoch 22/300\n",
            "327/327 - 4s - loss: 2.1902 - accuracy: 0.4868 - 4s/epoch - 12ms/step\n",
            "Epoch 23/300\n",
            "327/327 - 4s - loss: 2.1621 - accuracy: 0.4917 - 4s/epoch - 12ms/step\n",
            "Epoch 24/300\n",
            "327/327 - 4s - loss: 2.1277 - accuracy: 0.4980 - 4s/epoch - 12ms/step\n",
            "Epoch 25/300\n",
            "327/327 - 4s - loss: 2.0999 - accuracy: 0.5033 - 4s/epoch - 12ms/step\n",
            "Epoch 26/300\n",
            "327/327 - 4s - loss: 2.0795 - accuracy: 0.5062 - 4s/epoch - 12ms/step\n",
            "Epoch 27/300\n",
            "327/327 - 4s - loss: 2.0497 - accuracy: 0.5117 - 4s/epoch - 12ms/step\n",
            "Epoch 28/300\n",
            "327/327 - 4s - loss: 2.0202 - accuracy: 0.5180 - 4s/epoch - 12ms/step\n",
            "Epoch 29/300\n",
            "327/327 - 4s - loss: 1.9999 - accuracy: 0.5220 - 4s/epoch - 12ms/step\n",
            "Epoch 30/300\n",
            "327/327 - 4s - loss: 1.9775 - accuracy: 0.5265 - 4s/epoch - 12ms/step\n",
            "Epoch 31/300\n",
            "327/327 - 4s - loss: 1.9671 - accuracy: 0.5276 - 4s/epoch - 12ms/step\n",
            "Epoch 32/300\n",
            "327/327 - 4s - loss: 1.9338 - accuracy: 0.5343 - 4s/epoch - 12ms/step\n",
            "Epoch 33/300\n",
            "327/327 - 4s - loss: 1.9255 - accuracy: 0.5352 - 4s/epoch - 12ms/step\n",
            "Epoch 34/300\n",
            "327/327 - 4s - loss: 1.9091 - accuracy: 0.5401 - 4s/epoch - 12ms/step\n",
            "Epoch 35/300\n",
            "327/327 - 4s - loss: 1.8851 - accuracy: 0.5438 - 4s/epoch - 12ms/step\n",
            "Epoch 36/300\n",
            "327/327 - 4s - loss: 1.8678 - accuracy: 0.5474 - 4s/epoch - 12ms/step\n",
            "Epoch 37/300\n",
            "327/327 - 4s - loss: 1.8515 - accuracy: 0.5502 - 4s/epoch - 12ms/step\n",
            "Epoch 38/300\n",
            "327/327 - 4s - loss: 1.8426 - accuracy: 0.5524 - 4s/epoch - 12ms/step\n",
            "Epoch 39/300\n",
            "327/327 - 4s - loss: 1.8268 - accuracy: 0.5545 - 4s/epoch - 12ms/step\n",
            "Epoch 40/300\n",
            "327/327 - 4s - loss: 1.8107 - accuracy: 0.5591 - 4s/epoch - 12ms/step\n",
            "Epoch 41/300\n",
            "327/327 - 4s - loss: 1.8041 - accuracy: 0.5594 - 4s/epoch - 12ms/step\n",
            "Epoch 42/300\n",
            "327/327 - 4s - loss: 1.7903 - accuracy: 0.5622 - 4s/epoch - 12ms/step\n",
            "Epoch 43/300\n",
            "327/327 - 4s - loss: 1.7783 - accuracy: 0.5643 - 4s/epoch - 12ms/step\n",
            "Epoch 44/300\n",
            "327/327 - 4s - loss: 1.7648 - accuracy: 0.5674 - 4s/epoch - 12ms/step\n",
            "Epoch 45/300\n",
            "327/327 - 4s - loss: 1.7548 - accuracy: 0.5683 - 4s/epoch - 12ms/step\n",
            "Epoch 46/300\n",
            "327/327 - 4s - loss: 1.7422 - accuracy: 0.5717 - 4s/epoch - 12ms/step\n",
            "Epoch 47/300\n",
            "327/327 - 4s - loss: 1.7292 - accuracy: 0.5743 - 4s/epoch - 12ms/step\n",
            "Epoch 48/300\n",
            "327/327 - 4s - loss: 1.7233 - accuracy: 0.5752 - 4s/epoch - 12ms/step\n",
            "Epoch 49/300\n",
            "327/327 - 4s - loss: 1.7210 - accuracy: 0.5758 - 4s/epoch - 12ms/step\n",
            "Epoch 50/300\n",
            "327/327 - 4s - loss: 1.7044 - accuracy: 0.5788 - 4s/epoch - 12ms/step\n",
            "Epoch 51/300\n",
            "327/327 - 4s - loss: 1.7049 - accuracy: 0.5776 - 4s/epoch - 12ms/step\n",
            "Epoch 52/300\n",
            "327/327 - 4s - loss: 1.6898 - accuracy: 0.5808 - 4s/epoch - 12ms/step\n",
            "Epoch 53/300\n",
            "327/327 - 4s - loss: 1.6852 - accuracy: 0.5819 - 4s/epoch - 12ms/step\n",
            "Epoch 54/300\n",
            "327/327 - 4s - loss: 1.6800 - accuracy: 0.5822 - 4s/epoch - 12ms/step\n",
            "Epoch 55/300\n",
            "327/327 - 4s - loss: 1.6667 - accuracy: 0.5849 - 4s/epoch - 12ms/step\n",
            "Epoch 56/300\n",
            "327/327 - 4s - loss: 1.6572 - accuracy: 0.5872 - 4s/epoch - 12ms/step\n",
            "Epoch 57/300\n",
            "327/327 - 4s - loss: 1.6543 - accuracy: 0.5879 - 4s/epoch - 12ms/step\n",
            "Epoch 58/300\n",
            "327/327 - 4s - loss: 1.6504 - accuracy: 0.5880 - 4s/epoch - 12ms/step\n",
            "Epoch 59/300\n",
            "327/327 - 4s - loss: 1.6377 - accuracy: 0.5914 - 4s/epoch - 12ms/step\n",
            "Epoch 60/300\n",
            "327/327 - 4s - loss: 1.6395 - accuracy: 0.5900 - 4s/epoch - 12ms/step\n",
            "Epoch 61/300\n",
            "327/327 - 4s - loss: 1.6263 - accuracy: 0.5932 - 4s/epoch - 12ms/step\n",
            "Epoch 62/300\n",
            "327/327 - 4s - loss: 1.6120 - accuracy: 0.5960 - 4s/epoch - 12ms/step\n",
            "Epoch 63/300\n",
            "327/327 - 4s - loss: 1.6139 - accuracy: 0.5961 - 4s/epoch - 12ms/step\n",
            "Epoch 64/300\n",
            "327/327 - 4s - loss: 1.6040 - accuracy: 0.5972 - 4s/epoch - 12ms/step\n",
            "Epoch 65/300\n",
            "327/327 - 4s - loss: 1.5971 - accuracy: 0.5991 - 4s/epoch - 12ms/step\n",
            "Epoch 66/300\n",
            "327/327 - 4s - loss: 1.6008 - accuracy: 0.5978 - 4s/epoch - 12ms/step\n",
            "Epoch 67/300\n",
            "327/327 - 4s - loss: 1.5978 - accuracy: 0.5979 - 4s/epoch - 12ms/step\n",
            "Epoch 68/300\n",
            "327/327 - 4s - loss: 1.5960 - accuracy: 0.5973 - 4s/epoch - 12ms/step\n",
            "Epoch 69/300\n",
            "327/327 - 4s - loss: 1.5739 - accuracy: 0.6033 - 4s/epoch - 12ms/step\n",
            "Epoch 70/300\n",
            "327/327 - 4s - loss: 1.5725 - accuracy: 0.6035 - 4s/epoch - 12ms/step\n",
            "Epoch 71/300\n",
            "327/327 - 4s - loss: 1.5727 - accuracy: 0.6032 - 4s/epoch - 12ms/step\n",
            "Epoch 72/300\n",
            "327/327 - 4s - loss: 1.5758 - accuracy: 0.6026 - 4s/epoch - 12ms/step\n",
            "Epoch 73/300\n",
            "327/327 - 4s - loss: 1.5721 - accuracy: 0.6007 - 4s/epoch - 12ms/step\n",
            "Epoch 74/300\n",
            "327/327 - 4s - loss: 1.5538 - accuracy: 0.6062 - 4s/epoch - 12ms/step\n",
            "Epoch 75/300\n",
            "327/327 - 4s - loss: 1.5495 - accuracy: 0.6079 - 4s/epoch - 12ms/step\n",
            "Epoch 76/300\n",
            "327/327 - 4s - loss: 1.5428 - accuracy: 0.6092 - 4s/epoch - 12ms/step\n",
            "Epoch 77/300\n",
            "327/327 - 4s - loss: 1.5420 - accuracy: 0.6082 - 4s/epoch - 12ms/step\n",
            "Epoch 78/300\n",
            "327/327 - 4s - loss: 1.5373 - accuracy: 0.6104 - 4s/epoch - 12ms/step\n",
            "Epoch 79/300\n",
            "327/327 - 4s - loss: 1.5353 - accuracy: 0.6099 - 4s/epoch - 12ms/step\n",
            "Epoch 80/300\n",
            "327/327 - 4s - loss: 1.5432 - accuracy: 0.6069 - 4s/epoch - 12ms/step\n",
            "Epoch 81/300\n",
            "327/327 - 4s - loss: 1.5287 - accuracy: 0.6116 - 4s/epoch - 12ms/step\n",
            "Epoch 82/300\n",
            "327/327 - 4s - loss: 1.5262 - accuracy: 0.6124 - 4s/epoch - 12ms/step\n",
            "Epoch 83/300\n",
            "327/327 - 4s - loss: 1.5179 - accuracy: 0.6135 - 4s/epoch - 12ms/step\n",
            "Epoch 84/300\n",
            "327/327 - 4s - loss: 1.5303 - accuracy: 0.6102 - 4s/epoch - 12ms/step\n",
            "Epoch 85/300\n",
            "327/327 - 4s - loss: 1.5158 - accuracy: 0.6127 - 4s/epoch - 12ms/step\n",
            "Epoch 86/300\n",
            "327/327 - 4s - loss: 1.5048 - accuracy: 0.6159 - 4s/epoch - 12ms/step\n",
            "Epoch 87/300\n",
            "327/327 - 4s - loss: 1.5115 - accuracy: 0.6146 - 4s/epoch - 12ms/step\n",
            "Epoch 88/300\n",
            "327/327 - 4s - loss: 1.5059 - accuracy: 0.6154 - 4s/epoch - 12ms/step\n",
            "Epoch 89/300\n",
            "327/327 - 4s - loss: 1.4918 - accuracy: 0.6182 - 4s/epoch - 12ms/step\n",
            "Epoch 90/300\n",
            "327/327 - 4s - loss: 1.4961 - accuracy: 0.6173 - 4s/epoch - 12ms/step\n",
            "Epoch 91/300\n",
            "327/327 - 4s - loss: 1.4970 - accuracy: 0.6158 - 4s/epoch - 12ms/step\n",
            "Epoch 92/300\n",
            "327/327 - 4s - loss: 1.5174 - accuracy: 0.6096 - 4s/epoch - 12ms/step\n",
            "Epoch 93/300\n",
            "327/327 - 4s - loss: 1.4828 - accuracy: 0.6201 - 4s/epoch - 12ms/step\n",
            "Epoch 94/300\n",
            "327/327 - 4s - loss: 1.4830 - accuracy: 0.6193 - 4s/epoch - 12ms/step\n",
            "Epoch 95/300\n",
            "327/327 - 4s - loss: 1.4729 - accuracy: 0.6209 - 4s/epoch - 12ms/step\n",
            "Epoch 96/300\n",
            "327/327 - 4s - loss: 1.4883 - accuracy: 0.6180 - 4s/epoch - 12ms/step\n",
            "Epoch 97/300\n",
            "327/327 - 4s - loss: 1.4729 - accuracy: 0.6218 - 4s/epoch - 12ms/step\n",
            "Epoch 98/300\n",
            "327/327 - 4s - loss: 1.4771 - accuracy: 0.6205 - 4s/epoch - 12ms/step\n",
            "Epoch 99/300\n",
            "327/327 - 4s - loss: 1.4619 - accuracy: 0.6231 - 4s/epoch - 12ms/step\n",
            "Epoch 100/300\n",
            "327/327 - 4s - loss: 1.4720 - accuracy: 0.6212 - 4s/epoch - 12ms/step\n",
            "Epoch 101/300\n",
            "327/327 - 4s - loss: 1.4600 - accuracy: 0.6236 - 4s/epoch - 12ms/step\n",
            "Epoch 102/300\n",
            "327/327 - 4s - loss: 1.4605 - accuracy: 0.6235 - 4s/epoch - 12ms/step\n",
            "Epoch 103/300\n",
            "327/327 - 4s - loss: 1.4611 - accuracy: 0.6236 - 4s/epoch - 12ms/step\n",
            "Epoch 104/300\n",
            "327/327 - 4s - loss: 1.4570 - accuracy: 0.6240 - 4s/epoch - 12ms/step\n",
            "Epoch 105/300\n",
            "327/327 - 4s - loss: 1.4587 - accuracy: 0.6230 - 4s/epoch - 12ms/step\n",
            "Epoch 106/300\n",
            "327/327 - 4s - loss: 1.4488 - accuracy: 0.6258 - 4s/epoch - 12ms/step\n",
            "Epoch 107/300\n",
            "327/327 - 4s - loss: 1.4464 - accuracy: 0.6262 - 4s/epoch - 12ms/step\n",
            "Epoch 108/300\n",
            "327/327 - 4s - loss: 1.4459 - accuracy: 0.6255 - 4s/epoch - 12ms/step\n",
            "Epoch 109/300\n",
            "327/327 - 4s - loss: 1.4404 - accuracy: 0.6272 - 4s/epoch - 12ms/step\n",
            "Epoch 110/300\n",
            "327/327 - 4s - loss: 1.4420 - accuracy: 0.6266 - 4s/epoch - 12ms/step\n",
            "Epoch 111/300\n",
            "327/327 - 4s - loss: 1.4391 - accuracy: 0.6268 - 4s/epoch - 12ms/step\n",
            "Epoch 112/300\n",
            "327/327 - 4s - loss: 1.4362 - accuracy: 0.6269 - 4s/epoch - 12ms/step\n",
            "Epoch 113/300\n",
            "327/327 - 4s - loss: 1.4403 - accuracy: 0.6255 - 4s/epoch - 12ms/step\n",
            "Epoch 114/300\n",
            "327/327 - 4s - loss: 1.4371 - accuracy: 0.6264 - 4s/epoch - 12ms/step\n",
            "Epoch 115/300\n",
            "327/327 - 4s - loss: 1.4300 - accuracy: 0.6284 - 4s/epoch - 12ms/step\n",
            "Epoch 116/300\n",
            "327/327 - 4s - loss: 1.4302 - accuracy: 0.6276 - 4s/epoch - 12ms/step\n",
            "Epoch 117/300\n",
            "327/327 - 4s - loss: 1.4289 - accuracy: 0.6285 - 4s/epoch - 12ms/step\n",
            "Epoch 118/300\n",
            "327/327 - 4s - loss: 1.4242 - accuracy: 0.6299 - 4s/epoch - 12ms/step\n",
            "Epoch 119/300\n",
            "327/327 - 4s - loss: 1.4228 - accuracy: 0.6295 - 4s/epoch - 12ms/step\n",
            "Epoch 120/300\n",
            "327/327 - 4s - loss: 1.4372 - accuracy: 0.6251 - 4s/epoch - 12ms/step\n",
            "Epoch 121/300\n",
            "327/327 - 4s - loss: 1.4352 - accuracy: 0.6269 - 4s/epoch - 12ms/step\n",
            "Epoch 122/300\n",
            "327/327 - 4s - loss: 1.4141 - accuracy: 0.6310 - 4s/epoch - 12ms/step\n",
            "Epoch 123/300\n",
            "327/327 - 4s - loss: 1.4079 - accuracy: 0.6327 - 4s/epoch - 12ms/step\n",
            "Epoch 124/300\n",
            "327/327 - 4s - loss: 1.4138 - accuracy: 0.6317 - 4s/epoch - 12ms/step\n",
            "Epoch 125/300\n",
            "327/327 - 4s - loss: 1.4436 - accuracy: 0.6231 - 4s/epoch - 12ms/step\n",
            "Epoch 126/300\n",
            "327/327 - 4s - loss: 1.4086 - accuracy: 0.6327 - 4s/epoch - 12ms/step\n",
            "Epoch 127/300\n",
            "327/327 - 4s - loss: 1.4173 - accuracy: 0.6297 - 4s/epoch - 12ms/step\n",
            "Epoch 128/300\n",
            "327/327 - 4s - loss: 1.4072 - accuracy: 0.6322 - 4s/epoch - 12ms/step\n",
            "Epoch 129/300\n",
            "327/327 - 4s - loss: 1.4055 - accuracy: 0.6320 - 4s/epoch - 12ms/step\n",
            "Epoch 130/300\n",
            "327/327 - 4s - loss: 1.4133 - accuracy: 0.6295 - 4s/epoch - 12ms/step\n",
            "Epoch 131/300\n",
            "327/327 - 4s - loss: 1.3975 - accuracy: 0.6338 - 4s/epoch - 12ms/step\n",
            "Epoch 132/300\n",
            "327/327 - 4s - loss: 1.3936 - accuracy: 0.6348 - 4s/epoch - 12ms/step\n",
            "Epoch 133/300\n",
            "327/327 - 4s - loss: 1.4005 - accuracy: 0.6340 - 4s/epoch - 12ms/step\n",
            "Epoch 134/300\n",
            "327/327 - 4s - loss: 1.3905 - accuracy: 0.6351 - 4s/epoch - 12ms/step\n",
            "Epoch 135/300\n",
            "327/327 - 4s - loss: 1.3963 - accuracy: 0.6335 - 4s/epoch - 12ms/step\n",
            "Epoch 136/300\n",
            "327/327 - 4s - loss: 1.4064 - accuracy: 0.6310 - 4s/epoch - 12ms/step\n",
            "Epoch 137/300\n",
            "327/327 - 4s - loss: 1.4009 - accuracy: 0.6323 - 4s/epoch - 12ms/step\n",
            "Epoch 138/300\n",
            "327/327 - 4s - loss: 1.3959 - accuracy: 0.6336 - 4s/epoch - 12ms/step\n",
            "Epoch 139/300\n",
            "327/327 - 4s - loss: 1.3876 - accuracy: 0.6350 - 4s/epoch - 12ms/step\n",
            "Epoch 140/300\n",
            "327/327 - 4s - loss: 1.3874 - accuracy: 0.6354 - 4s/epoch - 12ms/step\n",
            "Epoch 141/300\n",
            "327/327 - 4s - loss: 1.3867 - accuracy: 0.6355 - 4s/epoch - 12ms/step\n",
            "Epoch 142/300\n",
            "327/327 - 4s - loss: 1.3876 - accuracy: 0.6352 - 4s/epoch - 12ms/step\n",
            "Epoch 143/300\n",
            "327/327 - 4s - loss: 1.3853 - accuracy: 0.6357 - 4s/epoch - 12ms/step\n",
            "Epoch 144/300\n",
            "327/327 - 4s - loss: 1.3882 - accuracy: 0.6353 - 4s/epoch - 12ms/step\n",
            "Epoch 145/300\n",
            "327/327 - 4s - loss: 1.3756 - accuracy: 0.6373 - 4s/epoch - 12ms/step\n",
            "Epoch 146/300\n",
            "327/327 - 4s - loss: 1.3806 - accuracy: 0.6373 - 4s/epoch - 12ms/step\n",
            "Epoch 147/300\n",
            "327/327 - 4s - loss: 1.3758 - accuracy: 0.6378 - 4s/epoch - 12ms/step\n",
            "Epoch 148/300\n",
            "327/327 - 4s - loss: 1.3770 - accuracy: 0.6377 - 4s/epoch - 12ms/step\n",
            "Epoch 149/300\n",
            "327/327 - 4s - loss: 1.3814 - accuracy: 0.6358 - 4s/epoch - 12ms/step\n",
            "Epoch 150/300\n",
            "327/327 - 4s - loss: 1.3793 - accuracy: 0.6368 - 4s/epoch - 12ms/step\n",
            "Epoch 151/300\n",
            "327/327 - 4s - loss: 1.3689 - accuracy: 0.6392 - 4s/epoch - 12ms/step\n",
            "Epoch 152/300\n",
            "327/327 - 4s - loss: 1.3833 - accuracy: 0.6351 - 4s/epoch - 12ms/step\n",
            "Epoch 153/300\n",
            "327/327 - 4s - loss: 1.3667 - accuracy: 0.6386 - 4s/epoch - 12ms/step\n",
            "Epoch 154/300\n",
            "327/327 - 4s - loss: 1.3657 - accuracy: 0.6390 - 4s/epoch - 12ms/step\n",
            "Epoch 155/300\n",
            "327/327 - 4s - loss: 1.3735 - accuracy: 0.6373 - 4s/epoch - 12ms/step\n",
            "Epoch 156/300\n",
            "327/327 - 4s - loss: 1.4026 - accuracy: 0.6301 - 4s/epoch - 12ms/step\n",
            "Epoch 157/300\n",
            "327/327 - 4s - loss: 1.3670 - accuracy: 0.6389 - 4s/epoch - 12ms/step\n",
            "Epoch 158/300\n",
            "327/327 - 4s - loss: 1.3871 - accuracy: 0.6332 - 4s/epoch - 12ms/step\n",
            "Epoch 159/300\n",
            "327/327 - 4s - loss: 1.3619 - accuracy: 0.6403 - 4s/epoch - 12ms/step\n",
            "Epoch 160/300\n",
            "327/327 - 4s - loss: 1.3576 - accuracy: 0.6405 - 4s/epoch - 12ms/step\n",
            "Epoch 161/300\n",
            "327/327 - 4s - loss: 1.3638 - accuracy: 0.6381 - 4s/epoch - 12ms/step\n",
            "Epoch 162/300\n",
            "327/327 - 4s - loss: 1.3665 - accuracy: 0.6385 - 4s/epoch - 12ms/step\n",
            "Epoch 163/300\n",
            "327/327 - 4s - loss: 1.3555 - accuracy: 0.6403 - 4s/epoch - 12ms/step\n",
            "Epoch 164/300\n",
            "327/327 - 4s - loss: 1.3657 - accuracy: 0.6369 - 4s/epoch - 12ms/step\n",
            "Epoch 165/300\n",
            "327/327 - 4s - loss: 1.3629 - accuracy: 0.6392 - 4s/epoch - 12ms/step\n",
            "Epoch 166/300\n",
            "327/327 - 4s - loss: 1.3505 - accuracy: 0.6409 - 4s/epoch - 12ms/step\n",
            "Epoch 167/300\n",
            "327/327 - 4s - loss: 1.3585 - accuracy: 0.6386 - 4s/epoch - 12ms/step\n",
            "Epoch 168/300\n",
            "327/327 - 4s - loss: 1.3467 - accuracy: 0.6417 - 4s/epoch - 12ms/step\n",
            "Epoch 169/300\n",
            "327/327 - 4s - loss: 1.3597 - accuracy: 0.6387 - 4s/epoch - 12ms/step\n",
            "Epoch 170/300\n",
            "327/327 - 4s - loss: 1.3593 - accuracy: 0.6392 - 4s/epoch - 12ms/step\n",
            "Epoch 171/300\n",
            "327/327 - 4s - loss: 1.3687 - accuracy: 0.6368 - 4s/epoch - 12ms/step\n",
            "Epoch 172/300\n",
            "327/327 - 4s - loss: 1.3553 - accuracy: 0.6399 - 4s/epoch - 12ms/step\n",
            "Epoch 173/300\n",
            "327/327 - 4s - loss: 1.3407 - accuracy: 0.6428 - 4s/epoch - 12ms/step\n",
            "Epoch 174/300\n",
            "327/327 - 4s - loss: 1.3454 - accuracy: 0.6419 - 4s/epoch - 12ms/step\n",
            "Epoch 175/300\n",
            "327/327 - 4s - loss: 1.3424 - accuracy: 0.6424 - 4s/epoch - 12ms/step\n",
            "Epoch 176/300\n",
            "327/327 - 4s - loss: 1.3549 - accuracy: 0.6402 - 4s/epoch - 12ms/step\n",
            "Epoch 177/300\n",
            "327/327 - 4s - loss: 1.3411 - accuracy: 0.6431 - 4s/epoch - 12ms/step\n",
            "Epoch 178/300\n",
            "327/327 - 4s - loss: 1.3405 - accuracy: 0.6425 - 4s/epoch - 12ms/step\n",
            "Epoch 179/300\n",
            "327/327 - 4s - loss: 1.3514 - accuracy: 0.6407 - 4s/epoch - 12ms/step\n",
            "Epoch 180/300\n",
            "327/327 - 4s - loss: 1.3391 - accuracy: 0.6434 - 4s/epoch - 12ms/step\n",
            "Epoch 181/300\n",
            "327/327 - 4s - loss: 1.3482 - accuracy: 0.6406 - 4s/epoch - 12ms/step\n",
            "Epoch 182/300\n",
            "327/327 - 4s - loss: 1.3362 - accuracy: 0.6436 - 4s/epoch - 12ms/step\n",
            "Epoch 183/300\n",
            "327/327 - 4s - loss: 1.3626 - accuracy: 0.6370 - 4s/epoch - 12ms/step\n",
            "Epoch 184/300\n",
            "327/327 - 4s - loss: 1.3566 - accuracy: 0.6390 - 4s/epoch - 12ms/step\n",
            "Epoch 185/300\n",
            "327/327 - 4s - loss: 1.3582 - accuracy: 0.6386 - 4s/epoch - 12ms/step\n",
            "Epoch 186/300\n",
            "327/327 - 4s - loss: 1.3324 - accuracy: 0.6443 - 4s/epoch - 12ms/step\n",
            "Epoch 187/300\n",
            "327/327 - 4s - loss: 1.3458 - accuracy: 0.6418 - 4s/epoch - 12ms/step\n",
            "Epoch 188/300\n",
            "327/327 - 4s - loss: 1.3431 - accuracy: 0.6413 - 4s/epoch - 12ms/step\n",
            "Epoch 189/300\n",
            "327/327 - 4s - loss: 1.3309 - accuracy: 0.6441 - 4s/epoch - 12ms/step\n",
            "Epoch 190/300\n",
            "327/327 - 4s - loss: 1.3350 - accuracy: 0.6437 - 4s/epoch - 12ms/step\n",
            "Epoch 191/300\n",
            "327/327 - 4s - loss: 1.3293 - accuracy: 0.6446 - 4s/epoch - 12ms/step\n",
            "Epoch 192/300\n",
            "327/327 - 4s - loss: 1.3406 - accuracy: 0.6412 - 4s/epoch - 12ms/step\n",
            "Epoch 193/300\n",
            "327/327 - 4s - loss: 1.3317 - accuracy: 0.6444 - 4s/epoch - 12ms/step\n",
            "Epoch 194/300\n",
            "327/327 - 4s - loss: 1.3239 - accuracy: 0.6455 - 4s/epoch - 12ms/step\n",
            "Epoch 195/300\n",
            "327/327 - 4s - loss: 1.3372 - accuracy: 0.6422 - 4s/epoch - 12ms/step\n",
            "Epoch 196/300\n",
            "327/327 - 4s - loss: 1.3294 - accuracy: 0.6444 - 4s/epoch - 12ms/step\n",
            "Epoch 197/300\n",
            "327/327 - 4s - loss: 1.3206 - accuracy: 0.6469 - 4s/epoch - 12ms/step\n",
            "Epoch 198/300\n",
            "327/327 - 4s - loss: 1.3312 - accuracy: 0.6426 - 4s/epoch - 12ms/step\n",
            "Epoch 199/300\n",
            "327/327 - 4s - loss: 1.3293 - accuracy: 0.6438 - 4s/epoch - 12ms/step\n",
            "Epoch 200/300\n",
            "327/327 - 4s - loss: 1.3197 - accuracy: 0.6461 - 4s/epoch - 12ms/step\n",
            "Epoch 201/300\n",
            "327/327 - 4s - loss: 1.3216 - accuracy: 0.6455 - 4s/epoch - 12ms/step\n",
            "Epoch 202/300\n",
            "327/327 - 4s - loss: 1.3408 - accuracy: 0.6409 - 4s/epoch - 12ms/step\n",
            "Epoch 203/300\n",
            "327/327 - 4s - loss: 1.3183 - accuracy: 0.6472 - 4s/epoch - 12ms/step\n",
            "Epoch 204/300\n",
            "327/327 - 4s - loss: 1.3315 - accuracy: 0.6421 - 4s/epoch - 12ms/step\n",
            "Epoch 205/300\n",
            "327/327 - 4s - loss: 1.3243 - accuracy: 0.6451 - 4s/epoch - 12ms/step\n",
            "Epoch 206/300\n",
            "327/327 - 4s - loss: 1.3234 - accuracy: 0.6444 - 4s/epoch - 12ms/step\n",
            "Epoch 207/300\n",
            "327/327 - 4s - loss: 1.3248 - accuracy: 0.6444 - 4s/epoch - 12ms/step\n",
            "Epoch 208/300\n",
            "327/327 - 4s - loss: 1.3145 - accuracy: 0.6462 - 4s/epoch - 12ms/step\n",
            "Epoch 209/300\n",
            "327/327 - 4s - loss: 1.3170 - accuracy: 0.6460 - 4s/epoch - 12ms/step\n",
            "Epoch 210/300\n",
            "327/327 - 4s - loss: 1.3137 - accuracy: 0.6470 - 4s/epoch - 12ms/step\n",
            "Epoch 211/300\n",
            "327/327 - 4s - loss: 1.3293 - accuracy: 0.6433 - 4s/epoch - 12ms/step\n",
            "Epoch 212/300\n",
            "327/327 - 4s - loss: 1.3268 - accuracy: 0.6441 - 4s/epoch - 12ms/step\n",
            "Epoch 213/300\n",
            "327/327 - 4s - loss: 1.3136 - accuracy: 0.6470 - 4s/epoch - 12ms/step\n",
            "Epoch 214/300\n",
            "327/327 - 4s - loss: 1.3350 - accuracy: 0.6411 - 4s/epoch - 12ms/step\n",
            "Epoch 215/300\n",
            "327/327 - 4s - loss: 1.3167 - accuracy: 0.6463 - 4s/epoch - 12ms/step\n",
            "Epoch 216/300\n",
            "327/327 - 4s - loss: 1.3096 - accuracy: 0.6478 - 4s/epoch - 12ms/step\n",
            "Epoch 217/300\n",
            "327/327 - 4s - loss: 1.3073 - accuracy: 0.6477 - 4s/epoch - 12ms/step\n",
            "Epoch 218/300\n",
            "327/327 - 4s - loss: 1.3149 - accuracy: 0.6463 - 4s/epoch - 12ms/step\n",
            "Epoch 219/300\n",
            "327/327 - 4s - loss: 1.3113 - accuracy: 0.6469 - 4s/epoch - 12ms/step\n",
            "Epoch 220/300\n",
            "327/327 - 4s - loss: 1.3207 - accuracy: 0.6442 - 4s/epoch - 12ms/step\n",
            "Epoch 221/300\n",
            "327/327 - 4s - loss: 1.3064 - accuracy: 0.6483 - 4s/epoch - 12ms/step\n",
            "Epoch 222/300\n",
            "327/327 - 4s - loss: 1.3115 - accuracy: 0.6462 - 4s/epoch - 12ms/step\n",
            "Epoch 223/300\n",
            "327/327 - 4s - loss: 1.3095 - accuracy: 0.6466 - 4s/epoch - 12ms/step\n",
            "Epoch 224/300\n",
            "327/327 - 4s - loss: 1.3050 - accuracy: 0.6474 - 4s/epoch - 12ms/step\n",
            "Epoch 225/300\n",
            "327/327 - 4s - loss: 1.3100 - accuracy: 0.6471 - 4s/epoch - 12ms/step\n",
            "Epoch 226/300\n",
            "327/327 - 4s - loss: 1.3030 - accuracy: 0.6484 - 4s/epoch - 12ms/step\n",
            "Epoch 227/300\n",
            "327/327 - 4s - loss: 1.3100 - accuracy: 0.6465 - 4s/epoch - 12ms/step\n",
            "Epoch 228/300\n",
            "327/327 - 4s - loss: 1.3084 - accuracy: 0.6467 - 4s/epoch - 12ms/step\n",
            "Epoch 229/300\n",
            "327/327 - 4s - loss: 1.3053 - accuracy: 0.6479 - 4s/epoch - 12ms/step\n",
            "Epoch 230/300\n",
            "327/327 - 4s - loss: 1.3202 - accuracy: 0.6440 - 4s/epoch - 12ms/step\n",
            "Epoch 231/300\n",
            "327/327 - 4s - loss: 1.3022 - accuracy: 0.6494 - 4s/epoch - 12ms/step\n",
            "Epoch 232/300\n",
            "327/327 - 4s - loss: 1.3067 - accuracy: 0.6468 - 4s/epoch - 12ms/step\n",
            "Epoch 233/300\n",
            "327/327 - 4s - loss: 1.3000 - accuracy: 0.6481 - 4s/epoch - 12ms/step\n",
            "Epoch 234/300\n",
            "327/327 - 4s - loss: 1.3044 - accuracy: 0.6473 - 4s/epoch - 12ms/step\n",
            "Epoch 235/300\n",
            "327/327 - 4s - loss: 1.2986 - accuracy: 0.6483 - 4s/epoch - 12ms/step\n",
            "Epoch 236/300\n",
            "327/327 - 4s - loss: 1.3126 - accuracy: 0.6462 - 4s/epoch - 12ms/step\n",
            "Epoch 237/300\n",
            "327/327 - 4s - loss: 1.3179 - accuracy: 0.6447 - 4s/epoch - 12ms/step\n",
            "Epoch 238/300\n",
            "327/327 - 4s - loss: 1.3026 - accuracy: 0.6473 - 4s/epoch - 12ms/step\n",
            "Epoch 239/300\n",
            "327/327 - 4s - loss: 1.2957 - accuracy: 0.6495 - 4s/epoch - 12ms/step\n",
            "Epoch 240/300\n",
            "327/327 - 4s - loss: 1.3077 - accuracy: 0.6464 - 4s/epoch - 12ms/step\n",
            "Epoch 241/300\n",
            "327/327 - 4s - loss: 1.2932 - accuracy: 0.6497 - 4s/epoch - 12ms/step\n",
            "Epoch 242/300\n",
            "327/327 - 4s - loss: 1.2941 - accuracy: 0.6494 - 4s/epoch - 12ms/step\n",
            "Epoch 243/300\n",
            "327/327 - 4s - loss: 1.2968 - accuracy: 0.6493 - 4s/epoch - 12ms/step\n",
            "Epoch 244/300\n",
            "327/327 - 4s - loss: 1.3011 - accuracy: 0.6485 - 4s/epoch - 12ms/step\n",
            "Epoch 245/300\n",
            "327/327 - 4s - loss: 1.2929 - accuracy: 0.6503 - 4s/epoch - 12ms/step\n",
            "Epoch 246/300\n",
            "327/327 - 4s - loss: 1.3034 - accuracy: 0.6476 - 4s/epoch - 12ms/step\n",
            "Epoch 247/300\n",
            "327/327 - 4s - loss: 1.2908 - accuracy: 0.6494 - 4s/epoch - 12ms/step\n",
            "Epoch 248/300\n",
            "327/327 - 4s - loss: 1.2974 - accuracy: 0.6482 - 4s/epoch - 12ms/step\n",
            "Epoch 249/300\n",
            "327/327 - 4s - loss: 1.2997 - accuracy: 0.6482 - 4s/epoch - 12ms/step\n",
            "Epoch 250/300\n",
            "327/327 - 4s - loss: 1.2957 - accuracy: 0.6486 - 4s/epoch - 12ms/step\n",
            "Epoch 251/300\n",
            "327/327 - 4s - loss: 1.2925 - accuracy: 0.6495 - 4s/epoch - 12ms/step\n",
            "Epoch 252/300\n",
            "327/327 - 4s - loss: 1.2912 - accuracy: 0.6494 - 4s/epoch - 12ms/step\n",
            "Epoch 253/300\n",
            "327/327 - 4s - loss: 1.3060 - accuracy: 0.6457 - 4s/epoch - 12ms/step\n",
            "Epoch 254/300\n",
            "327/327 - 4s - loss: 1.3046 - accuracy: 0.6461 - 4s/epoch - 12ms/step\n",
            "Epoch 255/300\n",
            "327/327 - 4s - loss: 1.2910 - accuracy: 0.6489 - 4s/epoch - 12ms/step\n",
            "Epoch 256/300\n",
            "327/327 - 4s - loss: 1.2911 - accuracy: 0.6492 - 4s/epoch - 12ms/step\n",
            "Epoch 257/300\n",
            "327/327 - 4s - loss: 1.2857 - accuracy: 0.6502 - 4s/epoch - 12ms/step\n",
            "Epoch 258/300\n",
            "327/327 - 4s - loss: 1.2967 - accuracy: 0.6473 - 4s/epoch - 12ms/step\n",
            "Epoch 259/300\n",
            "327/327 - 4s - loss: 1.2905 - accuracy: 0.6489 - 4s/epoch - 12ms/step\n",
            "Epoch 260/300\n",
            "327/327 - 4s - loss: 1.2945 - accuracy: 0.6483 - 4s/epoch - 12ms/step\n",
            "Epoch 261/300\n",
            "327/327 - 4s - loss: 1.2953 - accuracy: 0.6482 - 4s/epoch - 12ms/step\n",
            "Epoch 262/300\n",
            "327/327 - 4s - loss: 1.3015 - accuracy: 0.6470 - 4s/epoch - 12ms/step\n",
            "Epoch 263/300\n",
            "327/327 - 4s - loss: 1.2851 - accuracy: 0.6500 - 4s/epoch - 12ms/step\n",
            "Epoch 264/300\n",
            "327/327 - 4s - loss: 1.2844 - accuracy: 0.6510 - 4s/epoch - 12ms/step\n",
            "Epoch 265/300\n",
            "327/327 - 4s - loss: 1.2791 - accuracy: 0.6517 - 4s/epoch - 12ms/step\n",
            "Epoch 266/300\n",
            "327/327 - 4s - loss: 1.2849 - accuracy: 0.6501 - 4s/epoch - 12ms/step\n",
            "Epoch 267/300\n",
            "327/327 - 4s - loss: 1.2883 - accuracy: 0.6500 - 4s/epoch - 12ms/step\n",
            "Epoch 268/300\n",
            "327/327 - 4s - loss: 1.2883 - accuracy: 0.6500 - 4s/epoch - 12ms/step\n",
            "Epoch 269/300\n",
            "327/327 - 4s - loss: 1.2863 - accuracy: 0.6487 - 4s/epoch - 12ms/step\n",
            "Epoch 270/300\n",
            "327/327 - 4s - loss: 1.2870 - accuracy: 0.6503 - 4s/epoch - 12ms/step\n",
            "Epoch 271/300\n",
            "327/327 - 4s - loss: 1.2792 - accuracy: 0.6513 - 4s/epoch - 12ms/step\n",
            "Epoch 272/300\n",
            "327/327 - 4s - loss: 1.3123 - accuracy: 0.6439 - 4s/epoch - 12ms/step\n",
            "Epoch 273/300\n",
            "327/327 - 4s - loss: 1.3000 - accuracy: 0.6461 - 4s/epoch - 12ms/step\n",
            "Epoch 274/300\n",
            "327/327 - 4s - loss: 1.2765 - accuracy: 0.6521 - 4s/epoch - 12ms/step\n",
            "Epoch 275/300\n",
            "327/327 - 4s - loss: 1.2804 - accuracy: 0.6512 - 4s/epoch - 12ms/step\n",
            "Epoch 276/300\n",
            "327/327 - 4s - loss: 1.2832 - accuracy: 0.6495 - 4s/epoch - 12ms/step\n",
            "Epoch 277/300\n",
            "327/327 - 4s - loss: 1.2793 - accuracy: 0.6517 - 4s/epoch - 12ms/step\n",
            "Epoch 278/300\n",
            "327/327 - 4s - loss: 1.2810 - accuracy: 0.6512 - 4s/epoch - 12ms/step\n",
            "Epoch 279/300\n",
            "327/327 - 4s - loss: 1.2842 - accuracy: 0.6497 - 4s/epoch - 12ms/step\n",
            "Epoch 280/300\n",
            "327/327 - 4s - loss: 1.2766 - accuracy: 0.6514 - 4s/epoch - 12ms/step\n",
            "Epoch 281/300\n",
            "327/327 - 4s - loss: 1.2776 - accuracy: 0.6510 - 4s/epoch - 12ms/step\n",
            "Epoch 282/300\n",
            "327/327 - 4s - loss: 1.2921 - accuracy: 0.6480 - 4s/epoch - 12ms/step\n",
            "Epoch 283/300\n",
            "327/327 - 4s - loss: 1.2792 - accuracy: 0.6503 - 4s/epoch - 12ms/step\n",
            "Epoch 284/300\n",
            "327/327 - 4s - loss: 1.2715 - accuracy: 0.6521 - 4s/epoch - 12ms/step\n",
            "Epoch 285/300\n",
            "327/327 - 4s - loss: 1.2964 - accuracy: 0.6456 - 4s/epoch - 12ms/step\n",
            "Epoch 286/300\n",
            "327/327 - 4s - loss: 1.2831 - accuracy: 0.6491 - 4s/epoch - 12ms/step\n",
            "Epoch 287/300\n",
            "327/327 - 4s - loss: 1.2758 - accuracy: 0.6514 - 4s/epoch - 12ms/step\n",
            "Epoch 288/300\n",
            "327/327 - 4s - loss: 1.2755 - accuracy: 0.6510 - 4s/epoch - 12ms/step\n",
            "Epoch 289/300\n",
            "327/327 - 4s - loss: 1.2962 - accuracy: 0.6466 - 4s/epoch - 12ms/step\n",
            "Epoch 290/300\n",
            "327/327 - 4s - loss: 1.2743 - accuracy: 0.6508 - 4s/epoch - 12ms/step\n",
            "Epoch 291/300\n",
            "327/327 - 4s - loss: 1.2732 - accuracy: 0.6513 - 4s/epoch - 12ms/step\n",
            "Epoch 292/300\n",
            "327/327 - 4s - loss: 1.2654 - accuracy: 0.6529 - 4s/epoch - 12ms/step\n",
            "Epoch 293/300\n",
            "327/327 - 4s - loss: 1.2857 - accuracy: 0.6485 - 4s/epoch - 12ms/step\n",
            "Epoch 294/300\n",
            "327/327 - 4s - loss: 1.2728 - accuracy: 0.6521 - 4s/epoch - 12ms/step\n",
            "Epoch 295/300\n",
            "327/327 - 4s - loss: 1.2686 - accuracy: 0.6520 - 4s/epoch - 12ms/step\n",
            "Epoch 296/300\n",
            "327/327 - 4s - loss: 1.2692 - accuracy: 0.6522 - 4s/epoch - 12ms/step\n",
            "Epoch 297/300\n",
            "327/327 - 4s - loss: 1.2673 - accuracy: 0.6527 - 4s/epoch - 12ms/step\n",
            "Epoch 298/300\n",
            "327/327 - 4s - loss: 1.2817 - accuracy: 0.6500 - 4s/epoch - 12ms/step\n",
            "Epoch 299/300\n",
            "327/327 - 4s - loss: 1.2731 - accuracy: 0.6509 - 4s/epoch - 12ms/step\n",
            "Epoch 300/300\n",
            "327/327 - 4s - loss: 1.2683 - accuracy: 0.6521 - 4s/epoch - 12ms/step\n"
          ]
        }
      ],
      "source": [
        "# Training model\n",
        "epochs=30\n",
        "model = GRU_model(total_words, EMBEDDING_DIM, EMBEDDINGS_MATRIX, max_sequence_len)\n",
        "#fitting the model\n",
        "his = model.fit(features, labels, epochs=300, verbose=2, batch_size = 512)"
      ]
    },
    {
      "cell_type": "markdown",
      "metadata": {
        "id": "HjrjvcI51nf1"
      },
      "source": [
        "Accuracy"
      ]
    },
    {
      "cell_type": "code",
      "execution_count": null,
      "metadata": {
        "id": "CRd1pcFxhJgF",
        "colab": {
          "base_uri": "https://localhost:8080/",
          "height": 589
        },
        "outputId": "0ec16176-8baa-4585-9b3a-42a47b44b56a"
      },
      "outputs": [
        {
          "output_type": "display_data",
          "data": {
            "text/plain": [
              "<Figure size 432x288 with 1 Axes>"
            ],
            "image/png": "[encoded data removed]"
          },
          "metadata": {}
        },
        {
          "output_type": "display_data",
          "data": {
            "text/plain": [
              "<Figure size 432x288 with 1 Axes>"
            ],
            "image/png": "[encoded data removed]"
          },
          "metadata": {}
        }
      ],
      "source": [
        "# Training curves of the model\n",
        "\n",
        "acc = his.history['accuracy']\n",
        "loss = his.history['loss']\n",
        "\n",
        "epochs = range(len(acc))\n",
        "\n",
        "plt.plot(epochs, acc, 'b', label='Training accuracy')\n",
        "plt.title('Training accuracy')\n",
        "\n",
        "plt.figure()\n",
        "\n",
        "plt.plot(epochs, loss, 'b', label='Training Loss')\n",
        "plt.title('Training loss')\n",
        "plt.legend()\n",
        "\n",
        "plt.show()"
      ]
    },
    {
      "cell_type": "markdown",
      "metadata": {
        "id": "Tm8bOyTG1xFB"
      },
      "source": [
        "Downloading the model"
      ]
    },
    {
      "cell_type": "code",
      "execution_count": null,
      "metadata": {
        "id": "3ZWGucWihLiK"
      },
      "outputs": [],
      "source": [
        "#downloading pickle\n",
        "def download_model():\n",
        "  import pickle\n",
        "  from google.colab import files\n",
        "\n",
        "  with open('fitted_model.pkl', 'wb') as f:\n",
        "    pickle.dump(model.fitted_model, f)\n",
        "  files.download('fitted_model.pkl')\n"
      ]
    },
    {
      "cell_type": "markdown",
      "metadata": {
        "id": "2hlVoy3_113a"
      },
      "source": [
        "Testing model for a sample sentence"
      ]
    },
    {
      "cell_type": "code",
      "execution_count": null,
      "metadata": {
        "id": "5xOOjjoGhNoe",
        "colab": {
          "base_uri": "https://localhost:8080/"
        },
        "outputId": "638045fe-af61-4230-9faf-5943d32e164e"
      },
      "outputs": [
        {
          "output_type": "stream",
          "name": "stdout",
          "text": [
            "great let's book that one more so\n"
          ]
        }
      ],
      "source": [
        "#Testing model\n",
        "\n",
        "seed_text = \"great let's book that\"\n",
        "next_words = 3\n",
        "  \n",
        "for _ in range(next_words):\n",
        "\t# Convert the text into sequences\n",
        "\ttoken_list = tokenizer.texts_to_sequences([seed_text])[0]\n",
        "\t# Pad the sequences\n",
        "\ttoken_list = pad_sequences([token_list], maxlen=max_sequence_len, padding='pre')\n",
        "\t# Get the probabilities of predicting a word\n",
        "\tpredicted = model.predict(token_list, verbose=0)\n",
        "\t# Choose the next word based on the maximum probability\n",
        "\tpredicted = np.argmax(predicted, axis=-1).item()\n",
        "\t# Get the actual word from the word index\n",
        "\toutput_word = tokenizer.index_word[predicted]\n",
        "\t# Append to the current text\n",
        "\tseed_text += \" \" + output_word\n",
        "\n",
        "print(seed_text)\n"
      ]
    },
    {
      "cell_type": "markdown",
      "source": [
        "Sample for the test data"
      ],
      "metadata": {
        "id": "0j1sV3VzZGji"
      }
    },
    {
      "cell_type": "code",
      "source": [
        "seqs[:15]"
      ],
      "metadata": {
        "id": "hkx_4QE2m6pw"
      },
      "execution_count": null,
      "outputs": []
    }
  ],
  "metadata": {
    "accelerator": "GPU",
    "colab": {
      "collapsed_sections": [],
      "machine_shape": "hm",
      "name": "NextWordGeneration_GRU_Model.ipynb",
      "provenance": []
    },
    "gpuClass": "standard",
    "kernelspec": {
      "display_name": "Python 3 (ipykernel)",
      "language": "python",
      "name": "python3"
    },
    "language_info": {
      "codemirror_mode": {
        "name": "ipython",
        "version": 3
      },
      "file_extension": ".py",
      "mimetype": "text/x-python",
      "name": "python",
      "nbconvert_exporter": "python",
      "pygments_lexer": "ipython3",
      "version": "3.8.8"
    }
  },
  "nbformat": 4,
  "nbformat_minor": 0
}