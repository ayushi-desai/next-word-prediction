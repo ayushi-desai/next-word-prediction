{
  "cells": [
    {
      "cell_type": "markdown",
      "metadata": {
        "id": "w2p_bqZM3WYu"
      },
      "source": [
        "# Table of Contents\n",
        "\n",
        "1. Import Libraries\n",
        "2. Load Dataset\n",
        "3. Preprocessing and Exploring Text Data\n",
        "  \n",
        "  3.1 Text Cleaning\n",
        "  \n",
        "  3.2 Finding Word Count\n",
        "\n",
        "  3.3 Find and Replace Rare Words with \"Unknown\" Token\n",
        "\n",
        "4. Data Preparation\n",
        "\n",
        "  4.1 Prepare Sequences\n",
        "\n",
        "  4.2 Create Token-Integer Mappings\n",
        "\n",
        "  4.3 Split Data into Train and Validation Sets\n",
        "\n",
        "  4.4 Pad Sequences\n",
        "\n",
        "  4.5 Convert Text Sequences to Integer Sequences</br>\n",
        "  4.6 Implement GloVe Embeddings\n",
        "5. Model Building\n",
        "\n",
        "  5.1 Define Model Architecture\n",
        "  \n",
        "  5.2 Start Model Training\n",
        "6. Text Generation\n",
        "7. Test Model"
      ]
    },
    {
      "cell_type": "markdown",
      "metadata": {
        "id": "sZoPOnsX8uPS"
      },
      "source": [
        "# 1. Import Libraries"
      ]
    },
    {
      "cell_type": "code",
      "execution_count": 1,
      "metadata": {
        "id": "Z_CCxOEI4iZK"
      },
      "outputs": [],
      "source": [
        "import pandas as pd\n",
        "import numpy as np\n",
        "import pickle\n",
        "import re\n",
        "import random\n",
        "from tqdm import tqdm_notebook\n",
        "\n",
        "import torch\n",
        "from torch import nn\n",
        "import torch.nn.functional as F\n",
        "\n",
        "import numpy as np \n",
        "import tensorflow as tf\n",
        "import matplotlib.pyplot as plt\n",
        "from tensorflow.keras.models import Sequential\n",
        "from tensorflow.keras.utils import to_categorical \n",
        "from tensorflow.keras.preprocessing.text import Tokenizer\n",
        "from tensorflow.keras.preprocessing.sequence import pad_sequences\n",
        "from tensorflow.keras.layers import Embedding, LSTM, Dense, Bidirectional\n",
        "from keras import backend as K \n",
        "K.clear_session()"
      ]
    },
    {
      "cell_type": "code",
      "execution_count": 56,
      "metadata": {
        "colab": {
          "base_uri": "https://localhost:8080/"
        },
        "id": "ypl18CrLFmt6",
        "outputId": "01dd9cd1-29f3-46fb-f414-5cc38b69dd59"
      },
      "outputs": [
        {
          "output_type": "execute_result",
          "data": {
            "text/plain": [
              "array([0.81417449, 0.70178533, 0.52274066, ..., 0.67327162, 0.0728112 ,\n",
              "       0.51491242])"
            ]
          },
          "metadata": {},
          "execution_count": 56
        }
      ],
      "source": [
        "# reproducing same results\n",
        "SEED = 2019\n",
        "\n",
        "np.random.rand(SEED)"
      ]
    },
    {
      "cell_type": "markdown",
      "metadata": {
        "id": "5_5gPvXxWjru"
      },
      "source": [
        "# 2. Load Dataset"
      ]
    },
    {
      "cell_type": "code",
      "source": [
        "# open text file and read in data\n",
        "with open(\"Dailog-dataset.dialogs_dataset\", \"rb\") as f:\n",
        "  dialogs = pickle.load(f)"
      ],
      "metadata": {
        "id": "bNK5HMYflp8b"
      },
      "execution_count": 57,
      "outputs": []
    },
    {
      "cell_type": "code",
      "execution_count": 58,
      "metadata": {
        "colab": {
          "base_uri": "https://localhost:8080/"
        },
        "id": "81_SXWZlE6Zb",
        "outputId": "cce3e144-9203-49e9-e5b1-40f76654fbf7"
      },
      "outputs": [
        {
          "output_type": "execute_result",
          "data": {
            "text/plain": [
              "64776"
            ]
          },
          "metadata": {},
          "execution_count": 58
        }
      ],
      "source": [
        "# number of text sequences\n",
        "len(dialogs)"
      ]
    },
    {
      "cell_type": "code",
      "execution_count": 59,
      "metadata": {
        "colab": {
          "base_uri": "https://localhost:8080/"
        },
        "id": "zSyAzbttAqP2",
        "outputId": "d738139e-b709-401c-bf43-f08dbe89a3f4"
      },
      "outputs": [
        {
          "output_type": "execute_result",
          "data": {
            "text/plain": [
              "['Thank you, goodbye',\n",
              " \"That's a little early but that will be fine, did they have a booth available?\",\n",
              " 'Well I need to be picked up at my house',\n",
              " 'The one in Chicago on Harlem Ave',\n",
              " 'Mid range price and something unique, not too fancy, but a sit down place ',\n",
              " 'OK, well who knows if the weather forecast will hold up, inside is fine',\n",
              " 'I am at the Inland Plaza in San Bernadino, and I want to go to the Riverside Plaza',\n",
              " 'No I think that is it',\n",
              " 'Reach out to Intelligent Auto Solutions and tell them I need to come in now',\n",
              " \"I'll be attending the movie with a friend, so we'd like two tickets\"]"
            ]
          },
          "metadata": {},
          "execution_count": 59
        }
      ],
      "source": [
        "# print 10 random dialogs\n",
        "random.sample(dialogs, 10)"
      ]
    },
    {
      "cell_type": "markdown",
      "metadata": {
        "id": "kGGTGRUDW9I3"
      },
      "source": [
        "# 3. Preprocessing and Exploring Text Data"
      ]
    },
    {
      "cell_type": "markdown",
      "metadata": {
        "id": "crvUl_ngM8sb"
      },
      "source": [
        "## 3.1 Text Cleaning"
      ]
    },
    {
      "cell_type": "code",
      "execution_count": 60,
      "metadata": {
        "id": "kUuUKZgUFhkl"
      },
      "outputs": [],
      "source": [
        "# text cleaning\n",
        "dialogs_clean = []\n",
        "\n",
        "for i in dialogs:\n",
        "  # remove everything except alphabets\n",
        "  i = re.sub(\"[^a-zA-Z' ]\", \"\", i)\n",
        "  # convert text to lowercase\n",
        "  i = i.lower()\n",
        "  # add cleaned text to the list\n",
        "  dialogs_clean.append(i)"
      ]
    },
    {
      "cell_type": "markdown",
      "metadata": {
        "id": "mYDzFQVvNA7_"
      },
      "source": [
        "\n",
        "## 3.2 Finding Word Count"
      ]
    },
    {
      "cell_type": "code",
      "execution_count": 61,
      "metadata": {
        "id": "V1hrCYRp11UI"
      },
      "outputs": [],
      "source": [
        "# get list of all the words\n",
        "all_words = \" \".join(dialogs_clean).split()\n",
        "\n",
        "words_dict = {}\n",
        "\n",
        "# add word-count pair to the dictionary\n",
        "for word in all_words:   \n",
        "  # check if the word is already in dictionary \n",
        "  if word in words_dict:\n",
        "    # increment count of word by 1 \n",
        "    words_dict[word] = words_dict[word] + 1\n",
        "  else:\n",
        "    # add the word to dictionary with count 1 \n",
        "    words_dict[word] = 1"
      ]
    },
    {
      "cell_type": "code",
      "execution_count": 62,
      "metadata": {
        "id": "gNxSGPubWaqA"
      },
      "outputs": [],
      "source": [
        "# prepare a dataframe\n",
        "words_df = pd.DataFrame({'word':list(words_dict.keys()), 'count':list(words_dict.values())})\n",
        "\n",
        "# sort words by their count in increasing order\n",
        "words_df = words_df.sort_values(by = ['count'])\n",
        "\n",
        "# reset dataframe index\n",
        "words_df.reset_index(inplace = True, drop=True)"
      ]
    },
    {
      "cell_type": "code",
      "execution_count": 63,
      "metadata": {
        "colab": {
          "base_uri": "https://localhost:8080/"
        },
        "id": "KVPbPsSWo-Ak",
        "outputId": "0eae8701-9a14-4553-f375-4775c5ead4e2"
      },
      "outputs": [
        {
          "output_type": "execute_result",
          "data": {
            "text/plain": [
              "11147"
            ]
          },
          "metadata": {},
          "execution_count": 63
        }
      ],
      "source": [
        "# vocabulary size\n",
        "len(words_df)"
      ]
    },
    {
      "cell_type": "code",
      "execution_count": 64,
      "metadata": {
        "colab": {
          "base_uri": "https://localhost:8080/",
          "height": 206
        },
        "id": "JTwmmOiEXBHt",
        "outputId": "802104a7-cb65-4fc2-bc91-17e4c085a8e8"
      },
      "outputs": [
        {
          "output_type": "execute_result",
          "data": {
            "text/plain": [
              "          word  count\n",
              "0  uppermiddle      1\n",
              "1       shoots      1\n",
              "2        geesh      1\n",
              "3       andrea      1\n",
              "4      precice      1"
            ],
            "text/html": [
              "\n",
              "  <div id=\"df-d478af7a-b305-4e30-9e1e-228899cd2b4d\">\n",
              "    <div class=\"colab-df-container\">\n",
              "      <div>\n",
              "<style scoped>\n",
              "    .dataframe tbody tr th:only-of-type {\n",
              "        vertical-align: middle;\n",
              "    }\n",
              "\n",
              "    .dataframe tbody tr th {\n",
              "        vertical-align: top;\n",
              "    }\n",
              "\n",
              "    .dataframe thead th {\n",
              "        text-align: right;\n",
              "    }\n",
              "</style>\n",
              "<table border=\"1\" class=\"dataframe\">\n",
              "  <thead>\n",
              "    <tr style=\"text-align: right;\">\n",
              "      <th></th>\n",
              "      <th>word</th>\n",
              "      <th>count</th>\n",
              "    </tr>\n",
              "  </thead>\n",
              "  <tbody>\n",
              "    <tr>\n",
              "      <th>0</th>\n",
              "      <td>uppermiddle</td>\n",
              "      <td>1</td>\n",
              "    </tr>\n",
              "    <tr>\n",
              "      <th>1</th>\n",
              "      <td>shoots</td>\n",
              "      <td>1</td>\n",
              "    </tr>\n",
              "    <tr>\n",
              "      <th>2</th>\n",
              "      <td>geesh</td>\n",
              "      <td>1</td>\n",
              "    </tr>\n",
              "    <tr>\n",
              "      <th>3</th>\n",
              "      <td>andrea</td>\n",
              "      <td>1</td>\n",
              "    </tr>\n",
              "    <tr>\n",
              "      <th>4</th>\n",
              "      <td>precice</td>\n",
              "      <td>1</td>\n",
              "    </tr>\n",
              "  </tbody>\n",
              "</table>\n",
              "</div>\n",
              "      <button class=\"colab-df-convert\" onclick=\"convertToInteractive('df-d478af7a-b305-4e30-9e1e-228899cd2b4d')\"\n",
              "              title=\"Convert this dataframe to an interactive table.\"\n",
              "              style=\"display:none;\">\n",
              "        \n",
              "  <svg xmlns=\"http://www.w3.org/2000/svg\" height=\"24px\"viewBox=\"0 0 24 24\"\n",
              "       width=\"24px\">\n",
              "    <path d=\"M0 0h24v24H0V0z\" fill=\"none\"/>\n",
              "    <path d=\"M18.56 5.44l.94 2.06.94-2.06 2.06-.94-2.06-.94-.94-2.06-.94 2.06-2.06.94zm-11 1L8.5 8.5l.94-2.06 2.06-.94-2.06-.94L8.5 2.5l-.94 2.06-2.06.94zm10 10l.94 2.06.94-2.06 2.06-.94-2.06-.94-.94-2.06-.94 2.06-2.06.94z\"/><path d=\"M17.41 7.96l-1.37-1.37c-.4-.4-.92-.59-1.43-.59-.52 0-1.04.2-1.43.59L10.3 9.45l-7.72 7.72c-.78.78-.78 2.05 0 2.83L4 21.41c.39.39.9.59 1.41.59.51 0 1.02-.2 1.41-.59l7.78-7.78 2.81-2.81c.8-.78.8-2.07 0-2.86zM5.41 20L4 18.59l7.72-7.72 1.47 1.35L5.41 20z\"/>\n",
              "  </svg>\n",
              "      </button>\n",
              "      \n",
              "  <style>\n",
              "    .colab-df-container {\n",
              "      display:flex;\n",
              "      flex-wrap:wrap;\n",
              "      gap: 12px;\n",
              "    }\n",
              "\n",
              "    .colab-df-convert {\n",
              "      background-color: #E8F0FE;\n",
              "      border: none;\n",
              "      border-radius: 50%;\n",
              "      cursor: pointer;\n",
              "      display: none;\n",
              "      fill: #1967D2;\n",
              "      height: 32px;\n",
              "      padding: 0 0 0 0;\n",
              "      width: 32px;\n",
              "    }\n",
              "\n",
              "    .colab-df-convert:hover {\n",
              "      background-color: #E2EBFA;\n",
              "      box-shadow: 0px 1px 2px rgba(60, 64, 67, 0.3), 0px 1px 3px 1px rgba(60, 64, 67, 0.15);\n",
              "      fill: #174EA6;\n",
              "    }\n",
              "\n",
              "    [theme=dark] .colab-df-convert {\n",
              "      background-color: #3B4455;\n",
              "      fill: #D2E3FC;\n",
              "    }\n",
              "\n",
              "    [theme=dark] .colab-df-convert:hover {\n",
              "      background-color: #434B5C;\n",
              "      box-shadow: 0px 1px 3px 1px rgba(0, 0, 0, 0.15);\n",
              "      filter: drop-shadow(0px 1px 2px rgba(0, 0, 0, 0.3));\n",
              "      fill: #FFFFFF;\n",
              "    }\n",
              "  </style>\n",
              "\n",
              "      <script>\n",
              "        const buttonEl =\n",
              "          document.querySelector('#df-d478af7a-b305-4e30-9e1e-228899cd2b4d button.colab-df-convert');\n",
              "        buttonEl.style.display =\n",
              "          google.colab.kernel.accessAllowed ? 'block' : 'none';\n",
              "\n",
              "        async function convertToInteractive(key) {\n",
              "          const element = document.querySelector('#df-d478af7a-b305-4e30-9e1e-228899cd2b4d');\n",
              "          const dataTable =\n",
              "            await google.colab.kernel.invokeFunction('convertToInteractive',\n",
              "                                                     [key], {});\n",
              "          if (!dataTable) return;\n",
              "\n",
              "          const docLinkHtml = 'Like what you see? Visit the ' +\n",
              "            '<a target=\"_blank\" href=https://colab.research.google.com/notebooks/data_table.ipynb>data table notebook</a>'\n",
              "            + ' to learn more about interactive tables.';\n",
              "          element.innerHTML = '';\n",
              "          dataTable['output_type'] = 'display_data';\n",
              "          await google.colab.output.renderOutput(dataTable, element);\n",
              "          const docLink = document.createElement('div');\n",
              "          docLink.innerHTML = docLinkHtml;\n",
              "          element.appendChild(docLink);\n",
              "        }\n",
              "      </script>\n",
              "    </div>\n",
              "  </div>\n",
              "  "
            ]
          },
          "metadata": {},
          "execution_count": 64
        }
      ],
      "source": [
        "words_df.head()"
      ]
    },
    {
      "cell_type": "code",
      "execution_count": 65,
      "metadata": {
        "colab": {
          "base_uri": "https://localhost:8080/",
          "height": 206
        },
        "id": "EWJEto8TMPiq",
        "outputId": "af9f74f1-e508-4143-8514-e3f84bacb7d3"
      },
      "outputs": [
        {
          "output_type": "execute_result",
          "data": {
            "text/plain": [
              "      word  count\n",
              "11142  you  11909\n",
              "11143    a  13380\n",
              "11144   to  14000\n",
              "11145  the  15406\n",
              "11146    i  19654"
            ],
            "text/html": [
              "\n",
              "  <div id=\"df-c21bc729-e623-4c5f-9842-7b3a8f00fc61\">\n",
              "    <div class=\"colab-df-container\">\n",
              "      <div>\n",
              "<style scoped>\n",
              "    .dataframe tbody tr th:only-of-type {\n",
              "        vertical-align: middle;\n",
              "    }\n",
              "\n",
              "    .dataframe tbody tr th {\n",
              "        vertical-align: top;\n",
              "    }\n",
              "\n",
              "    .dataframe thead th {\n",
              "        text-align: right;\n",
              "    }\n",
              "</style>\n",
              "<table border=\"1\" class=\"dataframe\">\n",
              "  <thead>\n",
              "    <tr style=\"text-align: right;\">\n",
              "      <th></th>\n",
              "      <th>word</th>\n",
              "      <th>count</th>\n",
              "    </tr>\n",
              "  </thead>\n",
              "  <tbody>\n",
              "    <tr>\n",
              "      <th>11142</th>\n",
              "      <td>you</td>\n",
              "      <td>11909</td>\n",
              "    </tr>\n",
              "    <tr>\n",
              "      <th>11143</th>\n",
              "      <td>a</td>\n",
              "      <td>13380</td>\n",
              "    </tr>\n",
              "    <tr>\n",
              "      <th>11144</th>\n",
              "      <td>to</td>\n",
              "      <td>14000</td>\n",
              "    </tr>\n",
              "    <tr>\n",
              "      <th>11145</th>\n",
              "      <td>the</td>\n",
              "      <td>15406</td>\n",
              "    </tr>\n",
              "    <tr>\n",
              "      <th>11146</th>\n",
              "      <td>i</td>\n",
              "      <td>19654</td>\n",
              "    </tr>\n",
              "  </tbody>\n",
              "</table>\n",
              "</div>\n",
              "      <button class=\"colab-df-convert\" onclick=\"convertToInteractive('df-c21bc729-e623-4c5f-9842-7b3a8f00fc61')\"\n",
              "              title=\"Convert this dataframe to an interactive table.\"\n",
              "              style=\"display:none;\">\n",
              "        \n",
              "  <svg xmlns=\"http://www.w3.org/2000/svg\" height=\"24px\"viewBox=\"0 0 24 24\"\n",
              "       width=\"24px\">\n",
              "    <path d=\"M0 0h24v24H0V0z\" fill=\"none\"/>\n",
              "    <path d=\"M18.56 5.44l.94 2.06.94-2.06 2.06-.94-2.06-.94-.94-2.06-.94 2.06-2.06.94zm-11 1L8.5 8.5l.94-2.06 2.06-.94-2.06-.94L8.5 2.5l-.94 2.06-2.06.94zm10 10l.94 2.06.94-2.06 2.06-.94-2.06-.94-.94-2.06-.94 2.06-2.06.94z\"/><path d=\"M17.41 7.96l-1.37-1.37c-.4-.4-.92-.59-1.43-.59-.52 0-1.04.2-1.43.59L10.3 9.45l-7.72 7.72c-.78.78-.78 2.05 0 2.83L4 21.41c.39.39.9.59 1.41.59.51 0 1.02-.2 1.41-.59l7.78-7.78 2.81-2.81c.8-.78.8-2.07 0-2.86zM5.41 20L4 18.59l7.72-7.72 1.47 1.35L5.41 20z\"/>\n",
              "  </svg>\n",
              "      </button>\n",
              "      \n",
              "  <style>\n",
              "    .colab-df-container {\n",
              "      display:flex;\n",
              "      flex-wrap:wrap;\n",
              "      gap: 12px;\n",
              "    }\n",
              "\n",
              "    .colab-df-convert {\n",
              "      background-color: #E8F0FE;\n",
              "      border: none;\n",
              "      border-radius: 50%;\n",
              "      cursor: pointer;\n",
              "      display: none;\n",
              "      fill: #1967D2;\n",
              "      height: 32px;\n",
              "      padding: 0 0 0 0;\n",
              "      width: 32px;\n",
              "    }\n",
              "\n",
              "    .colab-df-convert:hover {\n",
              "      background-color: #E2EBFA;\n",
              "      box-shadow: 0px 1px 2px rgba(60, 64, 67, 0.3), 0px 1px 3px 1px rgba(60, 64, 67, 0.15);\n",
              "      fill: #174EA6;\n",
              "    }\n",
              "\n",
              "    [theme=dark] .colab-df-convert {\n",
              "      background-color: #3B4455;\n",
              "      fill: #D2E3FC;\n",
              "    }\n",
              "\n",
              "    [theme=dark] .colab-df-convert:hover {\n",
              "      background-color: #434B5C;\n",
              "      box-shadow: 0px 1px 3px 1px rgba(0, 0, 0, 0.15);\n",
              "      filter: drop-shadow(0px 1px 2px rgba(0, 0, 0, 0.3));\n",
              "      fill: #FFFFFF;\n",
              "    }\n",
              "  </style>\n",
              "\n",
              "      <script>\n",
              "        const buttonEl =\n",
              "          document.querySelector('#df-c21bc729-e623-4c5f-9842-7b3a8f00fc61 button.colab-df-convert');\n",
              "        buttonEl.style.display =\n",
              "          google.colab.kernel.accessAllowed ? 'block' : 'none';\n",
              "\n",
              "        async function convertToInteractive(key) {\n",
              "          const element = document.querySelector('#df-c21bc729-e623-4c5f-9842-7b3a8f00fc61');\n",
              "          const dataTable =\n",
              "            await google.colab.kernel.invokeFunction('convertToInteractive',\n",
              "                                                     [key], {});\n",
              "          if (!dataTable) return;\n",
              "\n",
              "          const docLinkHtml = 'Like what you see? Visit the ' +\n",
              "            '<a target=\"_blank\" href=https://colab.research.google.com/notebooks/data_table.ipynb>data table notebook</a>'\n",
              "            + ' to learn more about interactive tables.';\n",
              "          element.innerHTML = '';\n",
              "          dataTable['output_type'] = 'display_data';\n",
              "          await google.colab.output.renderOutput(dataTable, element);\n",
              "          const docLink = document.createElement('div');\n",
              "          docLink.innerHTML = docLinkHtml;\n",
              "          element.appendChild(docLink);\n",
              "        }\n",
              "      </script>\n",
              "    </div>\n",
              "  </div>\n",
              "  "
            ]
          },
          "metadata": {},
          "execution_count": 65
        }
      ],
      "source": [
        "words_df.tail()"
      ]
    },
    {
      "cell_type": "markdown",
      "metadata": {
        "id": "nTcWd-pYFRob"
      },
      "source": [
        "## 3.3 Find and Replace Rare Words with \"Unknown\" Token"
      ]
    },
    {
      "cell_type": "code",
      "execution_count": 66,
      "metadata": {
        "id": "1iC4ztG3XIP3"
      },
      "outputs": [],
      "source": [
        "# user specified threshold value\n",
        "rare_thresh = 2\n",
        "\n",
        "# get percentage of rare words in the vocabulary\n",
        "rare_words_count = len(words_df[words_df['count'] < rare_thresh]['word'])\n",
        "total_words = len(words_df) \n",
        "rare_dist = rare_words_count / total_words\n",
        "\n",
        "# coverage percentage of rare words in the corpus\n",
        "rare_cover = words_df[words_df['count'] < rare_thresh]['count'].sum()/words_df['count'].sum()"
      ]
    },
    {
      "cell_type": "code",
      "execution_count": 67,
      "metadata": {
        "colab": {
          "base_uri": "https://localhost:8080/"
        },
        "id": "helYHQ4BXNK9",
        "outputId": "a46add34-24f1-4967-cd98-7a13389f119a"
      },
      "outputs": [
        {
          "output_type": "stream",
          "name": "stdout",
          "text": [
            "Rare words distribution in the vocabulary: 47.98\n",
            "Rare words coverage in the corpus: 1.12\n"
          ]
        }
      ],
      "source": [
        "print(f\"Rare words distribution in the vocabulary: {rare_dist*100:.2f}\")\n",
        "print(f\"Rare words coverage in the corpus: {rare_cover*100:.2f}\")"
      ]
    },
    {
      "cell_type": "code",
      "execution_count": 68,
      "metadata": {
        "id": "yJhbRQllXQJk"
      },
      "outputs": [],
      "source": [
        "# extract rare words in a list\n",
        "rare_words = words_df[words_df['count'] < rare_thresh]['word'].tolist()"
      ]
    },
    {
      "cell_type": "markdown",
      "metadata": {
        "id": "178uBVztqTDa"
      },
      "source": [
        "Replace the rare words/tokens in the dataset with a special token known as the unknown token (\"\\<unk\\>\")"
      ]
    },
    {
      "cell_type": "code",
      "execution_count": 69,
      "metadata": {
        "colab": {
          "base_uri": "https://localhost:8080/"
        },
        "id": "H5tSChzyoOJT",
        "outputId": "f6098a6d-58f7-418f-d304-fdb7133dda5f"
      },
      "outputs": [
        {
          "output_type": "stream",
          "name": "stdout",
          "text": [
            "day|book|\n"
          ]
        }
      ],
      "source": [
        "## example\n",
        "# specify rare words\n",
        "r_words = [\"day\", \"book\"]\n",
        "\n",
        "# build pattern\n",
        "pattern = \"\"\n",
        "for i in r_words:\n",
        "  pattern+= \"{}|\".format(i)\n",
        "\n",
        "print(pattern)"
      ]
    },
    {
      "cell_type": "code",
      "execution_count": 70,
      "metadata": {
        "colab": {
          "base_uri": "https://localhost:8080/"
        },
        "id": "xZAMqmwPowZj",
        "outputId": "e1ac5e97-d6db-4de3-9351-28d9fbe24e7d"
      },
      "outputs": [
        {
          "output_type": "stream",
          "name": "stdout",
          "text": [
            "day|book\n"
          ]
        }
      ],
      "source": [
        "# removing the last element which is \"|\"\n",
        "pattern = pattern[:-1]\n",
        "print(pattern)"
      ]
    },
    {
      "cell_type": "code",
      "execution_count": 71,
      "metadata": {
        "colab": {
          "base_uri": "https://localhost:8080/"
        },
        "id": "UV1K1ibbo3XI",
        "outputId": "460d8521-8a7a-4824-fb30-f8e04a4d1534"
      },
      "outputs": [
        {
          "output_type": "stream",
          "name": "stdout",
          "text": [
            "it has been a long  <unk> \n",
            "this  <unk>  is a must read\n"
          ]
        }
      ],
      "source": [
        "# replace the rare words with the <unk> token\n",
        "sents = [\"it has been a long day\", \"this book is a must read\"]\n",
        "\n",
        "for d in sents:\n",
        "  text = re.sub(pattern, \" <unk> \", d)\n",
        "  print(text)"
      ]
    },
    {
      "cell_type": "code",
      "execution_count": 72,
      "metadata": {
        "id": "hEn-L1_8YBjl"
      },
      "outputs": [],
      "source": [
        "# create a text pattern from the rare words, like \"word1 | word2 | word3...\"\n",
        "pattern = \"\"\n",
        "for i in rare_words:\n",
        "  pattern+= \" {} |\".format(i)\n",
        "\n",
        "# removing the last element which is \"|\"\n",
        "pattern = pattern[:-1]\n",
        "\n",
        "# empty list \n",
        "dialogs_clean_v2 = []\n",
        "\n",
        "# replace the rare words with the <unk> token\n",
        "#for d in tqdm_notebook(dialogs_clean):\n",
        "for d in dialogs_clean:\n",
        "  text = re.sub(pattern, \" <unk> \", d)\n",
        "  dialogs_clean_v2.append(text)"
      ]
    },
    {
      "cell_type": "code",
      "execution_count": 73,
      "metadata": {
        "id": "FMh9IVnQdyGE"
      },
      "outputs": [],
      "source": [
        "dialogs_clean_v2 = dialogs_clean_v2[:20000]"
      ]
    },
    {
      "cell_type": "code",
      "source": [
        "dialogs_clean_v2[:10]"
      ],
      "metadata": {
        "colab": {
          "base_uri": "https://localhost:8080/"
        },
        "id": "Skg_W9Aaj4EK",
        "outputId": "3fca2bbb-a14f-4534-92e2-34939e1cfa55"
      },
      "execution_count": 74,
      "outputs": [
        {
          "output_type": "execute_result",
          "data": {
            "text/plain": [
              "[\"hi i'm looking to book a table for korean fod\",\n",
              " 'somewhere in southern nyc maybe the east village',\n",
              " \" we don't want to sit at the bar but anywhere else is fine\",\n",
              " 'what times are available',\n",
              " \"yikes we can't do those times\",\n",
              " 'let me check',\n",
              " \"great let's book that\",\n",
              " \"no that's it just book\",\n",
              " 'hi i would like to see if the movie what men want is playing here',\n",
              " 'yes for me and a friend so two tickets please']"
            ]
          },
          "metadata": {},
          "execution_count": 74
        }
      ]
    },
    {
      "cell_type": "markdown",
      "metadata": {
        "id": "waTukoy1AbVT"
      },
      "source": [
        "# 4. Data Preparation"
      ]
    },
    {
      "cell_type": "markdown",
      "metadata": {
        "id": "8SvIJQ0brBWW"
      },
      "source": [
        "## 4.1 Prepare Sequences"
      ]
    },
    {
      "cell_type": "code",
      "execution_count": 75,
      "metadata": {
        "colab": {
          "base_uri": "https://localhost:8080/",
          "height": 282
        },
        "id": "H5BYGcwBF7hX",
        "outputId": "ff0283da-9ef0-4e9a-b139-8ee7941dac43"
      },
      "outputs": [
        {
          "output_type": "stream",
          "name": "stdout",
          "text": [
            "20000\n"
          ]
        },
        {
          "output_type": "display_data",
          "data": {
            "text/plain": [
              "<Figure size 432x288 with 1 Axes>"
            ],
            "image/png": "[encoded data removed]"
          },
          "metadata": {
            "needs_background": "light"
          }
        }
      ],
      "source": [
        "# capture length of all the sequences\n",
        "text_word_count = []\n",
        "for i in dialogs_clean_v2:\n",
        "  text_word_count.append(len(i.split()))\n",
        "        \n",
        "# plot the sequence lengths\n",
        "pd.Series(text_word_count).hist(bins = 30,range=(0,30))\n",
        "print(len(text_word_count))"
      ]
    },
    {
      "cell_type": "code",
      "execution_count": 76,
      "metadata": {
        "id": "uw8F6bfwjBeo"
      },
      "outputs": [],
      "source": [
        "# function to create sequences of equal length\n",
        "def create_seq1(text, seq_len = 5):\n",
        "      \n",
        "  sequences = []    \n",
        "  temp = 0\n",
        "  seq_len1 = 5\n",
        "  if len(text.split()) > seq_len:\n",
        "    for i in range(0, round(len(text.split())/seq_len)):\n",
        "      # select sequence of tokens\n",
        "      seq = text.split()[temp:seq_len1]\n",
        "      temp = seq_len1\n",
        "      seq_len1 = seq_len + temp\n",
        "      \n",
        "      if len(seq) > 0:\n",
        "        # append sequence to the list\n",
        "        sequences.append(\" \".join(seq))\n",
        "\n",
        "    return sequences\n",
        "\n",
        "  else:\n",
        "    \n",
        "    return [text]"
      ]
    },
    {
      "cell_type": "code",
      "source": [
        "# function to create sequences of equal length\n",
        "def create_seq(text, seq_len = 5):\n",
        "      \n",
        "  sequences = []    \n",
        "  \n",
        "  if len(text.split()) > seq_len:\n",
        "    for i in range(seq_len, len(text.split())):\n",
        "      # select sequence of tokens\n",
        "      seq = text.split()[i-seq_len:i+1]\n",
        "      # append sequence to the list\n",
        "      sequences.append(\" \".join(seq))\n",
        "\n",
        "    return sequences\n",
        "\n",
        "  else:\n",
        "    \n",
        "    return [text]"
      ],
      "metadata": {
        "id": "QuiaxDXww5H_"
      },
      "execution_count": 77,
      "outputs": []
    },
    {
      "cell_type": "code",
      "execution_count": 78,
      "metadata": {
        "colab": {
          "base_uri": "https://localhost:8080/"
        },
        "id": "p0psJCgo9QtH",
        "outputId": "7dfb7fe2-05d7-41f9-94ba-4bacead49ce2"
      },
      "outputs": [
        {
          "output_type": "execute_result",
          "data": {
            "text/plain": [
              "[[\"hi i'm looking to book a\",\n",
              "  \"i'm looking to book a table\",\n",
              "  'looking to book a table for',\n",
              "  'to book a table for korean',\n",
              "  'book a table for korean fod'],\n",
              " ['somewhere in southern nyc maybe the',\n",
              "  'in southern nyc maybe the east',\n",
              "  'southern nyc maybe the east village'],\n",
              " [\"we don't want to sit at\",\n",
              "  \"don't want to sit at the\",\n",
              "  'want to sit at the bar',\n",
              "  'to sit at the bar but',\n",
              "  'sit at the bar but anywhere',\n",
              "  'at the bar but anywhere else',\n",
              "  'the bar but anywhere else is',\n",
              "  'bar but anywhere else is fine'],\n",
              " ['what times are available'],\n",
              " [\"yikes we can't do those times\"],\n",
              " ['let me check'],\n",
              " [\"great let's book that\"],\n",
              " [\"no that's it just book\"],\n",
              " ['hi i would like to see',\n",
              "  'i would like to see if',\n",
              "  'would like to see if the',\n",
              "  'like to see if the movie',\n",
              "  'to see if the movie what',\n",
              "  'see if the movie what men',\n",
              "  'if the movie what men want',\n",
              "  'the movie what men want is',\n",
              "  'movie what men want is playing',\n",
              "  'what men want is playing here'],\n",
              " ['yes for me and a friend',\n",
              "  'for me and a friend so',\n",
              "  'me and a friend so two',\n",
              "  'and a friend so two tickets',\n",
              "  'a friend so two tickets please']]"
            ]
          },
          "metadata": {},
          "execution_count": 78
        }
      ],
      "source": [
        "# create sequences of equal length\n",
        "seqs = [create_seq(i) for i in dialogs_clean_v2 if len(i) < 100 and len(i) > 1]\n",
        "#seqs = [i for i in dialogs_clean_v2 if len(i) < 80]\n",
        "seqs[:10]"
      ]
    },
    {
      "cell_type": "code",
      "execution_count": 79,
      "metadata": {
        "id": "0_sqNUB1p86p"
      },
      "outputs": [],
      "source": [
        "# merge list-of-lists into a single list\n",
        "corpus = sum(seqs, [])\n"
      ]
    },
    {
      "cell_type": "code",
      "execution_count": 55,
      "metadata": {
        "colab": {
          "base_uri": "https://localhost:8080/"
        },
        "id": "dwmBsxuqxPRq",
        "outputId": "accb96d2-972b-4292-af65-f44361002c5d"
      },
      "outputs": [
        {
          "output_type": "execute_result",
          "data": {
            "text/plain": [
              "[]"
            ]
          },
          "metadata": {},
          "execution_count": 55
        }
      ],
      "source": [
        "corpus[:20]"
      ]
    },
    {
      "cell_type": "markdown",
      "metadata": {
        "id": "c_1Lazko0ncT"
      },
      "source": [
        " **4.2 Create Token-Integer Mappings**"
      ]
    },
    {
      "cell_type": "code",
      "execution_count": 27,
      "metadata": {
        "id": "ycKTOMtn3IHb"
      },
      "outputs": [],
      "source": [
        "tokenizer = Tokenizer()\n",
        "tokenizer.fit_on_texts(corpus)\n",
        "total_words = len(tokenizer.word_index) + 1"
      ]
    },
    {
      "cell_type": "code",
      "execution_count": 28,
      "metadata": {
        "colab": {
          "base_uri": "https://localhost:8080/"
        },
        "id": "uGudI_YR3NVa",
        "outputId": "b0ab8d9f-63f1-4be5-ddf7-235881267df8"
      },
      "outputs": [
        {
          "output_type": "execute_result",
          "data": {
            "text/plain": [
              "4848"
            ]
          },
          "metadata": {},
          "execution_count": 28
        }
      ],
      "source": [
        "total_words"
      ]
    },
    {
      "cell_type": "markdown",
      "metadata": {
        "id": "i87lF6O70zSC"
      },
      "source": [
        "**4.3 Generates a list of n-gram sequences and list of n-gram sequences**"
      ]
    },
    {
      "cell_type": "code",
      "execution_count": 29,
      "metadata": {
        "id": "hdQyfvD24Yzg"
      },
      "outputs": [],
      "source": [
        "#Create n_gram_seqs\n",
        "def n_gram_seqs(corpus, tokenizer):\n",
        "    \"\"\"\n",
        "    Generates a list of n-gram sequences\n",
        "    \n",
        "    Args:\n",
        "        corpus (list of string): lines of texts to generate n-grams for\n",
        "        tokenizer (object): an instance of the Tokenizer class containing the word-index dictionary\n",
        "    \n",
        "    Returns:\n",
        "        input_sequences (list of int): the n-gram sequences for each line in the corpus\n",
        "    \"\"\"\n",
        "    input_sequences = []\n",
        "    output_sequences = []\n",
        "    ### START CODE HERE\n",
        "    for line in corpus:\n",
        "      token_list = tokenizer.texts_to_sequences([line])[0]\n",
        "      \n",
        "      for i in range(1, len(token_list)):\n",
        "        n_gram_seqs= token_list[:i]\n",
        "        #print(n_gram_seqs)\n",
        "        input_sequences.append(n_gram_seqs)\n",
        "        output_sequences.append(token_list[i:i+1])\n",
        "        \n",
        "    ### END CODE HERE\n",
        "    \n",
        "    return input_sequences, output_sequences"
      ]
    },
    {
      "cell_type": "code",
      "execution_count": 30,
      "metadata": {
        "colab": {
          "base_uri": "https://localhost:8080/"
        },
        "id": "4WGyZvGA4iJK",
        "outputId": "f7c25f5b-5e1d-45bf-ea4b-1201d3614af2"
      },
      "outputs": [
        {
          "output_type": "stream",
          "name": "stdout",
          "text": [
            "n_grams of input_sequences length: 277183\n",
            "maximum length of sequences : 5\n"
          ]
        },
        {
          "output_type": "execute_result",
          "data": {
            "text/plain": [
              "[[121],\n",
              " [121, 59],\n",
              " [121, 59, 139],\n",
              " [121, 59, 139, 1],\n",
              " [121, 59, 139, 1, 55],\n",
              " [59],\n",
              " [59, 139],\n",
              " [59, 139, 1],\n",
              " [59, 139, 1, 55],\n",
              " [59, 139, 1, 55, 3]]"
            ]
          },
          "metadata": {},
          "execution_count": 30
        }
      ],
      "source": [
        "# Apply the n_gram_seqs transformation to the whole corpus\n",
        "input_sequences, output_sequences = n_gram_seqs(corpus, tokenizer)\n",
        "\n",
        "# Save max length \n",
        "max_sequence_len = max([len(x) for x in input_sequences])\n",
        "\n",
        "print(f\"n_grams of input_sequences length: {len(input_sequences)}\")\n",
        "print(f\"maximum length of sequences : {max_sequence_len}\")\n",
        "input_sequences[:10]"
      ]
    },
    {
      "cell_type": "code",
      "execution_count": 31,
      "metadata": {
        "colab": {
          "base_uri": "https://localhost:8080/"
        },
        "id": "p1bvMXPF-atc",
        "outputId": "c4941ddb-d345-4c87-8ee2-650a334767aa"
      },
      "outputs": [
        {
          "output_type": "execute_result",
          "data": {
            "text/plain": [
              "[[59], [139], [1], [55], [3], [139], [1], [55], [3], [110]]"
            ]
          },
          "metadata": {},
          "execution_count": 31
        }
      ],
      "source": [
        "output_sequences[:10]"
      ]
    },
    {
      "cell_type": "markdown",
      "metadata": {
        "id": "pWdt2Yzd0uFG"
      },
      "source": [
        "**4.4 Create Token-Integer Mappings**"
      ]
    },
    {
      "cell_type": "code",
      "execution_count": 32,
      "metadata": {
        "id": "u7oNbNAR4k_i"
      },
      "outputs": [],
      "source": [
        "def pad_seqs(input_sequences, maxlen):\n",
        "    \"\"\"\n",
        "    Pads tokenized sequences to same length\n",
        "    \n",
        "    Args:\n",
        "        input_sequences: tokenized sequences to pad\n",
        "        maxlen: maximum length of sequences\n",
        "    \n",
        "    Returns:\n",
        "        padded_sequences: tokenized sequences padded to  same length\n",
        "    \"\"\"\n",
        "\n",
        "    post_pad_sequence = pad_sequences(input_sequences, maxlen=maxlen, padding='pre')\n",
        "    return post_pad_sequence"
      ]
    },
    {
      "cell_type": "code",
      "execution_count": 33,
      "metadata": {
        "colab": {
          "base_uri": "https://localhost:8080/"
        },
        "id": "br1dRGoP4upC",
        "outputId": "8f926e9c-258b-452d-8a35-1b345149f22b"
      },
      "outputs": [
        {
          "output_type": "stream",
          "name": "stdout",
          "text": [
            "padded corpus has shape: (277183, 5)\n"
          ]
        }
      ],
      "source": [
        "# Pad the whole corpus\n",
        "pad_sequence = pad_seqs(input_sequences, max_sequence_len)\n",
        "\n",
        "print(f\"padded corpus has shape: {pad_sequence.shape}\")"
      ]
    },
    {
      "cell_type": "code",
      "execution_count": 34,
      "metadata": {
        "colab": {
          "base_uri": "https://localhost:8080/"
        },
        "id": "wNFLZSx9l2f-",
        "outputId": "cb3b07ca-5335-4799-ac7e-2e62ea55a7ff"
      },
      "outputs": [
        {
          "output_type": "execute_result",
          "data": {
            "text/plain": [
              "array([[  0,   0,   0,   0, 121],\n",
              "       [  0,   0,   0, 121,  59],\n",
              "       [  0,   0, 121,  59, 139],\n",
              "       ...,\n",
              "       [  0,   0,  84,  14,   4],\n",
              "       [  0,  84,  14,   4, 200],\n",
              "       [ 84,  14,   4, 200,   9]], dtype=int32)"
            ]
          },
          "metadata": {},
          "execution_count": 34
        }
      ],
      "source": [
        "pad_sequence"
      ]
    },
    {
      "cell_type": "code",
      "execution_count": 35,
      "metadata": {
        "id": "Fuk3GeAa4xIa"
      },
      "outputs": [],
      "source": [
        "def features_and_labels(pad_sequence, labels, total_words):\n",
        "\n",
        "    #features = pre_pad_sequence[:,:-1]\n",
        "    one_hot_labels = to_categorical(labels, num_classes=total_words)\n",
        "\n",
        "    return pad_sequence, one_hot_labels"
      ]
    },
    {
      "cell_type": "code",
      "execution_count": 36,
      "metadata": {
        "colab": {
          "base_uri": "https://localhost:8080/"
        },
        "id": "t4gxDZzd42P8",
        "outputId": "47811b2c-395f-44c1-e0f9-7473f6f5f05d"
      },
      "outputs": [
        {
          "output_type": "stream",
          "name": "stdout",
          "text": [
            "features have shape: (277183, 5)\n",
            "labels have shape: (277183, 4848)\n"
          ]
        }
      ],
      "source": [
        "# Split the whole corpus\n",
        "features, labels = features_and_labels(pad_sequence, output_sequences, total_words)\n",
        "\n",
        "print(f\"features have shape: {features.shape}\")\n",
        "print(f\"labels have shape: {labels.shape}\")\n"
      ]
    },
    {
      "cell_type": "code",
      "execution_count": 53,
      "metadata": {
        "colab": {
          "base_uri": "https://localhost:8080/"
        },
        "id": "Mz1wUvgzlwl8",
        "outputId": "7268044e-7b66-41ea-8982-29890b2f52b8"
      },
      "outputs": [
        {
          "output_type": "execute_result",
          "data": {
            "text/plain": [
              "array([[  0,   0,   0,   0, 121],\n",
              "       [  0,   0,   0, 121,  59],\n",
              "       [  0,   0, 121,  59, 139],\n",
              "       ...,\n",
              "       [  0,   0,  84,  14,   4],\n",
              "       [  0,  84,  14,   4, 200],\n",
              "       [ 84,  14,   4, 200,   9]], dtype=int32)"
            ]
          },
          "metadata": {},
          "execution_count": 53
        }
      ],
      "source": [
        "post_pad_sequence = []\n",
        "pre_pad_sequence = []\n",
        "seqs = []\n",
        "#corpus = []\n",
        "features"
      ]
    },
    {
      "cell_type": "markdown",
      "source": [
        "# **Implement Glove to get better accuracy**"
      ],
      "metadata": {
        "id": "bmYz0WBQZb35"
      }
    },
    {
      "cell_type": "code",
      "source": [
        "# Define path to file containing the embeddings\n",
        "GLOVE_FILE = './glove.6B.100d.txt'\n",
        "\n",
        "# Initialize an empty embeddings index dictionary\n",
        "GLOVE_EMBEDDINGS = {}\n",
        "\n",
        "# Read file and fill GLOVE_EMBEDDINGS with its contents\n",
        "with open(GLOVE_FILE, 'r', errors = 'ignore', encoding='utf8') as f:\n",
        "    for line in f:\n",
        "        values = line.split()\n",
        "        values = ['0' if x=='.' else x for x in values]\n",
        "        word = values[0]\n",
        "        coefs = np.asarray(values[1:], dtype='float32')\n",
        "        GLOVE_EMBEDDINGS[word] = coefs\n",
        "\n",
        "f.close()"
      ],
      "metadata": {
        "id": "AmSN2V_HDEWK"
      },
      "execution_count": 38,
      "outputs": []
    },
    {
      "cell_type": "code",
      "source": [
        "EMBEDDING_DIM = 100\n",
        "word_index = tokenizer.word_index\n",
        "# Initialize empty numpy array with the appropriate size\n",
        "EMBEDDINGS_MATRIX = np.zeros((total_words+1, EMBEDDING_DIM))\n",
        "\n",
        "# Iterate all of the words in the vocabulary\n",
        "for word, i in word_index.items():\n",
        "    embedding_vector = GLOVE_EMBEDDINGS.get(word)\n",
        "    if embedding_vector is not None:\n",
        "        EMBEDDINGS_MATRIX[i] = embedding_vector"
      ],
      "metadata": {
        "id": "qLglCzKUD0Hr"
      },
      "execution_count": 39,
      "outputs": []
    },
    {
      "cell_type": "markdown",
      "metadata": {
        "id": "Q7YLFIwX1M0a"
      },
      "source": [
        "# **5.1 Define Model Architecture**"
      ]
    },
    {
      "cell_type": "code",
      "execution_count": 40,
      "metadata": {
        "id": "uHbLbl3n44xB"
      },
      "outputs": [],
      "source": [
        "from keras import regularizers\n",
        "from keras.regularizers import l2\n",
        "def create_model(total_words, embedding_dim, embeddings_matrix,  max_sequence_len):\n",
        "  model = Sequential()\n",
        "  #model.add(Embedding(total_words, 100, input_length=max_sequence_len))\n",
        "\n",
        "  model.add(Embedding(total_words+1, embedding_dim, input_length=max_sequence_len, weights=[embeddings_matrix]))\n",
        "  #model.add(LSTM(units=128 , return_sequences = True , recurrent_dropout = 0.15 , dropout = 0.15))\n",
        "  #model.add(tf.keras.layers.Dropout(.2))\n",
        "  model.add(Bidirectional(LSTM(units=128)))\n",
        "\n",
        "  model.add(Dense(total_words, activation='softmax'))\n",
        "  learning_rate = 0.001\n",
        "  opt = tf.keras.optimizers.Adam(learning_rate=learning_rate)\n",
        "  # Compile the model\n",
        "  model.compile(loss='categorical_crossentropy',\n",
        "                optimizer= opt,\n",
        "                metrics=['accuracy'])\n",
        "\n",
        "  model.summary()\n",
        "  return model"
      ]
    },
    {
      "cell_type": "markdown",
      "metadata": {
        "id": "hOaul-Sp1Uqp"
      },
      "source": [
        " **5.2 Train Model**"
      ]
    },
    {
      "cell_type": "code",
      "execution_count": 41,
      "metadata": {
        "id": "-tvZHqmY4965",
        "colab": {
          "base_uri": "https://localhost:8080/"
        },
        "outputId": "4db0c105-a05d-44e1-a6c1-9868b9a98d71"
      },
      "outputs": [
        {
          "output_type": "stream",
          "name": "stdout",
          "text": [
            "Model: \"sequential\"\n",
            "_________________________________________________________________\n",
            " Layer (type)                Output Shape              Param #   \n",
            "=================================================================\n",
            " embedding (Embedding)       (None, 5, 100)            484900    \n",
            "                                                                 \n",
            " bidirectional (Bidirectiona  (None, 256)              234496    \n",
            " l)                                                              \n",
            "                                                                 \n",
            " dense (Dense)               (None, 4848)              1245936   \n",
            "                                                                 \n",
            "=================================================================\n",
            "Total params: 1,965,332\n",
            "Trainable params: 1,965,332\n",
            "Non-trainable params: 0\n",
            "_________________________________________________________________\n",
            "Epoch 1/65\n",
            "542/542 - 10s - loss: 5.1752 - accuracy: 0.1364 - 10s/epoch - 19ms/step\n",
            "Epoch 2/65\n",
            "542/542 - 7s - loss: 4.0863 - accuracy: 0.2424 - 7s/epoch - 13ms/step\n",
            "Epoch 3/65\n",
            "542/542 - 7s - loss: 3.6562 - accuracy: 0.2840 - 7s/epoch - 14ms/step\n",
            "Epoch 4/65\n",
            "542/542 - 7s - loss: 3.3754 - accuracy: 0.3093 - 7s/epoch - 13ms/step\n",
            "Epoch 5/65\n",
            "542/542 - 7s - loss: 3.1619 - accuracy: 0.3311 - 7s/epoch - 13ms/step\n",
            "Epoch 6/65\n",
            "542/542 - 7s - loss: 2.9907 - accuracy: 0.3508 - 7s/epoch - 13ms/step\n",
            "Epoch 7/65\n",
            "542/542 - 7s - loss: 2.8493 - accuracy: 0.3691 - 7s/epoch - 13ms/step\n",
            "Epoch 8/65\n",
            "542/542 - 7s - loss: 2.7285 - accuracy: 0.3851 - 7s/epoch - 13ms/step\n",
            "Epoch 9/65\n",
            "542/542 - 7s - loss: 2.6256 - accuracy: 0.4010 - 7s/epoch - 13ms/step\n",
            "Epoch 10/65\n",
            "542/542 - 7s - loss: 2.5347 - accuracy: 0.4147 - 7s/epoch - 13ms/step\n",
            "Epoch 11/65\n",
            "542/542 - 7s - loss: 2.4554 - accuracy: 0.4274 - 7s/epoch - 13ms/step\n",
            "Epoch 12/65\n",
            "542/542 - 7s - loss: 2.3842 - accuracy: 0.4392 - 7s/epoch - 13ms/step\n",
            "Epoch 13/65\n",
            "542/542 - 7s - loss: 2.3202 - accuracy: 0.4506 - 7s/epoch - 13ms/step\n",
            "Epoch 14/65\n",
            "542/542 - 7s - loss: 2.2621 - accuracy: 0.4606 - 7s/epoch - 13ms/step\n",
            "Epoch 15/65\n",
            "542/542 - 7s - loss: 2.2100 - accuracy: 0.4704 - 7s/epoch - 13ms/step\n",
            "Epoch 16/65\n",
            "542/542 - 7s - loss: 2.1610 - accuracy: 0.4799 - 7s/epoch - 13ms/step\n",
            "Epoch 17/65\n",
            "542/542 - 7s - loss: 2.1162 - accuracy: 0.4885 - 7s/epoch - 13ms/step\n",
            "Epoch 18/65\n",
            "542/542 - 7s - loss: 2.0762 - accuracy: 0.4946 - 7s/epoch - 13ms/step\n",
            "Epoch 19/65\n",
            "542/542 - 7s - loss: 2.0379 - accuracy: 0.5027 - 7s/epoch - 13ms/step\n",
            "Epoch 20/65\n",
            "542/542 - 7s - loss: 2.0025 - accuracy: 0.5095 - 7s/epoch - 13ms/step\n",
            "Epoch 21/65\n",
            "542/542 - 7s - loss: 1.9698 - accuracy: 0.5157 - 7s/epoch - 13ms/step\n",
            "Epoch 22/65\n",
            "542/542 - 7s - loss: 1.9385 - accuracy: 0.5218 - 7s/epoch - 13ms/step\n",
            "Epoch 23/65\n",
            "542/542 - 7s - loss: 1.9108 - accuracy: 0.5273 - 7s/epoch - 13ms/step\n",
            "Epoch 24/65\n",
            "542/542 - 7s - loss: 1.8836 - accuracy: 0.5323 - 7s/epoch - 13ms/step\n",
            "Epoch 25/65\n",
            "542/542 - 7s - loss: 1.8590 - accuracy: 0.5379 - 7s/epoch - 13ms/step\n",
            "Epoch 26/65\n",
            "542/542 - 7s - loss: 1.8353 - accuracy: 0.5424 - 7s/epoch - 13ms/step\n",
            "Epoch 27/65\n",
            "542/542 - 7s - loss: 1.8130 - accuracy: 0.5473 - 7s/epoch - 13ms/step\n",
            "Epoch 28/65\n",
            "542/542 - 7s - loss: 1.7914 - accuracy: 0.5515 - 7s/epoch - 13ms/step\n",
            "Epoch 29/65\n",
            "542/542 - 7s - loss: 1.7720 - accuracy: 0.5557 - 7s/epoch - 13ms/step\n",
            "Epoch 30/65\n",
            "542/542 - 7s - loss: 1.7533 - accuracy: 0.5590 - 7s/epoch - 13ms/step\n",
            "Epoch 31/65\n",
            "542/542 - 7s - loss: 1.7356 - accuracy: 0.5621 - 7s/epoch - 13ms/step\n",
            "Epoch 32/65\n",
            "542/542 - 7s - loss: 1.7189 - accuracy: 0.5651 - 7s/epoch - 13ms/step\n",
            "Epoch 33/65\n",
            "542/542 - 7s - loss: 1.7028 - accuracy: 0.5681 - 7s/epoch - 13ms/step\n",
            "Epoch 34/65\n",
            "542/542 - 7s - loss: 1.6879 - accuracy: 0.5711 - 7s/epoch - 13ms/step\n",
            "Epoch 35/65\n",
            "542/542 - 7s - loss: 1.6747 - accuracy: 0.5741 - 7s/epoch - 13ms/step\n",
            "Epoch 36/65\n",
            "542/542 - 7s - loss: 1.6605 - accuracy: 0.5761 - 7s/epoch - 13ms/step\n",
            "Epoch 37/65\n",
            "542/542 - 7s - loss: 1.6481 - accuracy: 0.5787 - 7s/epoch - 13ms/step\n",
            "Epoch 38/65\n",
            "542/542 - 7s - loss: 1.6356 - accuracy: 0.5813 - 7s/epoch - 13ms/step\n",
            "Epoch 39/65\n",
            "542/542 - 7s - loss: 1.6232 - accuracy: 0.5839 - 7s/epoch - 13ms/step\n",
            "Epoch 40/65\n",
            "542/542 - 7s - loss: 1.6133 - accuracy: 0.5853 - 7s/epoch - 13ms/step\n",
            "Epoch 41/65\n",
            "542/542 - 7s - loss: 1.6027 - accuracy: 0.5871 - 7s/epoch - 13ms/step\n",
            "Epoch 42/65\n",
            "542/542 - 7s - loss: 1.5917 - accuracy: 0.5893 - 7s/epoch - 13ms/step\n",
            "Epoch 43/65\n",
            "542/542 - 7s - loss: 1.5821 - accuracy: 0.5912 - 7s/epoch - 13ms/step\n",
            "Epoch 44/65\n",
            "542/542 - 7s - loss: 1.5731 - accuracy: 0.5930 - 7s/epoch - 13ms/step\n",
            "Epoch 45/65\n",
            "542/542 - 7s - loss: 1.5636 - accuracy: 0.5947 - 7s/epoch - 13ms/step\n",
            "Epoch 46/65\n",
            "542/542 - 7s - loss: 1.5546 - accuracy: 0.5965 - 7s/epoch - 14ms/step\n",
            "Epoch 47/65\n",
            "542/542 - 7s - loss: 1.5481 - accuracy: 0.5972 - 7s/epoch - 13ms/step\n",
            "Epoch 48/65\n",
            "542/542 - 7s - loss: 1.5402 - accuracy: 0.5990 - 7s/epoch - 13ms/step\n",
            "Epoch 49/65\n",
            "542/542 - 7s - loss: 1.5322 - accuracy: 0.6012 - 7s/epoch - 13ms/step\n",
            "Epoch 50/65\n",
            "542/542 - 7s - loss: 1.5250 - accuracy: 0.6022 - 7s/epoch - 13ms/step\n",
            "Epoch 51/65\n",
            "542/542 - 7s - loss: 1.5179 - accuracy: 0.6032 - 7s/epoch - 13ms/step\n",
            "Epoch 52/65\n",
            "542/542 - 7s - loss: 1.5112 - accuracy: 0.6039 - 7s/epoch - 13ms/step\n",
            "Epoch 53/65\n",
            "542/542 - 7s - loss: 1.5045 - accuracy: 0.6055 - 7s/epoch - 13ms/step\n",
            "Epoch 54/65\n",
            "542/542 - 7s - loss: 1.4987 - accuracy: 0.6070 - 7s/epoch - 13ms/step\n",
            "Epoch 55/65\n",
            "542/542 - 7s - loss: 1.4932 - accuracy: 0.6072 - 7s/epoch - 13ms/step\n",
            "Epoch 56/65\n",
            "542/542 - 7s - loss: 1.4869 - accuracy: 0.6088 - 7s/epoch - 13ms/step\n",
            "Epoch 57/65\n",
            "542/542 - 7s - loss: 1.4810 - accuracy: 0.6106 - 7s/epoch - 13ms/step\n",
            "Epoch 58/65\n",
            "542/542 - 7s - loss: 1.4757 - accuracy: 0.6100 - 7s/epoch - 13ms/step\n",
            "Epoch 59/65\n",
            "542/542 - 7s - loss: 1.4700 - accuracy: 0.6120 - 7s/epoch - 13ms/step\n",
            "Epoch 60/65\n",
            "542/542 - 7s - loss: 1.4659 - accuracy: 0.6124 - 7s/epoch - 13ms/step\n",
            "Epoch 61/65\n",
            "542/542 - 7s - loss: 1.4606 - accuracy: 0.6137 - 7s/epoch - 13ms/step\n",
            "Epoch 62/65\n",
            "542/542 - 7s - loss: 1.4567 - accuracy: 0.6137 - 7s/epoch - 13ms/step\n",
            "Epoch 63/65\n",
            "542/542 - 7s - loss: 1.4518 - accuracy: 0.6152 - 7s/epoch - 13ms/step\n",
            "Epoch 64/65\n",
            "542/542 - 7s - loss: 1.4476 - accuracy: 0.6160 - 7s/epoch - 13ms/step\n",
            "Epoch 65/65\n",
            "542/542 - 7s - loss: 1.4433 - accuracy: 0.6165 - 7s/epoch - 13ms/step\n"
          ]
        }
      ],
      "source": [
        "# Get the untrained model\n",
        "epochs=50\n",
        "model = create_model(total_words, EMBEDDING_DIM, EMBEDDINGS_MATRIX, max_sequence_len)\n",
        "\n",
        "# Train the model\n",
        "history = model.fit(features, labels, epochs=65, verbose=2, batch_size = 512)"
      ]
    },
    {
      "cell_type": "markdown",
      "metadata": {
        "id": "HjrjvcI51nf1"
      },
      "source": [
        "# **6 Accuracy and Loss curves of trainned model**"
      ]
    },
    {
      "cell_type": "code",
      "execution_count": 42,
      "metadata": {
        "id": "CRd1pcFxhJgF",
        "colab": {
          "base_uri": "https://localhost:8080/",
          "height": 545
        },
        "outputId": "ea7da477-bed9-45b4-c768-ff3fc86ac222"
      },
      "outputs": [
        {
          "output_type": "display_data",
          "data": {
            "text/plain": [
              "<Figure size 432x288 with 1 Axes>"
            ],
            "image/png": "[encoded data removed]"
          },
          "metadata": {
            "needs_background": "light"
          }
        },
        {
          "output_type": "display_data",
          "data": {
            "text/plain": [
              "<Figure size 432x288 with 1 Axes>"
            ],
            "image/png": "[encoded data removed]"
          },
          "metadata": {
            "needs_background": "light"
          }
        }
      ],
      "source": [
        "# Take a look at the training curves of your model\n",
        "\n",
        "acc = history.history['accuracy']\n",
        "loss = history.history['loss']\n",
        "\n",
        "epochs = range(len(acc))\n",
        "\n",
        "plt.plot(epochs, acc, 'b', label='Training accuracy')\n",
        "plt.title('Training accuracy')\n",
        "\n",
        "plt.figure()\n",
        "\n",
        "plt.plot(epochs, loss, 'b', label='Training Loss')\n",
        "plt.title('Training loss')\n",
        "plt.legend()\n",
        "\n",
        "plt.show()"
      ]
    },
    {
      "cell_type": "markdown",
      "source": [
        "**Final Results**: Getting 0.6585 accuracy with GLOVE EMBEDDINGS and predicting perfectly on random datasets."
      ],
      "metadata": {
        "id": "UEl9hMeHZl6A"
      }
    },
    {
      "cell_type": "markdown",
      "metadata": {
        "id": "Tm8bOyTG1xFB"
      },
      "source": [
        "# **Download model**"
      ]
    },
    {
      "cell_type": "code",
      "execution_count": 43,
      "metadata": {
        "id": "3ZWGucWihLiK"
      },
      "outputs": [],
      "source": [
        "#download model\n",
        "def download_history():\n",
        "  import pickle\n",
        "  from google.colab import files\n",
        "\n",
        "  with open('history.pkl', 'wb') as f:\n",
        "    pickle.dump(history.history, f)\n",
        "\n",
        "  files.download('NextWord_Generation_EDA.pkl')\n",
        "\n",
        "#download_history()"
      ]
    },
    {
      "cell_type": "markdown",
      "metadata": {
        "id": "2hlVoy3_113a"
      },
      "source": [
        "# **Test model with new sentence**"
      ]
    },
    {
      "cell_type": "code",
      "execution_count": 50,
      "metadata": {
        "id": "5xOOjjoGhNoe"
      },
      "outputs": [],
      "source": [
        "\n",
        "def pred(seed_text): \n",
        "\tnext_words = 3\t\t\n",
        "\tfor _ in range(next_words):\n",
        "\t\t# Convert the text into sequences\n",
        "\t\ttoken_list = tokenizer.texts_to_sequences([seed_text])[0]\n",
        "\t\t# Pad the sequences\n",
        "\t\ttoken_list = pad_sequences([token_list], maxlen=max_sequence_len, padding='pre')\n",
        "\t\t# Get the probabilities of predicting a word\n",
        "\t\tpredicted = model.predict(token_list, verbose=0)\n",
        "\t\t# Choose the next word based on the maximum probability\n",
        "\t\tpredicted = np.argmax(predicted, axis=-1).item()\n",
        "\t\t# Get the actual word from the word index\n",
        "\t\toutput_word = tokenizer.index_word[predicted]\n",
        "\t\t# Append to the current text\n",
        "\t\tseed_text += \" \" + output_word\n",
        "\n",
        "\treturn seed_text\n"
      ]
    },
    {
      "cell_type": "code",
      "source": [
        "seeds = [\"let's watch \", 'watch how to ', 'so neither', 'neither choices']\n",
        "seeds_out = {} \n",
        "# number of tokens to generate\n",
        "num_toks = 3\n",
        "\n",
        "# text generation\n",
        "for i,s in enumerate(seeds):\n",
        "    seeds_out[i] = pred(seeds[i])\n",
        "    \n",
        "\n",
        "print(seeds_out)"
      ],
      "metadata": {
        "id": "Q0K6vTs0h7Vx",
        "colab": {
          "base_uri": "https://localhost:8080/"
        },
        "outputId": "ee0d458f-5686-41c2-daf9-1e84a0068836"
      },
      "execution_count": 87,
      "outputs": [
        {
          "output_type": "stream",
          "name": "stdout",
          "text": [
            "{0: \"let's watch  how to train\", 1: 'watch how to  train your dragon', 2: 'so neither choices are playing', 3: 'neither choices are playing at'}\n"
          ]
        }
      ]
    },
    {
      "cell_type": "markdown",
      "source": [
        "# **Sample Test Data**"
      ],
      "metadata": {
        "id": "0j1sV3VzZGji"
      }
    },
    {
      "cell_type": "code",
      "source": [
        "corpus[60:65]"
      ],
      "metadata": {
        "id": "hkx_4QE2m6pw",
        "colab": {
          "base_uri": "https://localhost:8080/"
        },
        "outputId": "23cad259-3a4e-4e43-a6b9-6990880994b7"
      },
      "execution_count": 81,
      "outputs": [
        {
          "output_type": "execute_result",
          "data": {
            "text/plain": [
              "[\"let's watch how to train your\",\n",
              " 'watch how to train your dragon',\n",
              " 'yes that one',\n",
              " 'so neither choices are playing at',\n",
              " 'neither choices are playing at the']"
            ]
          },
          "metadata": {},
          "execution_count": 81
        }
      ]
    }
  ],
  "metadata": {
    "accelerator": "GPU",
    "colab": {
      "collapsed_sections": [],
      "machine_shape": "hm",
      "name": "NextWord_Generation_EDA_using_LSTM.ipynb",
      "provenance": []
    },
    "gpuClass": "standard",
    "kernelspec": {
      "display_name": "Python 3 (ipykernel)",
      "language": "python",
      "name": "python3"
    },
    "language_info": {
      "codemirror_mode": {
        "name": "ipython",
        "version": 3
      },
      "file_extension": ".py",
      "mimetype": "text/x-python",
      "name": "python",
      "nbconvert_exporter": "python",
      "pygments_lexer": "ipython3",
      "version": "3.8.8"
    }
  },
  "nbformat": 4,
  "nbformat_minor": 0
}