{
  "cells": [
    {
      "cell_type": "code",
      "execution_count": null,
      "id": "5c598bd0",
      "metadata": {
        "id": "5c598bd0"
      },
      "outputs": [],
      "source": [
        "#Importing my sql connector\n",
        "\n",
        "import mysql.connector"
      ]
    },
    {
      "cell_type": "code",
      "execution_count": null,
      "id": "8ff91d55",
      "metadata": {
        "id": "8ff91d55"
      },
      "outputs": [],
      "source": [
        "pip install mysql-connector-python"
      ]
    },
    {
      "cell_type": "code",
      "execution_count": null,
      "id": "665b7703",
      "metadata": {
        "id": "665b7703"
      },
      "outputs": [],
      "source": [
        "pip install Flask-Caching"
      ]
    },
    {
      "cell_type": "code",
      "execution_count": null,
      "id": "e090f679",
      "metadata": {
        "id": "e090f679"
      },
      "outputs": [],
      "source": [
        "#importing flask libraries\n",
        "from flask import Flask\n",
        "from flask_caching import Cache\n",
        "\n",
        "config = {\n",
        "    \"CACHE_TYPE\": \"SimpleCache\",  # caching type\n",
        "    \"CACHE_DEFAULT_TIMEOUT\": 300 # default Cache Timeout\n",
        "}\n",
        "\n",
        "app = Flask(__name__)\n",
        "\n",
        "# Flask to use the above defined config\n",
        "app.config.from_mapping(config)\n",
        "\n",
        "cache = Cache(app)"
      ]
    },
    {
      "cell_type": "code",
      "execution_count": null,
      "id": "fee9ffd3",
      "metadata": {
        "id": "fee9ffd3"
      },
      "outputs": [],
      "source": [
        "#Configuring Cache\n",
        "\n",
        "cache = Cache(config={'CACHE_TYPE': 'SimpleCache'})\n",
        "\n",
        "app = Flask(__name__)\n",
        "cache.init_app(app)"
      ]
    },
    {
      "cell_type": "code",
      "execution_count": null,
      "id": "2759fa66",
      "metadata": {
        "id": "2759fa66"
      },
      "outputs": [],
      "source": [
        "cache = Cache(config={'CACHE_TYPE': 'SimpleCache'})"
      ]
    },
    {
      "cell_type": "code",
      "execution_count": null,
      "id": "fb913d60",
      "metadata": {
        "id": "fb913d60"
      },
      "outputs": [],
      "source": [
        "cache.init_app(app, config={'CACHE_TYPE': 'SimpleCache'})"
      ]
    },
    {
      "cell_type": "code",
      "execution_count": null,
      "id": "d4edc81d",
      "metadata": {
        "id": "d4edc81d"
      },
      "outputs": [],
      "source": [
        "#Importing flask's required libraries\n",
        "\n",
        "from flask import Flask, request, jsonify, render_template\n",
        "from flaskext.mysql import MySQL"
      ]
    },
    {
      "cell_type": "code",
      "execution_count": null,
      "id": "61c5d41a",
      "metadata": {
        "id": "61c5d41a"
      },
      "outputs": [],
      "source": [
        " pip install Flask-Cors"
      ]
    },
    {
      "cell_type": "code",
      "execution_count": null,
      "id": "1f94006f",
      "metadata": {
        "id": "1f94006f",
        "outputId": "9df97248-1f0b-4c85-d458-38fb0bb58e42"
      },
      "outputs": [
        {
          "data": {
            "text/plain": [
              "<flask_cors.extension.CORS at 0x1b5f1406610>"
            ]
          },
          "execution_count": 8,
          "metadata": {},
          "output_type": "execute_result"
        }
      ],
      "source": [
        "#Initialising flask\n",
        "\n",
        "from flask_cors import CORS\n",
        "\n",
        "app=Flask(__name__)\n",
        "CORS(app)"
      ]
    },
    {
      "cell_type": "code",
      "execution_count": null,
      "id": "3b9f4665",
      "metadata": {
        "id": "3b9f4665"
      },
      "outputs": [],
      "source": [
        "mysql = MySQL()\n",
        "\n",
        "#Set database credentials in config.\n",
        "app.config['MYSQL_DATABASE_USER'] = 'root'\n",
        "app.config['MYSQL_DATABASE_PASSWORD'] = 'root'\n",
        "app.config['MYSQL_DATABASE_DB'] = 'nextwordpredection'\n",
        "app.config['MYSQL_DATABASE_HOST'] = 'localhost'\n"
      ]
    },
    {
      "cell_type": "code",
      "execution_count": null,
      "id": "43cb9c41",
      "metadata": {
        "id": "43cb9c41"
      },
      "outputs": [],
      "source": [
        "mysql.init_app(app)"
      ]
    },
    {
      "cell_type": "code",
      "execution_count": null,
      "id": "986e5315",
      "metadata": {
        "id": "986e5315"
      },
      "outputs": [],
      "source": [
        "# Creating a function to execute the queries and redirect to a new html page to print the cache history\n",
        "\n",
        "@app.route('/')\n",
        "@cache.cached()\n",
        "@cache.cached(timeout=50)\n",
        "def users():\n",
        "    conn = None\n",
        "    cursor = None\n",
        "    try:\n",
        "        conn = mysql.connect()\n",
        "        cursor = conn.cursor(pymysql.cursors.DictCursor)\n",
        "        cursor.execute(\"SELECT * FROM user\")\n",
        "        rows = cursor.fetchall()\n",
        "        print(rows)\n",
        "        return render_template('index.html', rows=rows)\n",
        "    except Exception as e:\n",
        "        print(e)\n",
        "    finally:\n",
        "        if cursor:\n",
        "            cursor.close()\n",
        "        if conn:\n",
        "            conn.close()"
      ]
    },
    {
      "cell_type": "code",
      "execution_count": null,
      "id": "0c2a11d5",
      "metadata": {
        "id": "0c2a11d5"
      },
      "outputs": [],
      "source": [
        "#Rendering all cache history for different users\n",
        "\n",
        "@cache.cached(timeout=50, key_prefix='all_comments')\n",
        "def get_all_comments():\n",
        "    comments = do_serious_dbio()\n",
        "    return [x.author for x in comments]\n",
        "\n",
        "cached_comments = get_all_comments()"
      ]
    }
  ],
  "metadata": {
    "kernelspec": {
      "display_name": "Python 3",
      "language": "python",
      "name": "python3"
    },
    "language_info": {
      "codemirror_mode": {
        "name": "ipython",
        "version": 3
      },
      "file_extension": ".py",
      "mimetype": "text/x-python",
      "name": "python",
      "nbconvert_exporter": "python",
      "pygments_lexer": "ipython3",
      "version": "3.8.8"
    },
    "colab": {
      "name": "Caching.ipynb",
      "provenance": []
    }
  },
  "nbformat": 4,
  "nbformat_minor": 5
}